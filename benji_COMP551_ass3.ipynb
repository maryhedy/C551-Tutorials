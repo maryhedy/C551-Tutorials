{
  "nbformat": 4,
  "nbformat_minor": 0,
  "metadata": {
    "colab": {
      "name": "Copy of COMP551-ass3.ipynb",
      "provenance": [],
      "collapsed_sections": [],
      "include_colab_link": true
    },
    "kernelspec": {
      "name": "python3",
      "display_name": "Python 3"
    },
    "language_info": {
      "name": "python"
    },
    "accelerator": "GPU"
  },
  "cells": [
    {
      "cell_type": "markdown",
      "metadata": {
        "id": "view-in-github",
        "colab_type": "text"
      },
      "source": [
        "<a href=\"https://colab.research.google.com/github/maryhedy/C551-Tutorials/blob/master/benji_COMP551_ass3.ipynb\" target=\"_parent\"><img src=\"https://colab.research.google.com/assets/colab-badge.svg\" alt=\"Open In Colab\"/></a>"
      ]
    },
    {
      "cell_type": "code",
      "metadata": {
        "colab": {
          "base_uri": "https://localhost:8080/"
        },
        "id": "0Os_0oAYKN4d",
        "outputId": "0aa9192f-34a3-40ac-8539-133c0ba47731"
      },
      "source": [
        "# Mounting the google drive to read the dataset\n",
        "\n",
        "from google.colab import drive\n",
        "import pickle \n",
        "\n",
        "drive.mount('/content/drive' , force_remount=True)\n",
        "\n",
        "DATA_PATH = \"/content/drive/MyDrive/COMP551-assignment3/data/\"\n",
        "\n",
        "with open(DATA_PATH+'images_l.pkl' ,'rb') as f: images_l=pickle.load(f)\n",
        "with open(DATA_PATH+'images_test.pkl' ,'rb') as f: images_test=pickle.load(f)\n",
        "with open(DATA_PATH+'images_ul.pkl' ,'rb') as f: images_ul=pickle.load(f)\n",
        "with open(DATA_PATH+'labels_l.pkl' ,'rb') as f: labels_l=pickle.load(f)"
      ],
      "execution_count": null,
      "outputs": [
        {
          "output_type": "stream",
          "name": "stdout",
          "text": [
            "Mounted at /content/drive\n"
          ]
        }
      ]
    },
    {
      "cell_type": "code",
      "metadata": {
        "id": "oaSj9ZbdKWG7"
      },
      "source": [
        "# Importing the essential packages\n",
        "\n",
        "import torch\n",
        "import pickle\n",
        "import time\n",
        "import cv2\n",
        "\n",
        "import numpy as np\n",
        "import matplotlib.pyplot as plt\n",
        "\n",
        "import torch.optim as optim\n",
        "import torch.nn as nn\n",
        "\n",
        "import tensorflow as tf\n",
        "\n",
        "from torch.utils.data import Dataset, DataLoader\n",
        "from torchvision.transforms import Compose\n",
        "from sklearn.preprocessing import StandardScaler\n",
        "from sklearn.metrics import accuracy_score\n",
        "\n"
      ],
      "execution_count": null,
      "outputs": []
    },
    {
      "cell_type": "code",
      "metadata": {
        "id": "N2GjI83T2JWW"
      },
      "source": [
        "from keras.models import Sequential\n",
        "from keras.layers import Dense, Dropout, Flatten, Conv2D, MaxPooling2D, ZeroPadding2D\n",
        "\n",
        "def cnnNumbers():\n",
        "    # create model\n",
        "    model = Sequential()\n",
        "    model.add(ZeroPadding2D((1,1),input_shape=(56,56,1)))\n",
        "    model.add(Conv2D(32, kernel_size=(3, 3), activation='relu'))\n",
        "    model.add(ZeroPadding2D((1,1)))\n",
        "    model.add(Conv2D(32, kernel_size=(3, 3), activation='relu'))\n",
        "    model.add(MaxPooling2D(pool_size=(2, 2)))\n",
        "\n",
        "    model.add(ZeroPadding2D((1,1)))\n",
        "    model.add(Conv2D(64, kernel_size=(3, 3), activation='relu'))\n",
        "    model.add(ZeroPadding2D((1,1)))\n",
        "    model.add(Conv2D(64, kernel_size=(3, 3), activation='relu'))\n",
        "    model.add(MaxPooling2D(pool_size=(2, 2)))\n",
        "    model.add(Dropout(0.5))\n",
        "\n",
        "    model.add(Flatten())\n",
        "    model.add(Dense(512, activation='relu'))\n",
        "    model.add(Dropout(0.5))\n",
        "    model.add(Dense(10, activation='softmax'))\n",
        "    # Compile\n",
        "    model.compile(loss='categorical_crossentropy', optimizer='adam', metrics=['accuracy'])\n",
        "    return model\n"
      ],
      "execution_count": null,
      "outputs": []
    },
    {
      "cell_type": "code",
      "metadata": {
        "id": "VsJvACKptY3I",
        "colab": {
          "base_uri": "https://localhost:8080/"
        },
        "outputId": "7b915d16-d9a9-4d0e-8847-4c8feef132cf"
      },
      "source": [
        "images_l /= 255\n",
        "images_test /= 255\n",
        "images_l = images_l.reshape(-1, 56, 56, 1)\n",
        "images_test = images_test.reshape(-1, 56, 56, 1)\n",
        "# images_l = images_l.astype('float32')\n",
        "# images_test = images_test.astype('float32')\n",
        "\n",
        "\n",
        "\n",
        "print(images_l.shape)"
      ],
      "execution_count": null,
      "outputs": [
        {
          "output_type": "stream",
          "name": "stdout",
          "text": [
            "(30000, 56, 56, 1)\n"
          ]
        }
      ]
    },
    {
      "cell_type": "code",
      "metadata": {
        "colab": {
          "base_uri": "https://localhost:8080/"
        },
        "id": "XPZow1ypoTcX",
        "outputId": "bb46c3cc-29d4-4f83-fdbd-f9285b54e47d"
      },
      "source": [
        "images_val = images_l[25000:]\n",
        "images_l = images_l[0:25000]\n",
        "\n",
        "\n",
        "numbers_val = labels_l[25000: , 0:10]\n",
        "numbers = labels_l[0:25000,0:10]\n",
        "\n",
        "\n",
        "print(images_val.shape)\n",
        "print(numbers_val.shape)\n",
        "print(images_l.shape)\n",
        "print(numbers.shape)"
      ],
      "execution_count": null,
      "outputs": [
        {
          "output_type": "stream",
          "name": "stdout",
          "text": [
            "(5000, 56, 56, 1)\n",
            "(5000, 10)\n",
            "(25000, 56, 56, 1)\n",
            "(25000, 10)\n"
          ]
        }
      ]
    },
    {
      "cell_type": "code",
      "metadata": {
        "colab": {
          "base_uri": "https://localhost:8080/"
        },
        "id": "6GqylvETXMsR",
        "outputId": "0c02967c-cb86-45df-f530-545ffa10fc86"
      },
      "source": [
        "model = cnnNumbers()\n",
        "hist = model.fit(images_l, numbers, batch_size=100, epochs = 20)"
      ],
      "execution_count": null,
      "outputs": [
        {
          "output_type": "stream",
          "name": "stdout",
          "text": [
            "Epoch 1/20\n",
            "250/250 [==============================] - 13s 49ms/step - loss: 2.1453 - accuracy: 0.1958\n",
            "Epoch 2/20\n",
            "250/250 [==============================] - 12s 48ms/step - loss: 1.3805 - accuracy: 0.5203\n",
            "Epoch 3/20\n",
            "250/250 [==============================] - 12s 49ms/step - loss: 0.8488 - accuracy: 0.7215\n",
            "Epoch 4/20\n",
            "250/250 [==============================] - 12s 49ms/step - loss: 0.5964 - accuracy: 0.8049\n",
            "Epoch 5/20\n",
            "250/250 [==============================] - 12s 49ms/step - loss: 0.4634 - accuracy: 0.8501\n",
            "Epoch 6/20\n",
            "250/250 [==============================] - 12s 49ms/step - loss: 0.3735 - accuracy: 0.8748\n",
            "Epoch 7/20\n",
            "250/250 [==============================] - 12s 48ms/step - loss: 0.3026 - accuracy: 0.8995\n",
            "Epoch 8/20\n",
            "250/250 [==============================] - 12s 48ms/step - loss: 0.2585 - accuracy: 0.9160\n",
            "Epoch 9/20\n",
            "250/250 [==============================] - 12s 49ms/step - loss: 0.2224 - accuracy: 0.9248\n",
            "Epoch 10/20\n",
            "250/250 [==============================] - 12s 49ms/step - loss: 0.1974 - accuracy: 0.9332\n",
            "Epoch 11/20\n",
            "250/250 [==============================] - 12s 48ms/step - loss: 0.1808 - accuracy: 0.9396\n",
            "Epoch 12/20\n",
            "250/250 [==============================] - 12s 48ms/step - loss: 0.1518 - accuracy: 0.9493\n",
            "Epoch 13/20\n",
            "250/250 [==============================] - 12s 49ms/step - loss: 0.1432 - accuracy: 0.9535\n",
            "Epoch 14/20\n",
            "250/250 [==============================] - 12s 49ms/step - loss: 0.1356 - accuracy: 0.9550\n",
            "Epoch 15/20\n",
            "250/250 [==============================] - 12s 49ms/step - loss: 0.1206 - accuracy: 0.9601\n",
            "Epoch 16/20\n",
            "250/250 [==============================] - 12s 48ms/step - loss: 0.1209 - accuracy: 0.9592\n",
            "Epoch 17/20\n",
            "250/250 [==============================] - 12s 49ms/step - loss: 0.1087 - accuracy: 0.9648\n",
            "Epoch 18/20\n",
            "250/250 [==============================] - 12s 49ms/step - loss: 0.1101 - accuracy: 0.9646\n",
            "Epoch 19/20\n",
            "250/250 [==============================] - 12s 49ms/step - loss: 0.0978 - accuracy: 0.9671\n",
            "Epoch 20/20\n",
            "250/250 [==============================] - 12s 49ms/step - loss: 0.0906 - accuracy: 0.9704\n"
          ]
        }
      ]
    },
    {
      "cell_type": "code",
      "metadata": {
        "id": "l3vuOf6ArZAK"
      },
      "source": [
        "predictions = model.predict(images_val)\n",
        "\n",
        "arr = np.zeros_like(predictions)\n",
        "arr[np.arange(len(predictions)), predictions.argmax(1)] = 1 \n"
      ],
      "execution_count": null,
      "outputs": []
    },
    {
      "cell_type": "code",
      "metadata": {
        "colab": {
          "base_uri": "https://localhost:8080/"
        },
        "id": "BkpHpu8dR7Ek",
        "outputId": "99cfa044-936f-46a3-c841-63083536cce5"
      },
      "source": [
        "\n",
        "equiv =(numbers_val == arr).all(axis=1)\n",
        "\n",
        "accuracy = sum(equiv)/len(numbers_val)\n",
        "\n",
        "print(accuracy)\n",
        "\n",
        "\n",
        "\n",
        "\n"
      ],
      "execution_count": null,
      "outputs": [
        {
          "output_type": "stream",
          "name": "stdout",
          "text": [
            "0.9004\n"
          ]
        }
      ]
    },
    {
      "cell_type": "code",
      "metadata": {
        "id": "EmqAblszXPM_"
      },
      "source": [
        "def cnnLetters():\n",
        "  model = Sequential()\n",
        "  model.add(ZeroPadding2D((1,1),input_shape=(56,56,1)))\n",
        "  model.add(Conv2D(32, kernel_size=(3, 3), activation='relu'))\n",
        "  model.add(ZeroPadding2D((1,1)))\n",
        "  model.add(Conv2D(32, kernel_size=(3, 3), activation='relu'))\n",
        "  model.add(MaxPooling2D(pool_size=(2, 2)))\n",
        "\n",
        "  model.add(ZeroPadding2D((1,1)))\n",
        "  model.add(Conv2D(64, kernel_size=(3, 3), activation='relu'))\n",
        "  model.add(ZeroPadding2D((1,1)))\n",
        "  model.add(Conv2D(64, kernel_size=(3, 3), activation='relu'))\n",
        "  model.add(MaxPooling2D(pool_size=(2, 2)))\n",
        "  model.add(Dropout(0.5))\n",
        "\n",
        "  model.add(Flatten())\n",
        "  model.add(Dense(512, activation='relu'))\n",
        "  model.add(Dropout(0.5))\n",
        "  model.add(Dense(26, activation='softmax'))\n",
        "  # Compile\n",
        "  model.compile(loss='categorical_crossentropy', optimizer='adam', metrics=['accuracy'])\n",
        "  return model"
      ],
      "execution_count": null,
      "outputs": []
    },
    {
      "cell_type": "code",
      "metadata": {
        "id": "wNQNl4EdXPTs"
      },
      "source": [
        "letters_val = labels_l[25000: , 10:]\n",
        "letters = labels_l[0:25000, 10:]"
      ],
      "execution_count": null,
      "outputs": []
    },
    {
      "cell_type": "code",
      "metadata": {
        "colab": {
          "base_uri": "https://localhost:8080/"
        },
        "id": "-URD3SAcXklG",
        "outputId": "36d18548-2697-44c2-dacb-b3d538444bd8"
      },
      "source": [
        "model_l = cnnLetters()\n",
        "hist = model_l.fit(images_l, letters, batch_size=100, epochs = 35)"
      ],
      "execution_count": null,
      "outputs": [
        {
          "output_type": "stream",
          "name": "stdout",
          "text": [
            "Epoch 1/30\n",
            "250/250 [==============================] - 13s 49ms/step - loss: 3.2175 - accuracy: 0.0513\n",
            "Epoch 2/30\n",
            "250/250 [==============================] - 12s 49ms/step - loss: 3.1318 - accuracy: 0.0704\n",
            "Epoch 3/30\n",
            "250/250 [==============================] - 12s 49ms/step - loss: 3.0446 - accuracy: 0.0899\n",
            "Epoch 4/30\n",
            "250/250 [==============================] - 12s 48ms/step - loss: 2.9137 - accuracy: 0.1248\n",
            "Epoch 5/30\n",
            "250/250 [==============================] - 12s 49ms/step - loss: 2.7795 - accuracy: 0.1637\n",
            "Epoch 6/30\n",
            "250/250 [==============================] - 12s 49ms/step - loss: 2.5694 - accuracy: 0.2138\n",
            "Epoch 7/30\n",
            "250/250 [==============================] - 12s 49ms/step - loss: 2.3292 - accuracy: 0.2792\n",
            "Epoch 8/30\n",
            "250/250 [==============================] - 12s 49ms/step - loss: 2.0204 - accuracy: 0.3707\n",
            "Epoch 9/30\n",
            "250/250 [==============================] - 12s 48ms/step - loss: 1.7375 - accuracy: 0.4580\n",
            "Epoch 10/30\n",
            "250/250 [==============================] - 12s 48ms/step - loss: 1.4616 - accuracy: 0.5368\n",
            "Epoch 11/30\n",
            "250/250 [==============================] - 12s 48ms/step - loss: 1.2655 - accuracy: 0.5922\n",
            "Epoch 12/30\n",
            "250/250 [==============================] - 12s 48ms/step - loss: 1.0983 - accuracy: 0.6434\n",
            "Epoch 13/30\n",
            "250/250 [==============================] - 12s 48ms/step - loss: 0.9554 - accuracy: 0.6910\n",
            "Epoch 14/30\n",
            "250/250 [==============================] - 12s 48ms/step - loss: 0.8530 - accuracy: 0.7232\n",
            "Epoch 15/30\n",
            "250/250 [==============================] - 12s 48ms/step - loss: 0.7704 - accuracy: 0.7498\n",
            "Epoch 16/30\n",
            "250/250 [==============================] - 12s 48ms/step - loss: 0.6863 - accuracy: 0.7760\n",
            "Epoch 17/30\n",
            "250/250 [==============================] - 12s 49ms/step - loss: 0.6362 - accuracy: 0.7920\n",
            "Epoch 18/30\n",
            "250/250 [==============================] - 12s 48ms/step - loss: 0.5814 - accuracy: 0.8082\n",
            "Epoch 19/30\n",
            "250/250 [==============================] - 12s 48ms/step - loss: 0.5519 - accuracy: 0.8167\n",
            "Epoch 20/30\n",
            "250/250 [==============================] - 12s 48ms/step - loss: 0.5050 - accuracy: 0.8335\n",
            "Epoch 21/30\n",
            "250/250 [==============================] - 12s 49ms/step - loss: 0.4624 - accuracy: 0.8482\n",
            "Epoch 22/30\n",
            "250/250 [==============================] - 12s 49ms/step - loss: 0.4306 - accuracy: 0.8568\n",
            "Epoch 23/30\n",
            "250/250 [==============================] - 12s 49ms/step - loss: 0.4107 - accuracy: 0.8656\n",
            "Epoch 24/30\n",
            "250/250 [==============================] - 12s 49ms/step - loss: 0.4027 - accuracy: 0.8655\n",
            "Epoch 25/30\n",
            "250/250 [==============================] - 12s 49ms/step - loss: 0.3832 - accuracy: 0.8711\n",
            "Epoch 26/30\n",
            "250/250 [==============================] - 12s 48ms/step - loss: 0.3647 - accuracy: 0.8787\n",
            "Epoch 27/30\n",
            "250/250 [==============================] - 12s 49ms/step - loss: 0.3532 - accuracy: 0.8823\n",
            "Epoch 28/30\n",
            "250/250 [==============================] - 12s 49ms/step - loss: 0.3334 - accuracy: 0.8884\n",
            "Epoch 29/30\n",
            "250/250 [==============================] - 12s 49ms/step - loss: 0.3287 - accuracy: 0.8912\n",
            "Epoch 30/30\n",
            "250/250 [==============================] - 12s 49ms/step - loss: 0.3163 - accuracy: 0.8974\n"
          ]
        }
      ]
    },
    {
      "cell_type": "code",
      "metadata": {
        "id": "xexTyucRYARv"
      },
      "source": [
        "predictions_l = model_l.predict(images_val)\n",
        "\n",
        "arr_l = np.zeros_like(predictions_l)\n",
        "arr_l[np.arange(len(predictions_l)), predictions_l.argmax(1)] = 1 "
      ],
      "execution_count": null,
      "outputs": []
    },
    {
      "cell_type": "code",
      "metadata": {
        "colab": {
          "base_uri": "https://localhost:8080/"
        },
        "id": "UO_ag2nCYg5s",
        "outputId": "7d6b57cc-e5a8-4331-ac78-dec634b757fd"
      },
      "source": [
        "\n",
        "equiv_l =(letters_val == arr_l).all(axis=1)\n",
        "\n",
        "acc = sum(equiv_l)/len(letters_val)\n",
        "\n",
        "print(acc)\n"
      ],
      "execution_count": null,
      "outputs": [
        {
          "output_type": "stream",
          "name": "stdout",
          "text": [
            "0.5892\n"
          ]
        }
      ]
    },
    {
      "cell_type": "code",
      "metadata": {
        "colab": {
          "base_uri": "https://localhost:8080/"
        },
        "id": "d6qC2MbpZkvk",
        "outputId": "ba53106e-ec34-4015-c51b-683448eef074"
      },
      "source": [
        "#concate solution\n",
        "\n",
        "solution = np.hstack((arr, arr_l))\n",
        "\n",
        "total_equiv = (labels_l[25000:] == solution).all(axis=1) \n",
        "\n",
        "acc_total = sum(total_equiv)/len(solution)\n",
        "\n",
        "print(acc_total)"
      ],
      "execution_count": null,
      "outputs": [
        {
          "output_type": "stream",
          "name": "stdout",
          "text": [
            "0.5416\n"
          ]
        }
      ]
    },
    {
      "cell_type": "code",
      "metadata": {
        "id": "_bTqyPdrmQ9T"
      },
      "source": [
        "#just for kaggle submission\n",
        "import pandas\n",
        "\n",
        "final_list = []\n",
        "for i, id in enumerate(solution.astype('int')):\n",
        "  final_list.append([i, ''.join(str(i) for i in id)])\n",
        "  \n",
        "\n",
        "\n",
        "df = pandas.DataFrame(final_list)\n",
        "df.columns = ['# Id','Category']\n",
        "\n",
        "df.to_csv('./submission.csv', index=False)"
      ],
      "execution_count": null,
      "outputs": []
    }
  ]
}