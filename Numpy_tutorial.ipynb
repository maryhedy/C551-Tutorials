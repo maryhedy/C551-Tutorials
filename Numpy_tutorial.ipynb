{
 "cells": [
  {
   "cell_type": "markdown",
   "metadata": {
    "colab_type": "text",
    "id": "Dxh_j2XBC5VO"
   },
   "source": [
    "<h1 align=center>An Intro to Python for Applied Machine Learning</a></h1>\n",
    "<h2 align=center>Amy Zhang (<font size=\"-1\"> built on material by </font> Yutong Yan)</h2>"
   ]
  },
  {
   "cell_type": "markdown",
   "metadata": {
    "colab_type": "text",
    "id": "w57U-EMdC5VP"
   },
   "source": [
    "## Outline for Today\n",
    "\n",
    "- <font color='blue'>Basic Python</font>:<br>\n",
    "\n",
    "    - <font color='green'>Basic Data Types (Numbers, Booleans, Strings)</font> <br>\n",
    "    - <font color='green'>Data Structures (Lists, Dicts, Tuples)</font><br>\n",
    "    - <font color='green'>Control Flow</font><br>\n",
    "    - <font color='green'>All Things Functional</font><br>\n",
    "    - <font color='green'>Saving/Loading Things</font><br>\n",
    "    - <font color='green'>Classes in Python</font><br>\n",
    "    \n",
    "- <font color='blue'>Numpy Intro</font>:\n",
    "    - <font color='green'>Numpy arrays</font><br>\n",
    "    - <font color='green'>Array math</font><br><br>\n",
    "   \n",
    "- <font color='blue'>Matplotlib intro</font><br>\n",
    "\n",
    "- <font color='blue'>Practice problems</font><br>\n",
    "    "
   ]
  },
  {
   "cell_type": "markdown",
   "metadata": {
    "colab_type": "text",
    "id": "AwU_igFrEn0o"
   },
   "source": [
    "## To create a new notebook:\n",
    " - Click File\n",
    " - Click New Python 3 Notebook"
   ]
  },
  {
   "cell_type": "markdown",
   "metadata": {
    "colab_type": "text",
    "id": "zZFX_lB-C5VP"
   },
   "source": [
    "## Python Versions, Packages, and Notebooks\n",
    "\n",
    "There are two major versions of python, Python2 and Python3. Here we will use **Python 3**.\n",
    "\n",
    "You can check your Python version at the command line by running ```python --version.```\n",
    "\n",
    "For scientific computing, we recommend using the [Anaconda](https://docs.continuum.io/anaconda/) distribution. It comes with most of the basic tools you need (numpy, scipy, matplotlib), and even some ML libraries (tensorflow, theano, scikit-learn). You can download Anaconda distribution [here](https://www.continuum.io/downloads)\n",
    "\n",
    "Anaconda also comes with the Jupyter notebook (used here). You can start a notebook from the command line using ```jupyter notebook```"
   ]
  },
  {
   "cell_type": "markdown",
   "metadata": {
    "colab_type": "text",
    "id": "-CjjG4nhbt0A"
   },
   "source": [
    "## If you're already familiar with Python 2\n",
    "Here are some important differences between Python 2 and Python 3 that apply to this tutorial. \n",
    "<br><br>\n",
    "Python 3:\n",
    "- Requires parentheses after print statement\n",
    "- range returns a range instead of a list\n",
    "- Division results in float\n",
    "- 'reduce' is removed (not really)\n",
    "- map, filter return map/filter object, not a list\n",
    "\n",
    "---\n",
    "\n",
    "\n",
    "<br>\n",
    "For the full list of differences, please refer to :\n",
    "https://sebastianraschka.com/Articles/2014_python_2_3_key_diff.html\n",
    "\n",
    "\n",
    "\n",
    "\n"
   ]
  },
  {
   "cell_type": "markdown",
   "metadata": {
    "colab_type": "text",
    "id": "mfRO9klwC5VQ"
   },
   "source": [
    "# Basic Python"
   ]
  },
  {
   "cell_type": "markdown",
   "metadata": {
    "colab_type": "text",
    "id": "cBqAww9NC5VR"
   },
   "source": [
    "For a more in-depth refresher on Python, consult [The Python Tutorial](https://docs.python.org/2/tutorial/index.html)"
   ]
  },
  {
   "cell_type": "markdown",
   "metadata": {
    "colab_type": "text",
    "id": "D1NensvkC5VT"
   },
   "source": [
    "## Data Types"
   ]
  },
  {
   "cell_type": "markdown",
   "metadata": {
    "colab_type": "text",
    "id": "yE9Wu0KOC5VU"
   },
   "source": [
    "### Numbers"
   ]
  },
  {
   "cell_type": "code",
   "execution_count": 1,
   "metadata": {
    "colab": {
     "base_uri": "https://localhost:8080/",
     "height": 34
    },
    "colab_type": "code",
    "executionInfo": {
     "elapsed": 702,
     "status": "ok",
     "timestamp": 1579558543109,
     "user": {
      "displayName": "Yutong Yan",
      "photoUrl": "https://lh3.googleusercontent.com/a-/AAuE7mCsL-LlMqYWLvFkaFRKbEKS-Sn18SBeWP9pEGFJ=s64",
      "userId": "12381088397448513568"
     },
     "user_tz": 300
    },
    "id": "FAtTLk5NC5VU",
    "outputId": "a897e7d5-4c99-4c72-ff9c-ea7c4b53ff8d"
   },
   "outputs": [
    {
     "data": {
      "text/plain": [
       "4"
      ]
     },
     "execution_count": 1,
     "metadata": {},
     "output_type": "execute_result"
    }
   ],
   "source": [
    "# This is a comment\n",
    "2+2"
   ]
  },
  {
   "cell_type": "code",
   "execution_count": 2,
   "metadata": {
    "colab": {
     "base_uri": "https://localhost:8080/",
     "height": 51
    },
    "colab_type": "code",
    "executionInfo": {
     "elapsed": 792,
     "status": "ok",
     "timestamp": 1579562287161,
     "user": {
      "displayName": "Yutong Yan",
      "photoUrl": "https://lh3.googleusercontent.com/a-/AAuE7mCsL-LlMqYWLvFkaFRKbEKS-Sn18SBeWP9pEGFJ=s64",
      "userId": "12381088397448513568"
     },
     "user_tz": 300
    },
    "id": "UZpMt9zjC5VZ",
    "outputId": "eb40ae11-9d8b-4ba3-8106-5ec05658cda4"
   },
   "outputs": [
    {
     "name": "stdout",
     "output_type": "stream",
     "text": [
      "x, type(x):  2 , <class 'int'>\n",
      "x, type(x):  5.666666666666667 , <class 'float'>\n"
     ]
    }
   ],
   "source": [
    "x = 6//3       # Type does not need to be declared, Python infers it for you\n",
    "print (\"x, type(x): \", x,\",\", type(x) ) # This will give an int\n",
    "\n",
    "x = 17 / 3\n",
    "print (\"x, type(x): \", x,\",\", type(x)) # This will give a float"
   ]
  },
  {
   "cell_type": "code",
   "execution_count": 3,
   "metadata": {
    "colab": {
     "base_uri": "https://localhost:8080/",
     "height": 51
    },
    "colab_type": "code",
    "executionInfo": {
     "elapsed": 547,
     "status": "ok",
     "timestamp": 1579558546790,
     "user": {
      "displayName": "Yutong Yan",
      "photoUrl": "https://lh3.googleusercontent.com/a-/AAuE7mCsL-LlMqYWLvFkaFRKbEKS-Sn18SBeWP9pEGFJ=s64",
      "userId": "12381088397448513568"
     },
     "user_tz": 300
    },
    "id": "Zq1MKhEIC5Vc",
    "outputId": "0425d4d9-0393-4b6b-b504-e16fdff86e09"
   },
   "outputs": [
    {
     "name": "stdout",
     "output_type": "stream",
     "text": [
      "x+1, x*2, x**2:  4 , 6 , 9\n",
      "x = 4\n"
     ]
    }
   ],
   "source": [
    "x = 3\n",
    "print (\"x+1, x*2, x**2: \", x+1,\",\", x*2,\",\", x**2)\n",
    "x += 1 # x = x + 1\n",
    "print (\"x =\", x)"
   ]
  },
  {
   "cell_type": "markdown",
   "metadata": {
    "colab_type": "text",
    "id": "-Fd3n8kVtqD0"
   },
   "source": [
    "Something to watch out for. The limitations of floating point representations"
   ]
  },
  {
   "cell_type": "code",
   "execution_count": 4,
   "metadata": {
    "colab": {
     "base_uri": "https://localhost:8080/",
     "height": 34
    },
    "colab_type": "code",
    "executionInfo": {
     "elapsed": 748,
     "status": "ok",
     "timestamp": 1579558548879,
     "user": {
      "displayName": "Yutong Yan",
      "photoUrl": "https://lh3.googleusercontent.com/a-/AAuE7mCsL-LlMqYWLvFkaFRKbEKS-Sn18SBeWP9pEGFJ=s64",
      "userId": "12381088397448513568"
     },
     "user_tz": 300
    },
    "id": "Q-66NZvNtxKM",
    "outputId": "851af287-ddc7-4256-a63a-85d77d91456f"
   },
   "outputs": [
    {
     "data": {
      "text/plain": [
       "False"
      ]
     },
     "execution_count": 4,
     "metadata": {},
     "output_type": "execute_result"
    }
   ],
   "source": [
    ".1 + .1 +.1 == .3 # because of the way .1 is represented in binary, these are not equal\n",
    "                  # keep this in mind when you are coding"
   ]
  },
  {
   "cell_type": "markdown",
   "metadata": {
    "colab_type": "text",
    "id": "Q9mFNZNgC5Vk"
   },
   "source": [
    "### Booleans"
   ]
  },
  {
   "cell_type": "code",
   "execution_count": 5,
   "metadata": {
    "colab": {
     "base_uri": "https://localhost:8080/",
     "height": 102
    },
    "colab_type": "code",
    "executionInfo": {
     "elapsed": 552,
     "status": "ok",
     "timestamp": 1579558552256,
     "user": {
      "displayName": "Yutong Yan",
      "photoUrl": "https://lh3.googleusercontent.com/a-/AAuE7mCsL-LlMqYWLvFkaFRKbEKS-Sn18SBeWP9pEGFJ=s64",
      "userId": "12381088397448513568"
     },
     "user_tz": 300
    },
    "id": "-xoVEGcNC5Vm",
    "outputId": "13a2b41a-8668-43e3-d1aa-4cc989172819"
   },
   "outputs": [
    {
     "name": "stdout",
     "output_type": "stream",
     "text": [
      "x and y :  False\n",
      "x or y :  True\n",
      "not x :  False\n",
      "x != y :  True\n",
      "x == y :  False\n"
     ]
    }
   ],
   "source": [
    "x = True\n",
    "y = False\n",
    "\n",
    "print( \"x and y : \", x and y) # logical and\n",
    "print (\"x or y : \", x or y)  # logical or\n",
    "print (\"not x : \", not x)   # logical not\n",
    "print (\"x != y : \", x != y)  # logical xor\n",
    "print (\"x == y : \", x == y )"
   ]
  },
  {
   "cell_type": "markdown",
   "metadata": {
    "colab_type": "text",
    "id": "Wdwv5gIPC5Vq"
   },
   "source": [
    "### Strings"
   ]
  },
  {
   "cell_type": "code",
   "execution_count": 6,
   "metadata": {
    "colab": {
     "base_uri": "https://localhost:8080/",
     "height": 153
    },
    "colab_type": "code",
    "executionInfo": {
     "elapsed": 509,
     "status": "ok",
     "timestamp": 1579558554332,
     "user": {
      "displayName": "Yutong Yan",
      "photoUrl": "https://lh3.googleusercontent.com/a-/AAuE7mCsL-LlMqYWLvFkaFRKbEKS-Sn18SBeWP9pEGFJ=s64",
      "userId": "12381088397448513568"
     },
     "user_tz": 300
    },
    "id": "IUvRN2VdC5Vr",
    "outputId": "f74ac9fb-1138-409d-ef9f-dccbc0006a36"
   },
   "outputs": [
    {
     "name": "stdout",
     "output_type": "stream",
     "text": [
      "Hello World\n",
      "H\n",
      "Hel\n",
      "lo World\n",
      "HelloWorld\n",
      "11\n",
      "Hello World 42\n",
      "Hello World 42\n"
     ]
    }
   ],
   "source": [
    "greet = 'Hello World'\n",
    "print (greet)\n",
    "print (greet[0])\n",
    "print (greet[0:3]) #[inclusive,exclusive]\n",
    "print( greet[3:])\n",
    "print (\"Hello\" + 'World')\n",
    "print( len(greet)) # Gives the length of string\n",
    "print (greet + ' ' + str(42))\n",
    "print (greet, 42)"
   ]
  },
  {
   "cell_type": "markdown",
   "metadata": {
    "colab_type": "text",
    "id": "WV3rpw7xC5Vu"
   },
   "source": [
    "Some string methods:"
   ]
  },
  {
   "cell_type": "code",
   "execution_count": 7,
   "metadata": {
    "colab": {
     "base_uri": "https://localhost:8080/",
     "height": 102
    },
    "colab_type": "code",
    "executionInfo": {
     "elapsed": 403,
     "status": "ok",
     "timestamp": 1579558563075,
     "user": {
      "displayName": "Yutong Yan",
      "photoUrl": "https://lh3.googleusercontent.com/a-/AAuE7mCsL-LlMqYWLvFkaFRKbEKS-Sn18SBeWP9pEGFJ=s64",
      "userId": "12381088397448513568"
     },
     "user_tz": 300
    },
    "id": "wBWywQM4C5Vw",
    "outputId": "28a7a85b-04d9-4572-aa77-a1f83facb67a"
   },
   "outputs": [
    {
     "name": "stdout",
     "output_type": "stream",
     "text": [
      "hello world\n",
      "HELLO WORLD\n",
      "Hello World\n",
      "['Hello', 'World']\n",
      "['He', 'o World']\n"
     ]
    }
   ],
   "source": [
    "print (greet.lower()) # Convert string to lowercase\n",
    "print (greet.upper() )# Convert string to uppercase\n",
    "print (greet)         # Note that this does not change the original string\n",
    "print (greet.split()) # split based on space\n",
    "print (greet.split('ll')) # split based on 'll'"
   ]
  },
  {
   "cell_type": "code",
   "execution_count": 8,
   "metadata": {
    "colab": {
     "base_uri": "https://localhost:8080/",
     "height": 164
    },
    "colab_type": "code",
    "executionInfo": {
     "elapsed": 603,
     "status": "error",
     "timestamp": 1579558564485,
     "user": {
      "displayName": "Yutong Yan",
      "photoUrl": "https://lh3.googleusercontent.com/a-/AAuE7mCsL-LlMqYWLvFkaFRKbEKS-Sn18SBeWP9pEGFJ=s64",
      "userId": "12381088397448513568"
     },
     "user_tz": 300
    },
    "id": "eCEh-YSiC5Vz",
    "outputId": "3cbf5b9c-5aa8-433c-d46c-c82d6407d9fb"
   },
   "outputs": [
    {
     "ename": "TypeError",
     "evalue": "'str' object does not support item assignment",
     "output_type": "error",
     "traceback": [
      "\u001b[0;31m---------------------------------------------------------------------------\u001b[0m",
      "\u001b[0;31mTypeError\u001b[0m                                 Traceback (most recent call last)",
      "\u001b[0;32m<ipython-input-8-1731bcb58909>\u001b[0m in \u001b[0;36m<module>\u001b[0;34m\u001b[0m\n\u001b[1;32m      1\u001b[0m \u001b[0;31m#Strings are immutable\u001b[0m\u001b[0;34m\u001b[0m\u001b[0;34m\u001b[0m\u001b[0;34m\u001b[0m\u001b[0m\n\u001b[0;32m----> 2\u001b[0;31m \u001b[0mgreet\u001b[0m\u001b[0;34m[\u001b[0m\u001b[0;36m0\u001b[0m\u001b[0;34m]\u001b[0m \u001b[0;34m=\u001b[0m \u001b[0;34m'a'\u001b[0m\u001b[0;34m\u001b[0m\u001b[0;34m\u001b[0m\u001b[0m\n\u001b[0m",
      "\u001b[0;31mTypeError\u001b[0m: 'str' object does not support item assignment"
     ]
    }
   ],
   "source": [
    "#Strings are immutable\n",
    "greet[0] = 'a'"
   ]
  },
  {
   "cell_type": "markdown",
   "metadata": {
    "colab_type": "text",
    "id": "jrG7bJLejFZm"
   },
   "source": [
    "#### Useful String functions"
   ]
  },
  {
   "cell_type": "markdown",
   "metadata": {
    "colab_type": "text",
    "id": "6U9CcujUjNZi"
   },
   "source": [
    "The split function"
   ]
  },
  {
   "cell_type": "code",
   "execution_count": null,
   "metadata": {
    "colab": {
     "base_uri": "https://localhost:8080/",
     "height": 85
    },
    "colab_type": "code",
    "executionInfo": {
     "elapsed": 628,
     "status": "ok",
     "timestamp": 1579558567294,
     "user": {
      "displayName": "Yutong Yan",
      "photoUrl": "https://lh3.googleusercontent.com/a-/AAuE7mCsL-LlMqYWLvFkaFRKbEKS-Sn18SBeWP9pEGFJ=s64",
      "userId": "12381088397448513568"
     },
     "user_tz": 300
    },
    "id": "oWwB28q7jMJ7",
    "outputId": "5ef69c1b-9229-441f-ee6b-d3655eec32fa"
   },
   "outputs": [],
   "source": [
    "x = 'blue,red,green'\n",
    "print(x.split(\",\")) #splits data based on input\n",
    "\n",
    "a,b,c = x.split(\",\")\n",
    "print(\"a:\",a)\n",
    "print(\"b:\",b)\n",
    "print(\"c:\",c)"
   ]
  },
  {
   "cell_type": "markdown",
   "metadata": {
    "colab_type": "text",
    "id": "mPOJesNCjQ1u"
   },
   "source": [
    "The join function"
   ]
  },
  {
   "cell_type": "code",
   "execution_count": null,
   "metadata": {
    "colab": {
     "base_uri": "https://localhost:8080/",
     "height": 34
    },
    "colab_type": "code",
    "executionInfo": {
     "elapsed": 596,
     "status": "ok",
     "timestamp": 1579558569314,
     "user": {
      "displayName": "Yutong Yan",
      "photoUrl": "https://lh3.googleusercontent.com/a-/AAuE7mCsL-LlMqYWLvFkaFRKbEKS-Sn18SBeWP9pEGFJ=s64",
      "userId": "12381088397448513568"
     },
     "user_tz": 300
    },
    "id": "8zbb8wzPjYE4",
    "outputId": "6e798708-5805-49d3-a1db-a69455eeab11"
   },
   "outputs": [],
   "source": [
    "s = \" \"\n",
    "print (s.join([a,b,c])) # joins different strings together with common criteria"
   ]
  },
  {
   "cell_type": "markdown",
   "metadata": {
    "colab_type": "text",
    "id": "t1EC4vAjC5V3"
   },
   "source": [
    "## Data Structures"
   ]
  },
  {
   "cell_type": "markdown",
   "metadata": {
    "colab_type": "text",
    "id": "E3Ng-kX0C5V4"
   },
   "source": [
    "### Lists"
   ]
  },
  {
   "cell_type": "code",
   "execution_count": null,
   "metadata": {
    "colab": {
     "base_uri": "https://localhost:8080/",
     "height": 34
    },
    "colab_type": "code",
    "executionInfo": {
     "elapsed": 493,
     "status": "ok",
     "timestamp": 1579555329276,
     "user": {
      "displayName": "Yutong Yan",
      "photoUrl": "https://lh3.googleusercontent.com/a-/AAuE7mCsL-LlMqYWLvFkaFRKbEKS-Sn18SBeWP9pEGFJ=s64",
      "userId": "12381088397448513568"
     },
     "user_tz": 300
    },
    "id": "SJCD-rCnC5V4",
    "outputId": "95ca8766-a5aa-4961-9477-faeeabc8c775"
   },
   "outputs": [],
   "source": [
    "#Python lists are dynamic typed. They can contain anything\n",
    "arr = [\"Hello\", True, 42]\n",
    "print (arr)"
   ]
  },
  {
   "cell_type": "code",
   "execution_count": null,
   "metadata": {
    "colab": {
     "base_uri": "https://localhost:8080/",
     "height": 51
    },
    "colab_type": "code",
    "executionInfo": {
     "elapsed": 435,
     "status": "ok",
     "timestamp": 1579555330192,
     "user": {
      "displayName": "Yutong Yan",
      "photoUrl": "https://lh3.googleusercontent.com/a-/AAuE7mCsL-LlMqYWLvFkaFRKbEKS-Sn18SBeWP9pEGFJ=s64",
      "userId": "12381088397448513568"
     },
     "user_tz": 300
    },
    "id": "tC5JvZGi1Yg6",
    "outputId": "0da40a13-0ac6-45fe-fa4d-b97a03eeeb01"
   },
   "outputs": [],
   "source": [
    "#The map() function applies a given to function to each item in the list and the returned value can be passed through list()\n",
    "print (map(lambda x : type(x), arr))\n",
    "print (list(map(lambda x : type(x), arr)))"
   ]
  },
  {
   "cell_type": "code",
   "execution_count": null,
   "metadata": {
    "colab": {
     "base_uri": "https://localhost:8080/",
     "height": 51
    },
    "colab_type": "code",
    "executionInfo": {
     "elapsed": 1254,
     "status": "ok",
     "timestamp": 1579608164101,
     "user": {
      "displayName": "Yutong Yan",
      "photoUrl": "https://lh3.googleusercontent.com/a-/AAuE7mCsL-LlMqYWLvFkaFRKbEKS-Sn18SBeWP9pEGFJ=s64",
      "userId": "12381088397448513568"
     },
     "user_tz": 300
    },
    "id": "M-I9S2yt1V3H",
    "outputId": "e1d6cfb6-ba52-40a5-a2a3-c7270295acf0"
   },
   "outputs": [],
   "source": [
    "arr = \"The quick brown fox jumps over the lazy dog\".split()\n",
    "print (arr)  # prints the entire list\n",
    "print (len(arr)) # prints length of the list"
   ]
  },
  {
   "cell_type": "code",
   "execution_count": null,
   "metadata": {
    "colab": {
     "base_uri": "https://localhost:8080/",
     "height": 68
    },
    "colab_type": "code",
    "executionInfo": {
     "elapsed": 902,
     "status": "ok",
     "timestamp": 1579608194368,
     "user": {
      "displayName": "Yutong Yan",
      "photoUrl": "https://lh3.googleusercontent.com/a-/AAuE7mCsL-LlMqYWLvFkaFRKbEKS-Sn18SBeWP9pEGFJ=s64",
      "userId": "12381088397448513568"
     },
     "user_tz": 300
    },
    "id": "FcscTNWwC5V8",
    "outputId": "98c55511-e57b-42c1-83a9-c41c0b4a0d14"
   },
   "outputs": [],
   "source": [
    "print (arr[0]) # Prints the first elemnt\n",
    "print (arr[3]) # Prints 4th element\n",
    "print (arr[-2])# Prints the last element ( negative indexes are also supported )"
   ]
  },
  {
   "cell_type": "code",
   "execution_count": null,
   "metadata": {
    "colab": {
     "base_uri": "https://localhost:8080/",
     "height": 85
    },
    "colab_type": "code",
    "executionInfo": {
     "elapsed": 1168,
     "status": "ok",
     "timestamp": 1579608212626,
     "user": {
      "displayName": "Yutong Yan",
      "photoUrl": "https://lh3.googleusercontent.com/a-/AAuE7mCsL-LlMqYWLvFkaFRKbEKS-Sn18SBeWP9pEGFJ=s64",
      "userId": "12381088397448513568"
     },
     "user_tz": 300
    },
    "id": "AYfKGzwxC5WD",
    "outputId": "67dbe166-df9e-4c58-9164-97cadde0aed2"
   },
   "outputs": [],
   "source": [
    "# Modify elements with simple assignment\n",
    "arr[7] = \"sleeping\"\n",
    "print (arr)\n",
    "\n",
    "# Replacing multiple elements is just as simple\n",
    "arr[0:4] = \"Nimble\",\"Jack\"\n",
    "print (arr)\n",
    "\n",
    "# Delete elements with del\n",
    "del arr[-2:]\n",
    "print (arr)\n",
    "\n",
    "# Add elements with .append()\n",
    "arr.append(\"candlestick\")\n",
    "print (arr)"
   ]
  },
  {
   "cell_type": "code",
   "execution_count": null,
   "metadata": {
    "colab": {
     "base_uri": "https://localhost:8080/",
     "height": 34
    },
    "colab_type": "code",
    "executionInfo": {
     "elapsed": 549,
     "status": "ok",
     "timestamp": 1579555420449,
     "user": {
      "displayName": "Yutong Yan",
      "photoUrl": "https://lh3.googleusercontent.com/a-/AAuE7mCsL-LlMqYWLvFkaFRKbEKS-Sn18SBeWP9pEGFJ=s64",
      "userId": "12381088397448513568"
     },
     "user_tz": 300
    },
    "id": "pWd2xUXEC5WH",
    "outputId": "12fe6ce2-82c0-428e-f0a3-a392e4c8e0c0"
   },
   "outputs": [],
   "source": [
    "# Join is used to concatenate a list into a string\n",
    "' '.join(arr)"
   ]
  },
  {
   "cell_type": "markdown",
   "metadata": {
    "colab_type": "text",
    "id": "oPcKWTWdC5WM"
   },
   "source": [
    "#### Slicing"
   ]
  },
  {
   "cell_type": "code",
   "execution_count": null,
   "metadata": {
    "colab": {
     "base_uri": "https://localhost:8080/",
     "height": 102
    },
    "colab_type": "code",
    "executionInfo": {
     "elapsed": 636,
     "status": "ok",
     "timestamp": 1579555425144,
     "user": {
      "displayName": "Yutong Yan",
      "photoUrl": "https://lh3.googleusercontent.com/a-/AAuE7mCsL-LlMqYWLvFkaFRKbEKS-Sn18SBeWP9pEGFJ=s64",
      "userId": "12381088397448513568"
     },
     "user_tz": 300
    },
    "id": "C9YfXRw5C5WN",
    "outputId": "b9c27469-61c1-49cc-e2af-6e427bd1c26f"
   },
   "outputs": [],
   "source": [
    "#Syntax: [start : end : stride]\n",
    "\n",
    "a = [8,6,7,5,3,0,9]\n",
    "\n",
    "print (\"a = \", a)      \n",
    "print (\"a[2:5] = \", a[2:5])    # Get a slice from index 2 to 5 (exclusive)\n",
    "print (\"a[:2] = \", a[:2] )      # Get a slice from the start to index 2 (exclusive)\n",
    "print (\"a[2:] = \", a[2:] )    # Get a slice from index 2 to the end\n",
    "print (\"a[:-2] =\", a[:-2])      # Slice indices can be negative"
   ]
  },
  {
   "cell_type": "code",
   "execution_count": null,
   "metadata": {
    "colab": {
     "base_uri": "https://localhost:8080/",
     "height": 85
    },
    "colab_type": "code",
    "executionInfo": {
     "elapsed": 448,
     "status": "ok",
     "timestamp": 1579555443227,
     "user": {
      "displayName": "Yutong Yan",
      "photoUrl": "https://lh3.googleusercontent.com/a-/AAuE7mCsL-LlMqYWLvFkaFRKbEKS-Sn18SBeWP9pEGFJ=s64",
      "userId": "12381088397448513568"
     },
     "user_tz": 300
    },
    "id": "Pr8icjLtC5WR",
    "outputId": "a276554d-133a-43ac-c668-94206a35616d"
   },
   "outputs": [],
   "source": [
    "b = list(range(16))     # Range is a built in function that gives an iterator to a list of n integers\n",
    "print (\"b = \", b)\n",
    "print (\"b[0::2] =\", b[0::2])     # Add a number to the slice to indicate what to count by\n",
    "print (\"b[1::2] = \", b[2::2])\n",
    "print (\"b[::-2] =\", b[::-2])    # Can also count down"
   ]
  },
  {
   "cell_type": "markdown",
   "metadata": {
    "colab_type": "text",
    "id": "XL8TUZjJC5WU"
   },
   "source": [
    "#### List Comprehensions"
   ]
  },
  {
   "cell_type": "code",
   "execution_count": null,
   "metadata": {
    "colab": {
     "base_uri": "https://localhost:8080/",
     "height": 68
    },
    "colab_type": "code",
    "executionInfo": {
     "elapsed": 455,
     "status": "ok",
     "timestamp": 1579555581172,
     "user": {
      "displayName": "Yutong Yan",
      "photoUrl": "https://lh3.googleusercontent.com/a-/AAuE7mCsL-LlMqYWLvFkaFRKbEKS-Sn18SBeWP9pEGFJ=s64",
      "userId": "12381088397448513568"
     },
     "user_tz": 300
    },
    "id": "WU5oawL4C5WU",
    "outputId": "c4336108-5867-4658-88b7-a5b86f87edcb"
   },
   "outputs": [],
   "source": [
    "a = [i**2 for i in range(10)]\n",
    "print (a)\n",
    "\n",
    "a = [i for i in range(1,20) if i%3 == 0]\n",
    "print (a)\n",
    "\n",
    "#Also if-else\n",
    "a = [i if i%3 == 0 else 0 for i in range(1,20)]\n",
    "print (a)"
   ]
  },
  {
   "cell_type": "markdown",
   "metadata": {
    "colab_type": "text",
    "id": "OkJ538pnDAnE"
   },
   "source": [
    "#### List iteration"
   ]
  },
  {
   "cell_type": "code",
   "execution_count": null,
   "metadata": {
    "colab": {
     "base_uri": "https://localhost:8080/",
     "height": 612
    },
    "colab_type": "code",
    "executionInfo": {
     "elapsed": 593,
     "status": "ok",
     "timestamp": 1579555615095,
     "user": {
      "displayName": "Yutong Yan",
      "photoUrl": "https://lh3.googleusercontent.com/a-/AAuE7mCsL-LlMqYWLvFkaFRKbEKS-Sn18SBeWP9pEGFJ=s64",
      "userId": "12381088397448513568"
     },
     "user_tz": 300
    },
    "id": "wsH4X0aFC-C0",
    "outputId": "de0e79ed-f892-482b-d02d-a6b443d78213"
   },
   "outputs": [],
   "source": [
    "l = [chr(n) for n in range(97,107)]\n",
    "\n",
    "#For loop (Cannot easily get index of elements)\n",
    "print(\"Simple for loop:\")\n",
    "\n",
    "for num in l:\n",
    "    print (num)\n",
    "\n",
    "#Java style loop\n",
    "print(\"\\nJava style for loop:\")\n",
    "for i in range(len(l)):\n",
    "    print (i,l[i])\n",
    "    \n",
    "#Enumeration loop\n",
    "print(\"\\nEnumeration loop style for loop:\")\n",
    "for i, num in enumerate(l):\n",
    "    print (i, num)\n"
   ]
  },
  {
   "cell_type": "markdown",
   "metadata": {
    "colab_type": "text",
    "id": "eHRyEpuHC5WX"
   },
   "source": [
    "### Dictionary"
   ]
  },
  {
   "cell_type": "code",
   "execution_count": null,
   "metadata": {
    "colab": {
     "base_uri": "https://localhost:8080/",
     "height": 102
    },
    "colab_type": "code",
    "executionInfo": {
     "elapsed": 647,
     "status": "ok",
     "timestamp": 1579555786747,
     "user": {
      "displayName": "Yutong Yan",
      "photoUrl": "https://lh3.googleusercontent.com/a-/AAuE7mCsL-LlMqYWLvFkaFRKbEKS-Sn18SBeWP9pEGFJ=s64",
      "userId": "12381088397448513568"
     },
     "user_tz": 300
    },
    "id": "cS-QPCWVC5WY",
    "outputId": "922008c5-472e-4f0e-e903-d3577676d4b4"
   },
   "outputs": [],
   "source": [
    "d = {\"Name\":\"Harry\", \"Age\":11, \"Address\":\"4 Privet Drive, Little Whinging, Surrey\"}\n",
    "print (d)\n",
    "\n",
    "# get value based on key\n",
    "print (d[\"Name\"] )\n",
    "\n",
    "# change an existing value \n",
    "d[\"Address\"] = 'Hogwarts' \n",
    "print (d)\n",
    "\n",
    "# insert new element\n",
    "d[\"Godfather\"] = \"Sirius\" \n",
    "print (d)\n",
    "\n",
    "# delete a key-value pair\n",
    "del d[\"Godfather\"] \n",
    "print (d)"
   ]
  },
  {
   "cell_type": "code",
   "execution_count": null,
   "metadata": {
    "colab": {
     "base_uri": "https://localhost:8080/",
     "height": 119
    },
    "colab_type": "code",
    "executionInfo": {
     "elapsed": 584,
     "status": "ok",
     "timestamp": 1579555793812,
     "user": {
      "displayName": "Yutong Yan",
      "photoUrl": "https://lh3.googleusercontent.com/a-/AAuE7mCsL-LlMqYWLvFkaFRKbEKS-Sn18SBeWP9pEGFJ=s64",
      "userId": "12381088397448513568"
     },
     "user_tz": 300
    },
    "id": "OwKgtLHMC5Wb",
    "outputId": "f65dc399-2a64-4219-f73a-7dea5b37cf7d"
   },
   "outputs": [],
   "source": [
    "# Iterating over dictionary keys\n",
    "for key in d:\n",
    "    print( key, \":\", d[key])\n",
    "    \n",
    "for key, value in d.items():    #this was previously d.iteritems() in python2\n",
    "    print (key, value)"
   ]
  },
  {
   "cell_type": "markdown",
   "metadata": {
    "colab_type": "text",
    "id": "0HiEcQkgC5Wd"
   },
   "source": [
    "### Tuples"
   ]
  },
  {
   "cell_type": "code",
   "execution_count": null,
   "metadata": {
    "colab": {
     "base_uri": "https://localhost:8080/",
     "height": 232
    },
    "colab_type": "code",
    "executionInfo": {
     "elapsed": 763,
     "status": "error",
     "timestamp": 1579555834262,
     "user": {
      "displayName": "Yutong Yan",
      "photoUrl": "https://lh3.googleusercontent.com/a-/AAuE7mCsL-LlMqYWLvFkaFRKbEKS-Sn18SBeWP9pEGFJ=s64",
      "userId": "12381088397448513568"
     },
     "user_tz": 300
    },
    "id": "D9cBN2HOC5We",
    "outputId": "0ef793ca-1b21-4a79-cd12-13dbb08c5217"
   },
   "outputs": [],
   "source": [
    "# Like lists, tuples are ordered collections of objects with varying data types\n",
    "t = (12345, 54321, 'hello!')\n",
    "print (t)\n",
    "print (t[2])\n",
    "\n",
    "# Unlike lists, tuples are immutable\n",
    "t[0] = 42"
   ]
  },
  {
   "cell_type": "markdown",
   "metadata": {
    "colab_type": "text",
    "id": "jy33OnpgC5Wi"
   },
   "source": [
    "## Control Flow"
   ]
  },
  {
   "cell_type": "markdown",
   "metadata": {
    "colab_type": "text",
    "id": "iUzecZb9C5Wj"
   },
   "source": [
    "### if, elif, else"
   ]
  },
  {
   "cell_type": "code",
   "execution_count": null,
   "metadata": {
    "colab": {
     "base_uri": "https://localhost:8080/",
     "height": 34
    },
    "colab_type": "code",
    "executionInfo": {
     "elapsed": 445,
     "status": "ok",
     "timestamp": 1579555842510,
     "user": {
      "displayName": "Yutong Yan",
      "photoUrl": "https://lh3.googleusercontent.com/a-/AAuE7mCsL-LlMqYWLvFkaFRKbEKS-Sn18SBeWP9pEGFJ=s64",
      "userId": "12381088397448513568"
     },
     "user_tz": 300
    },
    "id": "oEftIalPC5Wk",
    "outputId": "32bb69d6-2437-4df5-f09f-260f555cc7cb"
   },
   "outputs": [],
   "source": [
    "#if statement, python is all about indentations!\n",
    "x=3\n",
    "if x>0:\n",
    "    print (\"I do not like green eggs and ham\")\n",
    "elif x == 0 : \n",
    "    print (\"I do not like them\")\n",
    "else: #x<=0\n",
    "    print (\"Sam-I-am\")"
   ]
  },
  {
   "cell_type": "markdown",
   "metadata": {
    "colab_type": "text",
    "id": "pKXLwg5HC5Wm"
   },
   "source": [
    "#### Loops"
   ]
  },
  {
   "cell_type": "code",
   "execution_count": null,
   "metadata": {
    "colab": {
     "base_uri": "https://localhost:8080/",
     "height": 136
    },
    "colab_type": "code",
    "executionInfo": {
     "elapsed": 438,
     "status": "ok",
     "timestamp": 1579556018338,
     "user": {
      "displayName": "Yutong Yan",
      "photoUrl": "https://lh3.googleusercontent.com/a-/AAuE7mCsL-LlMqYWLvFkaFRKbEKS-Sn18SBeWP9pEGFJ=s64",
      "userId": "12381088397448513568"
     },
     "user_tz": 300
    },
    "id": "bFHqsHH6C5Wm",
    "outputId": "29050ae8-e9df-4661-d9bd-92aa2f9ee079"
   },
   "outputs": [],
   "source": [
    "a = list(range(1,6))\n",
    "print (a)\n",
    "\n",
    "# While loops continue until condition is false\n",
    "while len(a) < 10:\n",
    "    a.append(0)\n",
    "print (a)\n",
    "\n",
    "i = 0\n",
    "# Correctly change the element in the list\n",
    "for element in a:\n",
    "    if element >= 3:\n",
    "        print (element)\n",
    "    # element = 5\n",
    "    a[i] = 5\n",
    "    i += 1\n",
    "print (a)\n",
    "\n",
    "# Alternatively, loop through indices\n",
    "for i in range(len(a)):\n",
    "    a[i] += 5 # a[i] = a[i] + 5\n",
    "print (a)"
   ]
  },
  {
   "cell_type": "markdown",
   "metadata": {
    "colab_type": "text",
    "id": "zAd_wOcHC5Wp"
   },
   "source": [
    "## Functions"
   ]
  },
  {
   "cell_type": "code",
   "execution_count": null,
   "metadata": {
    "colab": {
     "base_uri": "https://localhost:8080/",
     "height": 51
    },
    "colab_type": "code",
    "executionInfo": {
     "elapsed": 502,
     "status": "ok",
     "timestamp": 1579556073265,
     "user": {
      "displayName": "Yutong Yan",
      "photoUrl": "https://lh3.googleusercontent.com/a-/AAuE7mCsL-LlMqYWLvFkaFRKbEKS-Sn18SBeWP9pEGFJ=s64",
      "userId": "12381088397448513568"
     },
     "user_tz": 300
    },
    "id": "G1_7cBFQC5Wp",
    "outputId": "927fc574-5c75-4c0d-d70b-9cc2a508755e"
   },
   "outputs": [],
   "source": [
    "#You can define your own functions:\n",
    "def func(x):\n",
    "    return [x*2, x*3]\n",
    "\n",
    "#The type is inferred by Python\n",
    "print (\"func(5) = \", func(5))\n",
    "\n",
    "#Python also makes your functions polymorphic whenever it can\n",
    "print (\"func('string') = \", func('string'))"
   ]
  },
  {
   "cell_type": "code",
   "execution_count": null,
   "metadata": {
    "colab": {
     "base_uri": "https://localhost:8080/",
     "height": 51
    },
    "colab_type": "code",
    "executionInfo": {
     "elapsed": 502,
     "status": "ok",
     "timestamp": 1579556090617,
     "user": {
      "displayName": "Yutong Yan",
      "photoUrl": "https://lh3.googleusercontent.com/a-/AAuE7mCsL-LlMqYWLvFkaFRKbEKS-Sn18SBeWP9pEGFJ=s64",
      "userId": "12381088397448513568"
     },
     "user_tz": 300
    },
    "id": "8Tczb8abEjjH",
    "outputId": "78a76b0a-18f9-4375-d0e5-9862844c4422"
   },
   "outputs": [],
   "source": [
    "# Functions can have default parameters\n",
    "import math\n",
    "def exp(exponent, base=math.e):\n",
    "    return base ** exponent\n",
    "\n",
    "print (\"e^4 =\", exp(4))\n",
    "print (\"2^4 =\", exp(4,2))"
   ]
  },
  {
   "cell_type": "code",
   "execution_count": null,
   "metadata": {
    "colab": {
     "base_uri": "https://localhost:8080/",
     "height": 34
    },
    "colab_type": "code",
    "executionInfo": {
     "elapsed": 650,
     "status": "ok",
     "timestamp": 1579556099091,
     "user": {
      "displayName": "Yutong Yan",
      "photoUrl": "https://lh3.googleusercontent.com/a-/AAuE7mCsL-LlMqYWLvFkaFRKbEKS-Sn18SBeWP9pEGFJ=s64",
      "userId": "12381088397448513568"
     },
     "user_tz": 300
    },
    "id": "teOVazQpEl_c",
    "outputId": "e8d1c170-41a3-4c05-ca98-d52a9d7b5636"
   },
   "outputs": [],
   "source": [
    "q = 2\n",
    "\n",
    "def foo():\n",
    "  return q * 2\n",
    "\n",
    "print('Global variable q multiplied by 2 = ', foo())"
   ]
  },
  {
   "cell_type": "code",
   "execution_count": null,
   "metadata": {
    "colab": {
     "base_uri": "https://localhost:8080/",
     "height": 68
    },
    "colab_type": "code",
    "executionInfo": {
     "elapsed": 424,
     "status": "ok",
     "timestamp": 1579556242676,
     "user": {
      "displayName": "Yutong Yan",
      "photoUrl": "https://lh3.googleusercontent.com/a-/AAuE7mCsL-LlMqYWLvFkaFRKbEKS-Sn18SBeWP9pEGFJ=s64",
      "userId": "12381088397448513568"
     },
     "user_tz": 300
    },
    "id": "ZLf8O5CPEoNs",
    "outputId": "ff28e79e-cf63-4879-9b97-799757c8b642"
   },
   "outputs": [],
   "source": [
    "# Parameters are passed by object reference\n",
    "def add_key(db, x, y):\n",
    "    db[x] = y\n",
    "\n",
    "d = {'Name': 'Harry', 'Age': 11, 'Address': 'Hogwarts'}\n",
    "\n",
    "print (d)\n",
    "new_key = \"occupation\"\n",
    "new_value = \"wizard\"\n",
    "add_key(d, new_key, new_value)\n",
    "print( \"d after add_key: \", d)\n",
    "\n",
    "add_key(d, 'Age', 10)\n",
    "print( \"d after add_key: \", d)"
   ]
  },
  {
   "cell_type": "markdown",
   "metadata": {
    "colab_type": "text",
    "id": "5yDYo650C5Wu"
   },
   "source": [
    "A slightly more complicated example"
   ]
  },
  {
   "cell_type": "code",
   "execution_count": null,
   "metadata": {
    "colab": {
     "base_uri": "https://localhost:8080/",
     "height": 34
    },
    "colab_type": "code",
    "executionInfo": {
     "elapsed": 675,
     "status": "ok",
     "timestamp": 1579556253274,
     "user": {
      "displayName": "Yutong Yan",
      "photoUrl": "https://lh3.googleusercontent.com/a-/AAuE7mCsL-LlMqYWLvFkaFRKbEKS-Sn18SBeWP9pEGFJ=s64",
      "userId": "12381088397448513568"
     },
     "user_tz": 300
    },
    "id": "v5S2QPfOC5Wv",
    "outputId": "5583ad5c-4abf-4745-bc6d-ec6fc06f797e"
   },
   "outputs": [],
   "source": [
    "from random import randint\n",
    "\n",
    "# a function which implements quicksort\n",
    "def quicksort(arr):\n",
    "    if len(arr) <= 1:\n",
    "        return arr\n",
    "    pivot = arr[randint(0,len(arr)-1)]\n",
    "    left = [x for x in arr if x < pivot]\n",
    "    middle = [x for x in arr if x == pivot]\n",
    "    right = [x for x in arr if x > pivot]\n",
    "    return quicksort(left) + middle + quicksort(right)\n",
    "\n",
    "print (\"quicksort([3,6,8,10,1,2,1,4,7]) = \", quicksort([3,6,8,10,1,2,1,4,7]))"
   ]
  },
  {
   "cell_type": "code",
   "execution_count": null,
   "metadata": {
    "colab": {
     "base_uri": "https://localhost:8080/",
     "height": 85
    },
    "colab_type": "code",
    "executionInfo": {
     "elapsed": 741,
     "status": "ok",
     "timestamp": 1579556329165,
     "user": {
      "displayName": "Yutong Yan",
      "photoUrl": "https://lh3.googleusercontent.com/a-/AAuE7mCsL-LlMqYWLvFkaFRKbEKS-Sn18SBeWP9pEGFJ=s64",
      "userId": "12381088397448513568"
     },
     "user_tz": 300
    },
    "id": "byJ2Xl9MC5Wy",
    "outputId": "467777ff-527e-4fd6-ce99-324cb8324d91"
   },
   "outputs": [],
   "source": [
    "# Lambdas are one-liner functions\n",
    "# lambda input : outputlambda\n",
    "cube =  lambda x : x**3 \n",
    "print (\"cube(3) : \", cube(3))\n",
    "\n",
    "even = lambda x : x%2 == 0 \n",
    "print (\"even(7) : \", even(7))\n",
    "\n",
    "add = lambda x,y : x + y \n",
    "print (\"add(3,7) : \", add(3,7))\n",
    "\n",
    "print ((lambda x: x + 1)(2))"
   ]
  },
  {
   "cell_type": "markdown",
   "metadata": {
    "colab_type": "text",
    "id": "c9azB2sf9l4r"
   },
   "source": [
    "### Variable Scope"
   ]
  },
  {
   "cell_type": "markdown",
   "metadata": {
    "colab_type": "text",
    "id": "yXN2nY3c9yTt"
   },
   "source": [
    "Local scope: anything inside finctions\n",
    "\n",
    "Global scope: anything outside functions"
   ]
  },
  {
   "cell_type": "code",
   "execution_count": null,
   "metadata": {
    "colab": {
     "base_uri": "https://localhost:8080/",
     "height": 136
    },
    "colab_type": "code",
    "executionInfo": {
     "elapsed": 681,
     "status": "ok",
     "timestamp": 1579556349636,
     "user": {
      "displayName": "Yutong Yan",
      "photoUrl": "https://lh3.googleusercontent.com/a-/AAuE7mCsL-LlMqYWLvFkaFRKbEKS-Sn18SBeWP9pEGFJ=s64",
      "userId": "12381088397448513568"
     },
     "user_tz": 300
    },
    "id": "EYsy3YaMBK61",
    "outputId": "7b7925ee-ef85-4825-c6e8-0a81ad6a7183"
   },
   "outputs": [],
   "source": [
    "# Taken from geeksforgeeks.org\n",
    "\n",
    "a = 1 # Global variable\n",
    "  \n",
    "def foo(): \n",
    "    print('Inside foo() : ', a)\n",
    "  \n",
    "def boo():     \n",
    "    a = 2\n",
    "    print('Inside boo() : ', a)\n",
    "  \n",
    "def goo():     \n",
    "    global a \n",
    "    a = 3\n",
    "    print('Inside goo() : ', a)\n",
    "  \n",
    "# Global scope \n",
    "print('global : ',a)\n",
    "foo() \n",
    "print('global : ',a)\n",
    "boo() \n",
    "print('global : ',a)\n",
    "goo() \n",
    "print('global : ',a)"
   ]
  },
  {
   "cell_type": "markdown",
   "metadata": {
    "colab_type": "text",
    "id": "0VH8GKpOC5W4"
   },
   "source": [
    "### Map and Filter"
   ]
  },
  {
   "cell_type": "code",
   "execution_count": null,
   "metadata": {
    "colab": {
     "base_uri": "https://localhost:8080/",
     "height": 68
    },
    "colab_type": "code",
    "executionInfo": {
     "elapsed": 801,
     "status": "ok",
     "timestamp": 1579556422362,
     "user": {
      "displayName": "Yutong Yan",
      "photoUrl": "https://lh3.googleusercontent.com/a-/AAuE7mCsL-LlMqYWLvFkaFRKbEKS-Sn18SBeWP9pEGFJ=s64",
      "userId": "12381088397448513568"
     },
     "user_tz": 300
    },
    "id": "p0BQVsMnC5W5",
    "outputId": "17ec9a94-e912-49e6-fa8b-dfa41f3c4ab8"
   },
   "outputs": [],
   "source": [
    "arr = [1,2,3,4,5,6,7,8,9,10]\n",
    "print (\"arr = \", arr)\n",
    "\n",
    "# map() applies a function to each element in one or more lists\n",
    "print (\"map(cube, arr) : \", list(map(lambda x: x**3, arr)))\n",
    "\n",
    "# filter() removes elements from a list given some criteria\n",
    "print (\"filter(even, arr) : \", list(filter(even, arr)))"
   ]
  },
  {
   "cell_type": "markdown",
   "metadata": {
    "colab_type": "text",
    "id": "mPGl_pBzC5XB"
   },
   "source": [
    "## Saving and loading things\n",
    "\n",
    "You can use pickle package to dump objects as such to the system for re-using them later."
   ]
  },
  {
   "cell_type": "code",
   "execution_count": null,
   "metadata": {
    "colab": {
     "base_uri": "https://localhost:8080/",
     "height": 102
    },
    "colab_type": "code",
    "executionInfo": {
     "elapsed": 993,
     "status": "ok",
     "timestamp": 1579556513360,
     "user": {
      "displayName": "Yutong Yan",
      "photoUrl": "https://lh3.googleusercontent.com/a-/AAuE7mCsL-LlMqYWLvFkaFRKbEKS-Sn18SBeWP9pEGFJ=s64",
      "userId": "12381088397448513568"
     },
     "user_tz": 300
    },
    "id": "5A_CxNE9C5XC",
    "outputId": "3575d150-e425-461e-9f93-79daf9e285b1"
   },
   "outputs": [],
   "source": [
    "with open('bottles.txt','w') as fout:\n",
    "    for i in range(99):\n",
    "        n = 99\n",
    "        while n > 0:\n",
    "            fout.write('%d bottles of beer on the wall, %d bottles of beer...\\n'%(n,n))\n",
    "            n -= 1\n",
    "            fout.write('Take one down, pass it around, %d bottles of beer on the wall!\\n\\n'%n)\n",
    "        fout.write('No more bottles of beer on the wall, no more bottles of beer...\\n')\n",
    "        fout.write('Go to the store and buy some more, 99 bottles of beer on the wall!\\n')\n",
    "        \n",
    "with open('bottles.txt','r') as fin:\n",
    "    for i in range(5):\n",
    "        print (next(fin).strip())\n",
    "        "
   ]
  },
  {
   "cell_type": "code",
   "execution_count": null,
   "metadata": {
    "colab": {
     "base_uri": "https://localhost:8080/",
     "height": 35
    },
    "colab_type": "code",
    "id": "W4VtDLUjC5XE",
    "outputId": "3ead0b99-412a-441b-ef93-635ad5303c6e"
   },
   "outputs": [],
   "source": [
    "d = {\"Name\":\"Harry\", \"Age\":11, \"Address\":\"4 Privet Drive, Little Whinging, Surrey\"}\n",
    "\n",
    "import pickle\n",
    "# saving objects\n",
    "pickle.dump(d, open('db_save_file.pkl',\"wb\")) # \"wb\" denotes write binary mode\n",
    "\n",
    "# loading objects\n",
    "stored_dict = pickle.load(open('db_save_file.pkl',\"rb\")) # \"rb\" denotes read binary mode\n",
    "\n",
    "d == stored_dict"
   ]
  },
  {
   "cell_type": "markdown",
   "metadata": {
    "colab_type": "text",
    "id": "mNGj0H8j17N3"
   },
   "source": [
    "You can read more about opening files in python: https://www.pythonforbeginners.com/cheatsheet/python-file-handling\n",
    "\n",
    "And about pickle:\n",
    "https://docs.python.org/3/library/pickle.html"
   ]
  },
  {
   "cell_type": "markdown",
   "metadata": {
    "colab_type": "text",
    "id": "gJfks7prC5XH"
   },
   "source": [
    "## Classes "
   ]
  },
  {
   "cell_type": "markdown",
   "metadata": {
    "colab_type": "text",
    "id": "r4TWtMF-C5XI"
   },
   "source": [
    "Using Python's Object Oriented features will greatly simplify the implementations you have to do in this course."
   ]
  },
  {
   "cell_type": "code",
   "execution_count": null,
   "metadata": {
    "colab": {
     "base_uri": "https://localhost:8080/",
     "height": 442
    },
    "colab_type": "code",
    "executionInfo": {
     "elapsed": 638,
     "status": "ok",
     "timestamp": 1579556610792,
     "user": {
      "displayName": "Yutong Yan",
      "photoUrl": "https://lh3.googleusercontent.com/a-/AAuE7mCsL-LlMqYWLvFkaFRKbEKS-Sn18SBeWP9pEGFJ=s64",
      "userId": "12381088397448513568"
     },
     "user_tz": 300
    },
    "id": "EqQCThJ7C5XJ",
    "outputId": "48a73e09-1b11-489b-89f6-2017836278e5"
   },
   "outputs": [],
   "source": [
    "class MyClass:\n",
    "    \"\"\"A simple example class\"\"\"\n",
    "        \n",
    "    def __init__(self, y):\n",
    "        \"\"\" Create a new MyClass object \"\"\"\n",
    "        self.x = 7\n",
    "        self.y = y # instance variable\n",
    "        \n",
    "    def multiply(self):\n",
    "        \"\"\" Give some information.  \"\"\"\n",
    "        # class methods must take \"self\" as an argument \n",
    "        # in order to access member variables and methods\n",
    "        return self.x * self.y\n",
    "\n",
    "    def swapAndSet(self, z):\n",
    "        \"\"\" Change some information \"\"\"\n",
    "        self.x, self.y = self.y, z\n",
    "    \n",
    "help(MyClass)"
   ]
  },
  {
   "cell_type": "code",
   "execution_count": null,
   "metadata": {
    "colab": {
     "base_uri": "https://localhost:8080/",
     "height": 68
    },
    "colab_type": "code",
    "executionInfo": {
     "elapsed": 814,
     "status": "ok",
     "timestamp": 1579556613687,
     "user": {
      "displayName": "Yutong Yan",
      "photoUrl": "https://lh3.googleusercontent.com/a-/AAuE7mCsL-LlMqYWLvFkaFRKbEKS-Sn18SBeWP9pEGFJ=s64",
      "userId": "12381088397448513568"
     },
     "user_tz": 300
    },
    "id": "uiAs8hDsC5XN",
    "outputId": "d7866eb6-9046-4c44-e072-ed74b0d4c12d"
   },
   "outputs": [],
   "source": [
    "obj = MyClass(13)\n",
    "print (\"obj.f() = \", obj.multiply())\n",
    "\n",
    "print (\"obj.x, obj.y = \", obj.x,\",\", obj.y)\n",
    "obj.swapAndSet(5)\n",
    "print (\"obj.x, obj.y = \", obj.x,\",\", obj.y)\n"
   ]
  },
  {
   "cell_type": "code",
   "execution_count": null,
   "metadata": {
    "colab": {},
    "colab_type": "code",
    "id": "iftDiYFEC5XR"
   },
   "outputs": [],
   "source": [
    "class Complex:\n",
    "    \"\"\" complex(real[, imag]) -> complex number\n",
    "        Create a complex number from a real part and an optional imaginary part.\n",
    "        This is equivalent to (real + imag*1j) where imag defaults to 0.\n",
    "    \"\"\"\n",
    "    def __init__(self, real, imag=0): #constructor \n",
    "        self.real = real\n",
    "        self.imag = imag\n",
    "    \n",
    "    def add(self, other):\n",
    "        self.real += other.real\n",
    "        self.imag += other.imag\n",
    "    \n",
    "    def __str__(self):\n",
    "        \"\"\" x.__str__() <=> str(x) \"\"\"\n",
    "        return \"%.3f + %.3fj\"%(self.real, self.imag)"
   ]
  },
  {
   "cell_type": "code",
   "execution_count": null,
   "metadata": {
    "colab": {
     "base_uri": "https://localhost:8080/",
     "height": 68
    },
    "colab_type": "code",
    "executionInfo": {
     "elapsed": 639,
     "status": "ok",
     "timestamp": 1579556685527,
     "user": {
      "displayName": "Yutong Yan",
      "photoUrl": "https://lh3.googleusercontent.com/a-/AAuE7mCsL-LlMqYWLvFkaFRKbEKS-Sn18SBeWP9pEGFJ=s64",
      "userId": "12381088397448513568"
     },
     "user_tz": 300
    },
    "id": "K2r5BXVnC5XT",
    "outputId": "7ccdd6aa-da07-4141-8e52-5931f49f62db"
   },
   "outputs": [],
   "source": [
    "a = Complex(3.0,-4.5)\n",
    "b = Complex(-2, 2.3)\n",
    "print (\"a = \", a) # __str__ method is automatically called when we print an object\n",
    "print (\"b = \", b)\n",
    "a.add(b)\n",
    "print (\"a = \", a)"
   ]
  },
  {
   "cell_type": "markdown",
   "metadata": {
    "colab_type": "text",
    "id": "6Xk9521DC5XX"
   },
   "source": [
    "# Numpy\n",
    "\n",
    "Numpy is a Python library which provides matrix manipulation capabilities and other standard numerical algorithms. Numpy and smart vectorization is the key to fast scientific computing in Python.\n",
    "\n",
    "Let's import numpy first:"
   ]
  },
  {
   "cell_type": "code",
   "execution_count": null,
   "metadata": {
    "colab": {},
    "colab_type": "code",
    "id": "ieK5f5sZC5XY"
   },
   "outputs": [],
   "source": [
    "import numpy as np"
   ]
  },
  {
   "cell_type": "markdown",
   "metadata": {
    "colab_type": "text",
    "id": "-ImTh5xaC5Xa"
   },
   "source": [
    "## Arrays"
   ]
  },
  {
   "cell_type": "markdown",
   "metadata": {
    "colab_type": "text",
    "id": "20uVHI9sC5Xb"
   },
   "source": [
    "You can create arrays from lists: "
   ]
  },
  {
   "cell_type": "code",
   "execution_count": null,
   "metadata": {
    "colab": {
     "base_uri": "https://localhost:8080/",
     "height": 119
    },
    "colab_type": "code",
    "executionInfo": {
     "elapsed": 648,
     "status": "ok",
     "timestamp": 1579556736574,
     "user": {
      "displayName": "Yutong Yan",
      "photoUrl": "https://lh3.googleusercontent.com/a-/AAuE7mCsL-LlMqYWLvFkaFRKbEKS-Sn18SBeWP9pEGFJ=s64",
      "userId": "12381088397448513568"
     },
     "user_tz": 300
    },
    "id": "cDzsaArrC5Xb",
    "outputId": "5bedf55f-7003-457b-c1ff-d66d4c83d092"
   },
   "outputs": [],
   "source": [
    "x = np.array([[1],[2],[3],[4.0]])\n",
    "print(x)\n",
    "print(x.shape)\n",
    "print(x.dtype)"
   ]
  },
  {
   "cell_type": "markdown",
   "metadata": {
    "colab_type": "text",
    "id": "PY6MlJEiC5Xf"
   },
   "source": [
    "Similarly, you can define a numpy matrix as:"
   ]
  },
  {
   "cell_type": "code",
   "execution_count": null,
   "metadata": {
    "colab": {
     "base_uri": "https://localhost:8080/",
     "height": 68
    },
    "colab_type": "code",
    "executionInfo": {
     "elapsed": 695,
     "status": "ok",
     "timestamp": 1579556738792,
     "user": {
      "displayName": "Yutong Yan",
      "photoUrl": "https://lh3.googleusercontent.com/a-/AAuE7mCsL-LlMqYWLvFkaFRKbEKS-Sn18SBeWP9pEGFJ=s64",
      "userId": "12381088397448513568"
     },
     "user_tz": 300
    },
    "id": "k_6DDa3YC5Xg",
    "outputId": "9b19621f-f24d-4115-ed28-f4316a527b4a"
   },
   "outputs": [],
   "source": [
    "X = np.array([[1,2,3], [4,5,6]])\n",
    "print(X)\n",
    "print(X.shape)"
   ]
  },
  {
   "cell_type": "code",
   "execution_count": null,
   "metadata": {
    "colab": {
     "base_uri": "https://localhost:8080/",
     "height": 68
    },
    "colab_type": "code",
    "executionInfo": {
     "elapsed": 987,
     "status": "ok",
     "timestamp": 1579556744691,
     "user": {
      "displayName": "Yutong Yan",
      "photoUrl": "https://lh3.googleusercontent.com/a-/AAuE7mCsL-LlMqYWLvFkaFRKbEKS-Sn18SBeWP9pEGFJ=s64",
      "userId": "12381088397448513568"
     },
     "user_tz": 300
    },
    "id": "WD6cT1OaC5Xk",
    "outputId": "9c9f1fae-f469-4922-a001-1d52b6584002"
   },
   "outputs": [],
   "source": [
    "X = np.eye(3)  # Create an array of all zeros\n",
    "print (X)"
   ]
  },
  {
   "cell_type": "code",
   "execution_count": null,
   "metadata": {
    "colab": {
     "base_uri": "https://localhost:8080/",
     "height": 85
    },
    "colab_type": "code",
    "executionInfo": {
     "elapsed": 704,
     "status": "ok",
     "timestamp": 1579556818849,
     "user": {
      "displayName": "Yutong Yan",
      "photoUrl": "https://lh3.googleusercontent.com/a-/AAuE7mCsL-LlMqYWLvFkaFRKbEKS-Sn18SBeWP9pEGFJ=s64",
      "userId": "12381088397448513568"
     },
     "user_tz": 300
    },
    "id": "Sv4Q2bbG62RP",
    "outputId": "aef9a561-251f-44d3-c001-fc44dc0963fc"
   },
   "outputs": [],
   "source": [
    "X = np.random.randint(10, size = (4, 4))\n",
    "print (X)"
   ]
  },
  {
   "cell_type": "code",
   "execution_count": null,
   "metadata": {
    "colab": {
     "base_uri": "https://localhost:8080/",
     "height": 85
    },
    "colab_type": "code",
    "executionInfo": {
     "elapsed": 439,
     "status": "ok",
     "timestamp": 1579556849710,
     "user": {
      "displayName": "Yutong Yan",
      "photoUrl": "https://lh3.googleusercontent.com/a-/AAuE7mCsL-LlMqYWLvFkaFRKbEKS-Sn18SBeWP9pEGFJ=s64",
      "userId": "12381088397448513568"
     },
     "user_tz": 300
    },
    "id": "kxnzrdsLC5Xo",
    "outputId": "d71b1807-b636-4d47-b3c0-c2f28cc17473"
   },
   "outputs": [],
   "source": [
    "# random number from 0 to 1\n",
    "X = np.random.random((4,4)) # Create an array filled with random values\n",
    "print (X)"
   ]
  },
  {
   "cell_type": "markdown",
   "metadata": {
    "colab_type": "text",
    "id": "N3SKXmQ4C5Xq"
   },
   "source": [
    "### Indexing \n",
    "\n",
    "Similar to that of lists."
   ]
  },
  {
   "cell_type": "code",
   "execution_count": null,
   "metadata": {
    "colab": {
     "base_uri": "https://localhost:8080/",
     "height": 34
    },
    "colab_type": "code",
    "executionInfo": {
     "elapsed": 807,
     "status": "ok",
     "timestamp": 1579556851711,
     "user": {
      "displayName": "Yutong Yan",
      "photoUrl": "https://lh3.googleusercontent.com/a-/AAuE7mCsL-LlMqYWLvFkaFRKbEKS-Sn18SBeWP9pEGFJ=s64",
      "userId": "12381088397448513568"
     },
     "user_tz": 300
    },
    "id": "QJ1s1SP7C5Xr",
    "outputId": "c208244f-05bf-41a4-e409-feccdfd0b34b"
   },
   "outputs": [],
   "source": [
    "#accessing an element; Matrix[row,column]\n",
    "X[0,0]"
   ]
  },
  {
   "cell_type": "code",
   "execution_count": null,
   "metadata": {
    "colab": {
     "base_uri": "https://localhost:8080/",
     "height": 34
    },
    "colab_type": "code",
    "executionInfo": {
     "elapsed": 766,
     "status": "ok",
     "timestamp": 1579556854127,
     "user": {
      "displayName": "Yutong Yan",
      "photoUrl": "https://lh3.googleusercontent.com/a-/AAuE7mCsL-LlMqYWLvFkaFRKbEKS-Sn18SBeWP9pEGFJ=s64",
      "userId": "12381088397448513568"
     },
     "user_tz": 300
    },
    "id": "0cLZlVPRC5Xu",
    "outputId": "73b069e1-6295-4c76-bc4f-5dd4d0a9e53f"
   },
   "outputs": [],
   "source": [
    "#selecting the first row\n",
    "X[0]"
   ]
  },
  {
   "cell_type": "code",
   "execution_count": null,
   "metadata": {
    "colab": {
     "base_uri": "https://localhost:8080/",
     "height": 68
    },
    "colab_type": "code",
    "executionInfo": {
     "elapsed": 517,
     "status": "ok",
     "timestamp": 1579556855893,
     "user": {
      "displayName": "Yutong Yan",
      "photoUrl": "https://lh3.googleusercontent.com/a-/AAuE7mCsL-LlMqYWLvFkaFRKbEKS-Sn18SBeWP9pEGFJ=s64",
      "userId": "12381088397448513568"
     },
     "user_tz": 300
    },
    "id": "vCk-zRuIC5Xx",
    "outputId": "c0bd8da2-5fd4-4bc0-88cd-b5143a4eef32"
   },
   "outputs": [],
   "source": [
    "#Selecting all rows except the first and select all columns:\n",
    "X[1:,:-1]"
   ]
  },
  {
   "cell_type": "code",
   "execution_count": null,
   "metadata": {
    "colab": {
     "base_uri": "https://localhost:8080/",
     "height": 85
    },
    "colab_type": "code",
    "executionInfo": {
     "elapsed": 404,
     "status": "ok",
     "timestamp": 1579556867949,
     "user": {
      "displayName": "Yutong Yan",
      "photoUrl": "https://lh3.googleusercontent.com/a-/AAuE7mCsL-LlMqYWLvFkaFRKbEKS-Sn18SBeWP9pEGFJ=s64",
      "userId": "12381088397448513568"
     },
     "user_tz": 300
    },
    "id": "xl_-CbxjC5X0",
    "outputId": "56d0757e-2064-4dcc-9c23-7302bfa70274"
   },
   "outputs": [],
   "source": [
    "#select columns 0 and 2\n",
    "X[:,[0,2]]"
   ]
  },
  {
   "cell_type": "markdown",
   "metadata": {
    "colab_type": "text",
    "id": "42v6Zla8C5X2"
   },
   "source": [
    "You can also index through boolean formulas:"
   ]
  },
  {
   "cell_type": "code",
   "execution_count": null,
   "metadata": {
    "colab": {
     "base_uri": "https://localhost:8080/",
     "height": 85
    },
    "colab_type": "code",
    "executionInfo": {
     "elapsed": 591,
     "status": "ok",
     "timestamp": 1579556872951,
     "user": {
      "displayName": "Yutong Yan",
      "photoUrl": "https://lh3.googleusercontent.com/a-/AAuE7mCsL-LlMqYWLvFkaFRKbEKS-Sn18SBeWP9pEGFJ=s64",
      "userId": "12381088397448513568"
     },
     "user_tz": 300
    },
    "id": "YdGLA2nrC5X2",
    "outputId": "94c3551e-e662-4fa9-e870-1baf15a5aafb"
   },
   "outputs": [],
   "source": [
    "X < 0.5 #creates a boolean array"
   ]
  },
  {
   "cell_type": "code",
   "execution_count": null,
   "metadata": {
    "colab": {
     "base_uri": "https://localhost:8080/",
     "height": 51
    },
    "colab_type": "code",
    "executionInfo": {
     "elapsed": 621,
     "status": "ok",
     "timestamp": 1579556879297,
     "user": {
      "displayName": "Yutong Yan",
      "photoUrl": "https://lh3.googleusercontent.com/a-/AAuE7mCsL-LlMqYWLvFkaFRKbEKS-Sn18SBeWP9pEGFJ=s64",
      "userId": "12381088397448513568"
     },
     "user_tz": 300
    },
    "id": "ZWPNK14NC5X5",
    "outputId": "02a74326-26ed-463b-cbe5-81dc6a29a7a8"
   },
   "outputs": [],
   "source": [
    "X[X < 0.5] #select all elements that are less than 0.5"
   ]
  },
  {
   "cell_type": "markdown",
   "metadata": {
    "colab_type": "text",
    "id": "Gl9tevcDC5X9"
   },
   "source": [
    "### Array Math"
   ]
  },
  {
   "cell_type": "code",
   "execution_count": null,
   "metadata": {
    "colab": {
     "base_uri": "https://localhost:8080/",
     "height": 119
    },
    "colab_type": "code",
    "executionInfo": {
     "elapsed": 535,
     "status": "ok",
     "timestamp": 1579556887619,
     "user": {
      "displayName": "Yutong Yan",
      "photoUrl": "https://lh3.googleusercontent.com/a-/AAuE7mCsL-LlMqYWLvFkaFRKbEKS-Sn18SBeWP9pEGFJ=s64",
      "userId": "12381088397448513568"
     },
     "user_tz": 300
    },
    "id": "9BVK3OY5C5X-",
    "outputId": "ad29a56f-361d-4799-8e8d-63e8bda9c0e2"
   },
   "outputs": [],
   "source": [
    "x = np.array([[1,2],[3,4]], dtype=np.float64)\n",
    "y = np.array([[5,6],[7,8]], dtype=np.float64)\n",
    "\n",
    "# Elementwise sum; both produce the array\n",
    "print (\"x + y = \\n\", x + y)\n",
    "print (\"np.add(x, y) = \\n\", np.add(x, y))"
   ]
  },
  {
   "cell_type": "markdown",
   "metadata": {
    "colab_type": "text",
    "id": "wX2h6RqTC5YC"
   },
   "source": [
    "Use the dot function to compute inner products of vectors, to multiply a vector by a matrix, and to multiply matrices."
   ]
  },
  {
   "cell_type": "code",
   "execution_count": null,
   "metadata": {
    "colab": {
     "base_uri": "https://localhost:8080/",
     "height": 119
    },
    "colab_type": "code",
    "executionInfo": {
     "elapsed": 783,
     "status": "ok",
     "timestamp": 1579556901566,
     "user": {
      "displayName": "Yutong Yan",
      "photoUrl": "https://lh3.googleusercontent.com/a-/AAuE7mCsL-LlMqYWLvFkaFRKbEKS-Sn18SBeWP9pEGFJ=s64",
      "userId": "12381088397448513568"
     },
     "user_tz": 300
    },
    "id": "JW_6VkUzC5YC",
    "outputId": "a4cff93e-3bdb-47a7-8043-93e00e816387"
   },
   "outputs": [],
   "source": [
    "print (\"x.dot(y) = \\n\", x.dot(y))\n",
    "print (\"np.dot(x,y) = \\n\", np.dot(x, y))"
   ]
  },
  {
   "cell_type": "markdown",
   "metadata": {
    "colab_type": "text",
    "id": "EJSw9EncC5YE"
   },
   "source": [
    "Of course, dimensions must match"
   ]
  },
  {
   "cell_type": "code",
   "execution_count": null,
   "metadata": {
    "colab": {
     "base_uri": "https://localhost:8080/",
     "height": 266
    },
    "colab_type": "code",
    "executionInfo": {
     "elapsed": 633,
     "status": "error",
     "timestamp": 1579556906554,
     "user": {
      "displayName": "Yutong Yan",
      "photoUrl": "https://lh3.googleusercontent.com/a-/AAuE7mCsL-LlMqYWLvFkaFRKbEKS-Sn18SBeWP9pEGFJ=s64",
      "userId": "12381088397448513568"
     },
     "user_tz": 300
    },
    "id": "iyzGsS6kC5YE",
    "outputId": "2d392c71-83fe-4f6f-8c85-38c94affdfd4"
   },
   "outputs": [],
   "source": [
    "x2 = np.array([[1,2], [1,2]])\n",
    "print (\"np.shape(x2) = \", np.shape(x2))\n",
    "y2 = np.array([[1,2,3],[1,2,3],[1,2,3]])\n",
    "print (\"np.shape(y2) = \", np.shape(y2))\n",
    "np.dot(x2,y2)"
   ]
  },
  {
   "cell_type": "code",
   "execution_count": null,
   "metadata": {
    "colab": {
     "base_uri": "https://localhost:8080/",
     "height": 170
    },
    "colab_type": "code",
    "executionInfo": {
     "elapsed": 730,
     "status": "ok",
     "timestamp": 1579557086147,
     "user": {
      "displayName": "Yutong Yan",
      "photoUrl": "https://lh3.googleusercontent.com/a-/AAuE7mCsL-LlMqYWLvFkaFRKbEKS-Sn18SBeWP9pEGFJ=s64",
      "userId": "12381088397448513568"
     },
     "user_tz": 300
    },
    "id": "AaucrAVF7eX8",
    "outputId": "21bc83aa-49c1-4b24-cdd0-c427adef9cae"
   },
   "outputs": [],
   "source": [
    "x = np.array([[1,2],[3,4]], dtype=np.float64)\n",
    "x = x.reshape((1, 2, 2, 1))\n",
    "print (x.shape)\n",
    "print (x)\n",
    "y = np.array([[5,6],[7,8]], dtype=np.float64)\n",
    "# print (np.dot(x, y))\n",
    "\n",
    "# Squeeze() removes single-dimensional entries from the shape of an array\n",
    "x = np.squeeze(x)\n",
    "print (x.shape)\n",
    "print (np.dot(x, y))"
   ]
  },
  {
   "cell_type": "code",
   "execution_count": null,
   "metadata": {
    "colab": {
     "base_uri": "https://localhost:8080/",
     "height": 170
    },
    "colab_type": "code",
    "executionInfo": {
     "elapsed": 653,
     "status": "ok",
     "timestamp": 1579557130177,
     "user": {
      "displayName": "Yutong Yan",
      "photoUrl": "https://lh3.googleusercontent.com/a-/AAuE7mCsL-LlMqYWLvFkaFRKbEKS-Sn18SBeWP9pEGFJ=s64",
      "userId": "12381088397448513568"
     },
     "user_tz": 300
    },
    "id": "mXmlllYnC5YG",
    "outputId": "71bbbb10-9b8d-4799-81d0-c771015984a1"
   },
   "outputs": [],
   "source": [
    "# calculate transpose and inverse\n",
    "x_transp = x.T\n",
    "print (\"x = \\n\", x)\n",
    "print (\"x_transp = \\n\",x_transp)\n",
    "x_inv = np.linalg.inv(x)\n",
    "print (\"x_inv = \\n\", x_inv)"
   ]
  },
  {
   "cell_type": "code",
   "execution_count": null,
   "metadata": {
    "colab": {
     "base_uri": "https://localhost:8080/",
     "height": 85
    },
    "colab_type": "code",
    "executionInfo": {
     "elapsed": 629,
     "status": "ok",
     "timestamp": 1579557318195,
     "user": {
      "displayName": "Yutong Yan",
      "photoUrl": "https://lh3.googleusercontent.com/a-/AAuE7mCsL-LlMqYWLvFkaFRKbEKS-Sn18SBeWP9pEGFJ=s64",
      "userId": "12381088397448513568"
     },
     "user_tz": 300
    },
    "id": "ZzZ2MEKk8dbr",
    "outputId": "05e69e0a-4996-438c-e86c-374f4387b8e1"
   },
   "outputs": [],
   "source": [
    "#Avoid using inv(), instead use solve()\n",
    "np.random.seed(0)\n",
    "#Solve x for the equation Ax = b\n",
    "A = np.random.randint(5, size=(2, 2))\n",
    "b = np.random.random((2, 1))\n",
    "x = np.linalg.solve(A, b)\n",
    "print (x)\n",
    "\n",
    "print (np.linalg.inv(A).dot(b))"
   ]
  },
  {
   "cell_type": "code",
   "execution_count": null,
   "metadata": {
    "colab": {
     "base_uri": "https://localhost:8080/",
     "height": 85
    },
    "colab_type": "code",
    "executionInfo": {
     "elapsed": 640,
     "status": "ok",
     "timestamp": 1579557483218,
     "user": {
      "displayName": "Yutong Yan",
      "photoUrl": "https://lh3.googleusercontent.com/a-/AAuE7mCsL-LlMqYWLvFkaFRKbEKS-Sn18SBeWP9pEGFJ=s64",
      "userId": "12381088397448513568"
     },
     "user_tz": 300
    },
    "id": "BLwJRnelWWcf",
    "outputId": "f445fe27-3681-4959-b068-df91a5b4c69f"
   },
   "outputs": [],
   "source": [
    "q = np.array([[1, 2]])\n",
    "w = np.array([[1, 2]])\n",
    "\n",
    "a = np.concatenate((q, w), axis = 0)\n",
    "print (a, a.shape)\n",
    "b = np.vstack((q, w))\n",
    "print (a, a.shape)"
   ]
  },
  {
   "cell_type": "code",
   "execution_count": null,
   "metadata": {
    "colab": {
     "base_uri": "https://localhost:8080/",
     "height": 102
    },
    "colab_type": "code",
    "executionInfo": {
     "elapsed": 304,
     "status": "ok",
     "timestamp": 1579557538964,
     "user": {
      "displayName": "Yutong Yan",
      "photoUrl": "https://lh3.googleusercontent.com/a-/AAuE7mCsL-LlMqYWLvFkaFRKbEKS-Sn18SBeWP9pEGFJ=s64",
      "userId": "12381088397448513568"
     },
     "user_tz": 300
    },
    "id": "UTueQ3aD9nth",
    "outputId": "47bace75-570b-48ab-c60d-b742d7093afe"
   },
   "outputs": [],
   "source": [
    "#Random seed: generate the same number from random function\n",
    "for i in range(5): \n",
    "    np.random.seed(0)\n",
    "    print(np.random.randint(1, 1000))"
   ]
  },
  {
   "cell_type": "code",
   "execution_count": null,
   "metadata": {
    "colab": {
     "base_uri": "https://localhost:8080/",
     "height": 102
    },
    "colab_type": "code",
    "executionInfo": {
     "elapsed": 454,
     "status": "ok",
     "timestamp": 1579557605006,
     "user": {
      "displayName": "Yutong Yan",
      "photoUrl": "https://lh3.googleusercontent.com/a-/AAuE7mCsL-LlMqYWLvFkaFRKbEKS-Sn18SBeWP9pEGFJ=s64",
      "userId": "12381088397448513568"
     },
     "user_tz": 300
    },
    "id": "TkrIol1c-Dgx",
    "outputId": "278cf560-eaa2-4b02-e81e-f63d0a767f4d"
   },
   "outputs": [],
   "source": [
    "for i in range(5):\n",
    "    print(np.random.randint(1, 1000))   "
   ]
  },
  {
   "cell_type": "markdown",
   "metadata": {
    "colab_type": "text",
    "id": "pXuYRLmYC5YJ"
   },
   "source": [
    "And now you have enough to do linear regression!"
   ]
  },
  {
   "cell_type": "markdown",
   "metadata": {
    "colab_type": "text",
    "id": "_uZrIwp7C5YK"
   },
   "source": [
    "# MatplotLib\n",
    "\n",
    "Matplotlib is a plotting library. As usual, we import it first"
   ]
  },
  {
   "cell_type": "code",
   "execution_count": null,
   "metadata": {
    "colab": {},
    "colab_type": "code",
    "id": "F4M69U2eC5YK"
   },
   "outputs": [],
   "source": [
    "import matplotlib.pyplot as plt"
   ]
  },
  {
   "cell_type": "code",
   "execution_count": null,
   "metadata": {
    "colab": {},
    "colab_type": "code",
    "id": "7aW-qKl0C5YL"
   },
   "outputs": [],
   "source": [
    "%matplotlib inline"
   ]
  },
  {
   "cell_type": "markdown",
   "metadata": {
    "colab_type": "text",
    "id": "6iQx7JwSC5YN"
   },
   "source": [
    "Use the ```plot``` function to plot the 2D data."
   ]
  },
  {
   "cell_type": "code",
   "execution_count": null,
   "metadata": {
    "colab": {
     "base_uri": "https://localhost:8080/",
     "height": 295
    },
    "colab_type": "code",
    "executionInfo": {
     "elapsed": 763,
     "status": "ok",
     "timestamp": 1579557672863,
     "user": {
      "displayName": "Yutong Yan",
      "photoUrl": "https://lh3.googleusercontent.com/a-/AAuE7mCsL-LlMqYWLvFkaFRKbEKS-Sn18SBeWP9pEGFJ=s64",
      "userId": "12381088397448513568"
     },
     "user_tz": 300
    },
    "id": "785Ygz4VC5YO",
    "outputId": "773f350f-9859-4bf7-d11b-0f5f6bcbe194"
   },
   "outputs": [],
   "source": [
    "plt.title(\"My Plot\")\n",
    "#x is 0, 1, 2, 3\n",
    "plt.plot([1,2,3,4])\n",
    "plt.ylabel('some numbers')\n",
    "plt.xlabel('some numbers')\n",
    "plt.savefig('a.pdf')\n",
    "plt.show()"
   ]
  },
  {
   "cell_type": "markdown",
   "metadata": {
    "colab_type": "text",
    "id": "LP3vb2pcC5YP"
   },
   "source": [
    "The format of plot function is (x-axis values, y-axis values, style)"
   ]
  },
  {
   "cell_type": "code",
   "execution_count": null,
   "metadata": {
    "colab": {
     "base_uri": "https://localhost:8080/",
     "height": 286
    },
    "colab_type": "code",
    "executionInfo": {
     "elapsed": 487,
     "status": "ok",
     "timestamp": 1579557676665,
     "user": {
      "displayName": "Yutong Yan",
      "photoUrl": "https://lh3.googleusercontent.com/a-/AAuE7mCsL-LlMqYWLvFkaFRKbEKS-Sn18SBeWP9pEGFJ=s64",
      "userId": "12381088397448513568"
     },
     "user_tz": 300
    },
    "id": "BQ2LV4x7C5YR",
    "outputId": "fb1f25c4-7ffd-4e94-81e0-8ea826fc61db"
   },
   "outputs": [],
   "source": [
    "plt.plot([1,2,3,4], [1,4,9,16], 'b--') # Here r means red, o means circle\n",
    "plt.axis([0, 6, 0, 20]) # changes the default axis length"
   ]
  },
  {
   "cell_type": "markdown",
   "metadata": {
    "colab_type": "text",
    "id": "RrFv2UD3C5YT"
   },
   "source": [
    "You can also plot multiple curves "
   ]
  },
  {
   "cell_type": "code",
   "execution_count": null,
   "metadata": {
    "colab": {
     "base_uri": "https://localhost:8080/",
     "height": 295
    },
    "colab_type": "code",
    "executionInfo": {
     "elapsed": 798,
     "status": "ok",
     "timestamp": 1579557686560,
     "user": {
      "displayName": "Yutong Yan",
      "photoUrl": "https://lh3.googleusercontent.com/a-/AAuE7mCsL-LlMqYWLvFkaFRKbEKS-Sn18SBeWP9pEGFJ=s64",
      "userId": "12381088397448513568"
     },
     "user_tz": 300
    },
    "id": "0fH1LvT7C5YT",
    "outputId": "dfe5e7f9-cbf2-46fa-8e04-537919e778cd"
   },
   "outputs": [],
   "source": [
    "t = np.arange(0., 5., 0.2)\n",
    "\n",
    "plt.plot(t, t, 'r--')\n",
    "plt.plot(t, t**2, 'bs')\n",
    "plt.plot(t, t**3, 'g^')\n",
    "plt.xlabel('x axis label')\n",
    "plt.ylabel('y axis label')\n",
    "plt.title('Curves')\n",
    "plt.legend(['t', 't**2', 't**3'])\n",
    "plt.show()"
   ]
  },
  {
   "cell_type": "markdown",
   "metadata": {
    "colab_type": "text",
    "id": "61Iv18yPC5YV"
   },
   "source": [
    "You can plot different curves in the same figure using the ```subplot``` function. "
   ]
  },
  {
   "cell_type": "code",
   "execution_count": null,
   "metadata": {
    "colab": {
     "base_uri": "https://localhost:8080/",
     "height": 265
    },
    "colab_type": "code",
    "executionInfo": {
     "elapsed": 749,
     "status": "ok",
     "timestamp": 1579557689824,
     "user": {
      "displayName": "Yutong Yan",
      "photoUrl": "https://lh3.googleusercontent.com/a-/AAuE7mCsL-LlMqYWLvFkaFRKbEKS-Sn18SBeWP9pEGFJ=s64",
      "userId": "12381088397448513568"
     },
     "user_tz": 300
    },
    "id": "0IVySDy0C5YV",
    "outputId": "4fa38516-f714-46dd-d134-9c19f2203b19"
   },
   "outputs": [],
   "source": [
    "def f(t):\n",
    "    return np.exp(-t) * np.cos(2*np.pi*t)\n",
    "\n",
    "t1 = np.arange(0.0, 5.0, 0.1)\n",
    "t2 = np.arange(0.0, 5.0, 0.02)\n",
    "\n",
    "plt.figure(figsize = (5, 4))\n",
    "plt.subplot(211)\n",
    "plt.plot(t1, f(t1), 'bo', t2, f(t2), 'k')\n",
    "\n",
    "plt.subplot(212)\n",
    "plt.plot(t2, np.cos(2*np.pi*t2), 'r--')\n",
    "\n",
    "plt.show()"
   ]
  },
  {
   "cell_type": "code",
   "execution_count": null,
   "metadata": {
    "colab": {
     "base_uri": "https://localhost:8080/",
     "height": 311
    },
    "colab_type": "code",
    "executionInfo": {
     "elapsed": 711,
     "status": "ok",
     "timestamp": 1579557973108,
     "user": {
      "displayName": "Yutong Yan",
      "photoUrl": "https://lh3.googleusercontent.com/a-/AAuE7mCsL-LlMqYWLvFkaFRKbEKS-Sn18SBeWP9pEGFJ=s64",
      "userId": "12381088397448513568"
     },
     "user_tz": 300
    },
    "id": "EZpj0syH_UFC",
    "outputId": "18c79fad-5c0a-429a-8534-8fcda7718750"
   },
   "outputs": [],
   "source": [
    "# Group the plots nicely\n",
    "# Taken from https://matplotlib.org/devdocs/gallery/subplots_axes_and_figures/subplots_demo.html\n",
    "x = np.linspace(0, 2 * np.pi, 400)\n",
    "y = np.sin(x ** 2)\n",
    "\n",
    "fig, axs = plt.subplots(2)\n",
    "fig.suptitle('Vertically stacked subplots')\n",
    "axs[0].plot(x, y)\n",
    "axs[1].plot(x, -y)"
   ]
  },
  {
   "cell_type": "code",
   "execution_count": null,
   "metadata": {
    "colab": {
     "base_uri": "https://localhost:8080/",
     "height": 311
    },
    "colab_type": "code",
    "executionInfo": {
     "elapsed": 965,
     "status": "ok",
     "timestamp": 1579558011203,
     "user": {
      "displayName": "Yutong Yan",
      "photoUrl": "https://lh3.googleusercontent.com/a-/AAuE7mCsL-LlMqYWLvFkaFRKbEKS-Sn18SBeWP9pEGFJ=s64",
      "userId": "12381088397448513568"
     },
     "user_tz": 300
    },
    "id": "-CDZgs_T_nA1",
    "outputId": "f1f55280-5633-4250-f64b-cc770014e8e9"
   },
   "outputs": [],
   "source": [
    "fig, (ax1, ax2) = plt.subplots(2, sharex=True)\n",
    "fig.suptitle('Aligning x-axis using sharex')\n",
    "ax1.plot(x, y)\n",
    "ax2.plot(x + 1, -y)"
   ]
  },
  {
   "cell_type": "code",
   "execution_count": null,
   "metadata": {
    "colab": {
     "base_uri": "https://localhost:8080/",
     "height": 294
    },
    "colab_type": "code",
    "executionInfo": {
     "elapsed": 1375,
     "status": "ok",
     "timestamp": 1579557978572,
     "user": {
      "displayName": "Yutong Yan",
      "photoUrl": "https://lh3.googleusercontent.com/a-/AAuE7mCsL-LlMqYWLvFkaFRKbEKS-Sn18SBeWP9pEGFJ=s64",
      "userId": "12381088397448513568"
     },
     "user_tz": 300
    },
    "id": "samBVjTE_d4i",
    "outputId": "041a5ccf-3b35-4a3e-9916-0b5e2afe74c8"
   },
   "outputs": [],
   "source": [
    "fig, ((ax1, ax2), (ax3, ax4)) = plt.subplots(2, 2)\n",
    "fig.suptitle('Sharing x per column, y per row')\n",
    "ax1.plot(x, y)\n",
    "ax2.plot(x, y**2, 'tab:orange')\n",
    "ax3.plot(x, -y, 'tab:green')\n",
    "ax4.plot(x, -y**2, 'tab:red')\n",
    "\n",
    "for ax in fig.get_axes():\n",
    "    ax.label_outer()"
   ]
  },
  {
   "cell_type": "markdown",
   "metadata": {
    "colab_type": "text",
    "id": "uZDYOYm1C5YY"
   },
   "source": [
    "### More reading\n",
    "\n",
    "http://matplotlib.org/users/pyplot_tutorial.html"
   ]
  },
  {
   "cell_type": "markdown",
   "metadata": {
    "colab_type": "text",
    "id": "lP0-W_OIZWam"
   },
   "source": [
    "# Practice Problems"
   ]
  },
  {
   "cell_type": "markdown",
   "metadata": {
    "colab_type": "text",
    "id": "kkCKINpKZwi0"
   },
   "source": [
    "### 1."
   ]
  },
  {
   "cell_type": "markdown",
   "metadata": {
    "colab_type": "text",
    "id": "-qjDaOnyZjXc"
   },
   "source": [
    "Return the maximum number and the index of that number from an array of numbers"
   ]
  },
  {
   "cell_type": "code",
   "execution_count": null,
   "metadata": {
    "colab": {
     "base_uri": "https://localhost:8080/",
     "height": 34
    },
    "colab_type": "code",
    "executionInfo": {
     "elapsed": 610,
     "status": "ok",
     "timestamp": 1579558070423,
     "user": {
      "displayName": "Yutong Yan",
      "photoUrl": "https://lh3.googleusercontent.com/a-/AAuE7mCsL-LlMqYWLvFkaFRKbEKS-Sn18SBeWP9pEGFJ=s64",
      "userId": "12381088397448513568"
     },
     "user_tz": 300
    },
    "id": "uh8F9agEa8cY",
    "outputId": "dc645ce2-042b-4115-9c26-547515c0ef96"
   },
   "outputs": [],
   "source": [
    "data = [123,-23,454,34,766,-2,0,25,-43,65]\n",
    "\n",
    "max_value = max(data)\n",
    "max_index = data.index(max_value)\n",
    "\n",
    "print(\"The max value is {0} which is found at index {1}\".format(max_value,max_index))\n"
   ]
  },
  {
   "cell_type": "markdown",
   "metadata": {
    "colab_type": "text",
    "id": "bvzJHdSyc2nF"
   },
   "source": [
    "### 2."
   ]
  },
  {
   "cell_type": "markdown",
   "metadata": {
    "colab_type": "text",
    "id": "H93Y94RegNro"
   },
   "source": [
    "Plot a sin function as well as noise corrupted data from this sin function (as seen in class)"
   ]
  },
  {
   "cell_type": "code",
   "execution_count": null,
   "metadata": {
    "colab": {
     "base_uri": "https://localhost:8080/",
     "height": 281
    },
    "colab_type": "code",
    "executionInfo": {
     "elapsed": 795,
     "status": "ok",
     "timestamp": 1579558101666,
     "user": {
      "displayName": "Yutong Yan",
      "photoUrl": "https://lh3.googleusercontent.com/a-/AAuE7mCsL-LlMqYWLvFkaFRKbEKS-Sn18SBeWP9pEGFJ=s64",
      "userId": "12381088397448513568"
     },
     "user_tz": 300
    },
    "id": "PldtdbE7gU_p",
    "outputId": "4d646c50-f38d-4935-d80b-2133afc6b2ee"
   },
   "outputs": [],
   "source": [
    "np.random.seed(100)\n",
    "def sin_function(t):\n",
    "  \n",
    "  return np.sin(2*np.pi*t)\n",
    "\n",
    "t1 = np.arange(0,1,0.1)\n",
    "\n",
    "y = sin_function(t1)\n",
    "\n",
    "noise = np.random.normal(0,0.1,10)\n",
    "\n",
    "data = y + noise # data observed\n",
    "\n",
    "# origional data\n",
    "x_coords = np.arange(0,1,0.01)\n",
    "origional_data = sin_function(x_coords)\n",
    "\n",
    "plt.plot(t1,data,\"bo\") # plot observed data\n",
    "plt.plot(x_coords,origional_data) #plot origional data\n",
    "plt.title(\"Plot of noise corrupted data\") #give title\n",
    "plt.legend([\"obeserved data\",'true underlying function'])\n",
    "plt.show()"
   ]
  },
  {
   "cell_type": "markdown",
   "metadata": {
    "colab_type": "text",
    "id": "4p2q0jsFl7tE"
   },
   "source": [
    "### 3.\n",
    "\n"
   ]
  },
  {
   "cell_type": "markdown",
   "metadata": {
    "colab_type": "text",
    "id": "cGdYetHrmN5G"
   },
   "source": [
    "Determine if an array is monotonic.\n",
    "<br>Example:<br>\n",
    "- [1,2,3,3,3,3,3,4,5,6,7] is monotonic (increasing)\n",
    "- [7,6,5,4,3,3,3,3,3,2,1] is monotonic (decreasing)\n",
    "- [1,5,4,3,3,3,3,3,2,6,7] is not monotonic"
   ]
  },
  {
   "cell_type": "code",
   "execution_count": null,
   "metadata": {
    "cellView": "code",
    "colab": {},
    "colab_type": "code",
    "id": "mM-1hRewnFEF"
   },
   "outputs": [],
   "source": [
    "def isMonotonic(arr):\n",
    "    behaviour = None\n",
    "    for i in range(len(arr)-1):\n",
    "        b = arr[i] - arr[i+1]\n",
    "        if b > 0:\n",
    "            b = 1\n",
    "        if b < 0:\n",
    "            b = -1\n",
    "        if b != 0:\n",
    "            if behaviour == None:\n",
    "                behaviour = b\n",
    "            else:\n",
    "                if behaviour != b:\n",
    "                    return False\n",
    "    return True"
   ]
  },
  {
   "cell_type": "code",
   "execution_count": null,
   "metadata": {
    "colab": {
     "base_uri": "https://localhost:8080/",
     "height": 68
    },
    "colab_type": "code",
    "executionInfo": {
     "elapsed": 735,
     "status": "ok",
     "timestamp": 1579558218032,
     "user": {
      "displayName": "Yutong Yan",
      "photoUrl": "https://lh3.googleusercontent.com/a-/AAuE7mCsL-LlMqYWLvFkaFRKbEKS-Sn18SBeWP9pEGFJ=s64",
      "userId": "12381088397448513568"
     },
     "user_tz": 300
    },
    "id": "Gpm2Lw5Jo5Jf",
    "outputId": "f6ecf5a7-fbc5-43ad-8ca6-ac487a3568c4"
   },
   "outputs": [],
   "source": [
    "print (isMonotonic([1,5,4,3,3,3,3,3,2,6,7]))\n",
    "print (isMonotonic([7,6,5,4,3,3,3,3,3,2,1]))\n",
    "print (isMonotonic([1,1,1,1,1,1,1]))"
   ]
  },
  {
   "cell_type": "markdown",
   "metadata": {
    "colab_type": "text",
    "id": "Qf6KUtPWpoOR"
   },
   "source": [
    "### 4."
   ]
  },
  {
   "cell_type": "markdown",
   "metadata": {
    "colab_type": "text",
    "id": "vYeCgjhLpqWy"
   },
   "source": [
    "Hard(er) problem for plotting using matplotlib"
   ]
  },
  {
   "cell_type": "markdown",
   "metadata": {
    "colab_type": "text",
    "id": "ahLe-TqQpwJ4"
   },
   "source": [
    "Plot the decision boundary for a circle of radius 2"
   ]
  },
  {
   "cell_type": "code",
   "execution_count": null,
   "metadata": {
    "colab": {
     "base_uri": "https://localhost:8080/",
     "height": 295
    },
    "colab_type": "code",
    "executionInfo": {
     "elapsed": 1129,
     "status": "ok",
     "timestamp": 1579558275315,
     "user": {
      "displayName": "Yutong Yan",
      "photoUrl": "https://lh3.googleusercontent.com/a-/AAuE7mCsL-LlMqYWLvFkaFRKbEKS-Sn18SBeWP9pEGFJ=s64",
      "userId": "12381088397448513568"
     },
     "user_tz": 300
    },
    "id": "9XD8ZeYkppmR",
    "outputId": "9bd3820f-f7ba-4e68-cb25-914455a46250"
   },
   "outputs": [],
   "source": [
    "import matplotlib.colors as colors\n",
    "\n",
    "size_of_map = np.arange(-3,3,0.01)\n",
    "xx, yy = np.meshgrid(size_of_map,size_of_map) # gives a rectangular grid out of \n",
    "                                              # input values\n",
    "\n",
    "# our data is generated randomly from the uniform random distribution\n",
    "x0 = np.random.uniform(-3,3,100)\n",
    "x1 = np.random.uniform(-3,3,100)\n",
    "\n",
    "# the underlying classification function, note that it has small gaussian noise\n",
    "def true_function(x0,x1):\n",
    "  \n",
    "  return x0**2 + x1**2 + np.random.normal(0,1) <= 4 \n",
    "\n",
    "y = true_function(x0,x1) #the true predictions for our data\n",
    "\n",
    "\n",
    "# our classifier, just the circle without the gaussian noise\n",
    "def classifier(x0,x1):\n",
    "  \n",
    "  return x0**2 + x1**2 <= 4\n",
    "  \n",
    "z = classifier(xx,yy) # our classifier applied to the entire grid \n",
    "\n",
    "\n",
    "cm_bright = colors.ListedColormap(['#0000FF', '#FF0000']) #just colors\n",
    "plt.contourf(xx,yy,z,alpha=0.5,cmap=cm_bright) #plot the contours using our classifier results\n",
    "plt.scatter(x0,x1,c=y,s=20,cmap = cm_bright) #scatter plot of true data\n",
    "\n",
    "# labelling the plot\n",
    "plt.xlabel(\"x0\")\n",
    "plt.ylabel(\"x1\")\n",
    "plt.title(\"Classifier boundries vs true data results\")\n",
    "plt.show()"
   ]
  },
  {
   "cell_type": "code",
   "execution_count": null,
   "metadata": {
    "colab": {},
    "colab_type": "code",
    "id": "eSHBJfp31ygj"
   },
   "outputs": [],
   "source": [
    "size_of_map = np.arange(-3, 3, 0.01)\n",
    "xx, yy = np.meshgrid(size_of_map,size_of_map)"
   ]
  },
  {
   "cell_type": "code",
   "execution_count": null,
   "metadata": {
    "colab": {
     "base_uri": "https://localhost:8080/",
     "height": 136
    },
    "colab_type": "code",
    "executionInfo": {
     "elapsed": 644,
     "status": "ok",
     "timestamp": 1579558451307,
     "user": {
      "displayName": "Yutong Yan",
      "photoUrl": "https://lh3.googleusercontent.com/a-/AAuE7mCsL-LlMqYWLvFkaFRKbEKS-Sn18SBeWP9pEGFJ=s64",
      "userId": "12381088397448513568"
     },
     "user_tz": 300
    },
    "id": "RHf3dg8rHeRH",
    "outputId": "9392252d-6446-4a7d-e256-49f458e7eefc"
   },
   "outputs": [],
   "source": [
    "xx"
   ]
  },
  {
   "cell_type": "code",
   "execution_count": null,
   "metadata": {
    "colab": {
     "base_uri": "https://localhost:8080/",
     "height": 136
    },
    "colab_type": "code",
    "executionInfo": {
     "elapsed": 573,
     "status": "ok",
     "timestamp": 1579558448007,
     "user": {
      "displayName": "Yutong Yan",
      "photoUrl": "https://lh3.googleusercontent.com/a-/AAuE7mCsL-LlMqYWLvFkaFRKbEKS-Sn18SBeWP9pEGFJ=s64",
      "userId": "12381088397448513568"
     },
     "user_tz": 300
    },
    "id": "cZEPjsvEHe7t",
    "outputId": "75c46e2b-b144-41ce-84c4-15312cd14b4d"
   },
   "outputs": [],
   "source": [
    "yy"
   ]
  },
  {
   "cell_type": "code",
   "execution_count": null,
   "metadata": {
    "colab": {
     "base_uri": "https://localhost:8080/",
     "height": 85
    },
    "colab_type": "code",
    "executionInfo": {
     "elapsed": 683,
     "status": "ok",
     "timestamp": 1579558491449,
     "user": {
      "displayName": "Yutong Yan",
      "photoUrl": "https://lh3.googleusercontent.com/a-/AAuE7mCsL-LlMqYWLvFkaFRKbEKS-Sn18SBeWP9pEGFJ=s64",
      "userId": "12381088397448513568"
     },
     "user_tz": 300
    },
    "id": "1GlJBh4xBSio",
    "outputId": "292f3578-2c7c-4522-cc0c-7482347c37b3"
   },
   "outputs": [],
   "source": [
    "# meshgrid() returns coordinate matrices from coordinate vectors\n",
    "nx, ny = (3, 2)\n",
    "x = np.linspace(0, 1, nx)\n",
    "y = np.linspace(0, 1, ny)\n",
    "xv, yv = np.meshgrid(x, y)\n",
    "print (xv)\n",
    "print (yv)"
   ]
  }
 ],
 "metadata": {
  "colab": {
   "collapsed_sections": [
    "D1NensvkC5VT",
    "t1EC4vAjC5V3",
    "E3Ng-kX0C5V4",
    "eHRyEpuHC5WX",
    "0HiEcQkgC5Wd",
    "jy33OnpgC5Wi",
    "iUzecZb9C5Wj",
    "zAd_wOcHC5Wp",
    "mPGl_pBzC5XB",
    "gJfks7prC5XH",
    "6Xk9521DC5XX",
    "-ImTh5xaC5Xa",
    "_uZrIwp7C5YK",
    "uZDYOYm1C5YY",
    "lP0-W_OIZWam"
   ],
   "name": "Python_Tutorial.ipynb",
   "provenance": []
  },
  "kernelspec": {
   "display_name": "Python 3",
   "language": "python",
   "name": "python3"
  },
  "language_info": {
   "codemirror_mode": {
    "name": "ipython",
    "version": 3
   },
   "file_extension": ".py",
   "mimetype": "text/x-python",
   "name": "python",
   "nbconvert_exporter": "python",
   "pygments_lexer": "ipython3",
   "version": "3.7.4"
  }
 },
 "nbformat": 4,
 "nbformat_minor": 1
}
