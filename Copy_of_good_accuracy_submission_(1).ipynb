{
  "nbformat": 4,
  "nbformat_minor": 0,
  "metadata": {
    "colab": {
      "name": "Copy of good_accuracy_submission (1).ipynb",
      "provenance": [],
      "collapsed_sections": [],
      "include_colab_link": true
    },
    "kernelspec": {
      "name": "python3",
      "display_name": "Python 3"
    },
    "language_info": {
      "name": "python"
    },
    "accelerator": "GPU"
  },
  "cells": [
    {
      "cell_type": "markdown",
      "metadata": {
        "id": "view-in-github",
        "colab_type": "text"
      },
      "source": [
        "<a href=\"https://colab.research.google.com/github/maryhedy/C551-Tutorials/blob/master/Copy_of_good_accuracy_submission_(1).ipynb\" target=\"_parent\"><img src=\"https://colab.research.google.com/assets/colab-badge.svg\" alt=\"Open In Colab\"/></a>"
      ]
    },
    {
      "cell_type": "code",
      "metadata": {
        "colab": {
          "base_uri": "https://localhost:8080/"
        },
        "id": "0Os_0oAYKN4d",
        "outputId": "f1ec0fda-7c8b-4e53-da9c-de7133e29bfb"
      },
      "source": [
        "# Mounting the google drive to read the dataset\n",
        "\n",
        "from google.colab import drive\n",
        "import pickle \n",
        "\n",
        "import pandas as pd\n",
        "import numpy as np \n",
        "import matplotlib.pyplot as plt\n",
        "import os\n",
        "from urllib.request import urlopen,urlretrieve\n",
        "from PIL import Image\n",
        "from tqdm import tqdm_notebook\n",
        "%matplotlib inline\n",
        "from sklearn.utils import shuffle\n",
        "import cv2\n",
        "\n",
        "\n",
        "from keras.models import load_model\n",
        "from sklearn.datasets import load_files   \n",
        "from keras.utils import np_utils\n",
        "from glob import glob\n",
        "from keras import applications\n",
        "from keras.preprocessing.image import ImageDataGenerator \n",
        "from keras import optimizers\n",
        "from keras.models import Sequential,Model,load_model\n",
        "from keras.layers import Dense, Dropout, Flatten, Conv2D, MaxPool2D,GlobalAveragePooling2D\n",
        "from keras.callbacks import TensorBoard,ReduceLROnPlateau,ModelCheckpoint\n",
        "\n",
        "drive.mount('/content/drive' , force_remount=True)\n",
        "\n",
        "DATA_PATH = \"/content/drive/MyDrive/COMP551-assignment3/data/\"\n",
        "\n",
        "with open(DATA_PATH+'images_l.pkl' ,'rb') as f: images_l=pickle.load(f)\n",
        "with open(DATA_PATH+'images_test.pkl' ,'rb') as f: images_test=pickle.load(f)\n",
        "with open(DATA_PATH+'images_ul.pkl' ,'rb') as f: images_ul=pickle.load(f)\n",
        "with open(DATA_PATH+'labels_l.pkl' ,'rb') as f: labels_l=pickle.load(f)"
      ],
      "execution_count": null,
      "outputs": [
        {
          "output_type": "stream",
          "name": "stdout",
          "text": [
            "Mounted at /content/drive\n"
          ]
        }
      ]
    },
    {
      "cell_type": "code",
      "metadata": {
        "colab": {
          "base_uri": "https://localhost:8080/"
        },
        "id": "8Pdxy2bQjbfx",
        "outputId": "072215e3-fc10-4160-97b1-9bdd8d72a988"
      },
      "source": [
        "images_l = images_l/255\n",
        "\n",
        "numbers = labels_l[:,0:10]\n",
        "letters = labels_l[:, 10:]\n",
        "\n",
        "\n",
        "print(images_l.shape)\n",
        "\n",
        "rgb_batch = np.repeat(images_l[..., np.newaxis], 3, -1)\n",
        "print(rgb_batch.shape)\n"
      ],
      "execution_count": null,
      "outputs": [
        {
          "output_type": "stream",
          "name": "stdout",
          "text": [
            "(30000, 56, 56)\n",
            "(30000, 56, 56, 3)\n"
          ]
        }
      ]
    },
    {
      "cell_type": "code",
      "metadata": {
        "id": "7cNLRCpho5v4"
      },
      "source": [
        "import matplotlib.pyplot as plt\n",
        "\n",
        "\n",
        "\n",
        "rgb_batch = np.array([cv2.resize(img, dsize=(64,64), interpolation=cv2.INTER_CUBIC) for img in rgb_batch])\n",
        "\n"
      ],
      "execution_count": null,
      "outputs": []
    },
    {
      "cell_type": "code",
      "metadata": {
        "colab": {
          "base_uri": "https://localhost:8080/"
        },
        "id": "HoKJExJBv2Zs",
        "outputId": "950fe341-ad69-4455-ad1b-0ee5afeb9ba6"
      },
      "source": [
        "rgb_batch_val = rgb_batch[28000:]\n",
        "rgb_batch_train = rgb_batch[0:28000]\n",
        "numbers_val = numbers[28000:]\n",
        "numbers_train = numbers[0:28000]\n",
        "\n",
        "print(rgb_batch_val.shape)\n",
        "print(numbers_val.shape)\n",
        "print(rgb_batch_train.shape)\n",
        "print(numbers_train.shape)"
      ],
      "execution_count": null,
      "outputs": [
        {
          "output_type": "stream",
          "name": "stdout",
          "text": [
            "(2000, 64, 64, 3)\n",
            "(2000, 10)\n",
            "(28000, 64, 64, 3)\n",
            "(28000, 10)\n"
          ]
        }
      ]
    },
    {
      "cell_type": "code",
      "metadata": {
        "id": "yKLHlyOCj-ws"
      },
      "source": [
        "import tensorflow as tf\n",
        "base_model = tf.keras.applications.resnet50.ResNet50(weights = None, include_top=False, input_shape=(64,64,3))"
      ],
      "execution_count": null,
      "outputs": []
    },
    {
      "cell_type": "code",
      "metadata": {
        "id": "oaSj9ZbdKWG7"
      },
      "source": [
        "x = base_model.output\n",
        "x = GlobalAveragePooling2D()(x)\n",
        "x = Dropout(0.7)(x)\n",
        "predictions = Dense(10, activation= 'softmax')(x)\n",
        "model = Model(inputs = base_model.input, outputs = predictions)"
      ],
      "execution_count": null,
      "outputs": []
    },
    {
      "cell_type": "code",
      "metadata": {
        "id": "c0FxLpqBtO_U"
      },
      "source": [
        "model.compile(optimizer= 'adam', loss='categorical_crossentropy', metrics=['accuracy'])"
      ],
      "execution_count": null,
      "outputs": []
    },
    {
      "cell_type": "code",
      "metadata": {
        "colab": {
          "base_uri": "https://localhost:8080/"
        },
        "id": "5gvygfaVuDvU",
        "outputId": "837e12be-5236-4b08-b3d4-7c9f54ac4b74"
      },
      "source": [
        "model.fit(rgb_batch_train, numbers_train, epochs = 100, batch_size = 64, validation_data=(rgb_batch_val, numbers_val))\n"
      ],
      "execution_count": null,
      "outputs": [
        {
          "output_type": "stream",
          "name": "stdout",
          "text": [
            "Epoch 1/100\n",
            "422/422 [==============================] - 106s 209ms/step - loss: 3.1759 - accuracy: 0.1217 - val_loss: 25.0776 - val_accuracy: 0.1007\n",
            "Epoch 2/100\n",
            "422/422 [==============================] - 83s 198ms/step - loss: 2.6574 - accuracy: 0.1413 - val_loss: 2.3142 - val_accuracy: 0.1467\n",
            "Epoch 3/100\n",
            "422/422 [==============================] - 83s 197ms/step - loss: 2.4336 - accuracy: 0.1978 - val_loss: 2.0012 - val_accuracy: 0.2620\n",
            "Epoch 4/100\n",
            "422/422 [==============================] - 83s 197ms/step - loss: 2.1063 - accuracy: 0.3202 - val_loss: 10.2644 - val_accuracy: 0.0973\n",
            "Epoch 5/100\n",
            "422/422 [==============================] - 83s 196ms/step - loss: 1.7950 - accuracy: 0.4168 - val_loss: 3.7066 - val_accuracy: 0.1923\n",
            "Epoch 6/100\n",
            "422/422 [==============================] - 84s 198ms/step - loss: 1.0488 - accuracy: 0.6553 - val_loss: 1.9869 - val_accuracy: 0.5030\n",
            "Epoch 7/100\n",
            "422/422 [==============================] - 83s 196ms/step - loss: 0.6392 - accuracy: 0.8055 - val_loss: 5045.1064 - val_accuracy: 0.0953\n",
            "Epoch 8/100\n",
            "422/422 [==============================] - 83s 197ms/step - loss: 0.5077 - accuracy: 0.8442 - val_loss: 0.7826 - val_accuracy: 0.7713\n",
            "Epoch 9/100\n",
            "422/422 [==============================] - 83s 196ms/step - loss: 0.3617 - accuracy: 0.8876 - val_loss: 0.4820 - val_accuracy: 0.8597\n",
            "Epoch 10/100\n",
            "422/422 [==============================] - 83s 197ms/step - loss: 0.3221 - accuracy: 0.9026 - val_loss: 0.8349 - val_accuracy: 0.7803\n",
            "Epoch 11/100\n",
            "422/422 [==============================] - 83s 198ms/step - loss: 0.3037 - accuracy: 0.9070 - val_loss: 0.5483 - val_accuracy: 0.8437\n",
            "Epoch 12/100\n",
            "422/422 [==============================] - 83s 196ms/step - loss: 0.2520 - accuracy: 0.9219 - val_loss: 14.2158 - val_accuracy: 0.6140\n",
            "Epoch 13/100\n",
            "422/422 [==============================] - 83s 197ms/step - loss: 0.2347 - accuracy: 0.9303 - val_loss: 0.6160 - val_accuracy: 0.8260\n",
            "Epoch 14/100\n",
            "422/422 [==============================] - 84s 198ms/step - loss: 0.2107 - accuracy: 0.9340 - val_loss: 0.7283 - val_accuracy: 0.8153\n",
            "Epoch 15/100\n",
            "422/422 [==============================] - 83s 196ms/step - loss: 0.1992 - accuracy: 0.9385 - val_loss: 0.8001 - val_accuracy: 0.8077\n",
            "Epoch 16/100\n",
            "422/422 [==============================] - 83s 196ms/step - loss: 0.1867 - accuracy: 0.9415 - val_loss: 0.5430 - val_accuracy: 0.8610\n",
            "Epoch 17/100\n",
            "422/422 [==============================] - 83s 196ms/step - loss: 0.1736 - accuracy: 0.9461 - val_loss: 0.6117 - val_accuracy: 0.8447\n",
            "Epoch 18/100\n",
            "422/422 [==============================] - 85s 201ms/step - loss: 0.1577 - accuracy: 0.9507 - val_loss: 0.5822 - val_accuracy: 0.8563\n",
            "Epoch 19/100\n",
            "422/422 [==============================] - 83s 196ms/step - loss: 0.3413 - accuracy: 0.9028 - val_loss: 0.4894 - val_accuracy: 0.8583\n",
            "Epoch 20/100\n",
            "422/422 [==============================] - 85s 202ms/step - loss: 0.4121 - accuracy: 0.8998 - val_loss: 13875.0225 - val_accuracy: 0.0973\n",
            "Epoch 21/100\n",
            "422/422 [==============================] - 83s 196ms/step - loss: 2.9093 - accuracy: 0.1350 - val_loss: 3.1898 - val_accuracy: 0.1107\n",
            "Epoch 22/100\n",
            "422/422 [==============================] - 83s 196ms/step - loss: 2.3737 - accuracy: 0.1933 - val_loss: 2.1013 - val_accuracy: 0.2133\n",
            "Epoch 23/100\n",
            "422/422 [==============================] - 86s 203ms/step - loss: 1.7477 - accuracy: 0.3617 - val_loss: 2.3851 - val_accuracy: 0.2327\n",
            "Epoch 24/100\n",
            "422/422 [==============================] - 83s 197ms/step - loss: 1.2221 - accuracy: 0.5856 - val_loss: 1.2423 - val_accuracy: 0.5863\n",
            "Epoch 25/100\n",
            "422/422 [==============================] - 83s 197ms/step - loss: 0.6926 - accuracy: 0.7848 - val_loss: 0.6286 - val_accuracy: 0.7960\n",
            "Epoch 26/100\n",
            "422/422 [==============================] - 83s 196ms/step - loss: 0.4263 - accuracy: 0.8700 - val_loss: 0.4398 - val_accuracy: 0.8697\n",
            "Epoch 27/100\n",
            "422/422 [==============================] - 83s 197ms/step - loss: 0.5502 - accuracy: 0.8403 - val_loss: 0.4679 - val_accuracy: 0.8563\n",
            "Epoch 28/100\n",
            "422/422 [==============================] - 83s 196ms/step - loss: 0.3569 - accuracy: 0.8918 - val_loss: 0.4270 - val_accuracy: 0.8740\n",
            "Epoch 29/100\n",
            "422/422 [==============================] - 83s 197ms/step - loss: 0.2605 - accuracy: 0.9204 - val_loss: 0.3724 - val_accuracy: 0.8917\n",
            "Epoch 30/100\n",
            "422/422 [==============================] - 83s 197ms/step - loss: 0.2451 - accuracy: 0.9275 - val_loss: 0.3640 - val_accuracy: 0.8977\n",
            "Epoch 31/100\n",
            "422/422 [==============================] - 83s 197ms/step - loss: 0.1840 - accuracy: 0.9403 - val_loss: 0.4386 - val_accuracy: 0.8803\n",
            "Epoch 32/100\n",
            "422/422 [==============================] - 85s 202ms/step - loss: 0.1593 - accuracy: 0.9508 - val_loss: 0.4281 - val_accuracy: 0.8827\n",
            "Epoch 33/100\n",
            "422/422 [==============================] - 86s 204ms/step - loss: 0.2183 - accuracy: 0.9312 - val_loss: 0.5828 - val_accuracy: 0.8413\n",
            "Epoch 34/100\n",
            "422/422 [==============================] - 83s 196ms/step - loss: 0.1860 - accuracy: 0.9417 - val_loss: 0.3215 - val_accuracy: 0.9117\n",
            "Epoch 35/100\n",
            "422/422 [==============================] - 83s 196ms/step - loss: 0.1381 - accuracy: 0.9577 - val_loss: 0.3555 - val_accuracy: 0.9060\n",
            "Epoch 36/100\n",
            "422/422 [==============================] - 83s 196ms/step - loss: 0.1065 - accuracy: 0.9663 - val_loss: 0.4030 - val_accuracy: 0.8907\n",
            "Epoch 37/100\n",
            "422/422 [==============================] - 83s 196ms/step - loss: 0.3860 - accuracy: 0.8966 - val_loss: 0.3662 - val_accuracy: 0.8900\n",
            "Epoch 38/100\n",
            "422/422 [==============================] - 83s 196ms/step - loss: 0.1454 - accuracy: 0.9543 - val_loss: 0.2890 - val_accuracy: 0.9203\n",
            "Epoch 39/100\n",
            "422/422 [==============================] - 83s 196ms/step - loss: 0.1091 - accuracy: 0.9669 - val_loss: 0.4350 - val_accuracy: 0.8907\n",
            "Epoch 40/100\n",
            "422/422 [==============================] - 83s 196ms/step - loss: 0.1048 - accuracy: 0.9663 - val_loss: 1.4808 - val_accuracy: 0.7187\n",
            "Epoch 41/100\n",
            "422/422 [==============================] - 83s 196ms/step - loss: 0.1218 - accuracy: 0.9633 - val_loss: 0.3322 - val_accuracy: 0.9167\n",
            "Epoch 42/100\n",
            "422/422 [==============================] - 85s 202ms/step - loss: 0.0708 - accuracy: 0.9769 - val_loss: 0.4640 - val_accuracy: 0.9007\n",
            "Epoch 43/100\n",
            "422/422 [==============================] - 83s 196ms/step - loss: 0.0869 - accuracy: 0.9761 - val_loss: 0.3676 - val_accuracy: 0.9140\n",
            "Epoch 44/100\n",
            "422/422 [==============================] - 82s 195ms/step - loss: 0.0634 - accuracy: 0.9816 - val_loss: 0.3365 - val_accuracy: 0.9220\n",
            "Epoch 45/100\n",
            "422/422 [==============================] - 83s 197ms/step - loss: 0.0638 - accuracy: 0.9797 - val_loss: 0.3457 - val_accuracy: 0.9223\n",
            "Epoch 46/100\n",
            "422/422 [==============================] - 84s 198ms/step - loss: 0.0505 - accuracy: 0.9839 - val_loss: 0.3270 - val_accuracy: 0.9250\n",
            "Epoch 47/100\n",
            "422/422 [==============================] - 83s 197ms/step - loss: 0.0603 - accuracy: 0.9813 - val_loss: 0.5428 - val_accuracy: 0.8923\n",
            "Epoch 48/100\n",
            "422/422 [==============================] - 84s 198ms/step - loss: 0.0562 - accuracy: 0.9827 - val_loss: 0.3671 - val_accuracy: 0.9197\n",
            "Epoch 49/100\n",
            "422/422 [==============================] - 83s 197ms/step - loss: 0.0478 - accuracy: 0.9846 - val_loss: 0.4358 - val_accuracy: 0.9100\n",
            "Epoch 50/100\n",
            "422/422 [==============================] - 83s 196ms/step - loss: 0.0564 - accuracy: 0.9819 - val_loss: 0.3810 - val_accuracy: 0.9100\n",
            "Epoch 51/100\n",
            "422/422 [==============================] - 85s 202ms/step - loss: 0.0564 - accuracy: 0.9830 - val_loss: 0.3387 - val_accuracy: 0.9297\n",
            "Epoch 52/100\n",
            "422/422 [==============================] - 83s 196ms/step - loss: 0.1122 - accuracy: 0.9743 - val_loss: 0.4111 - val_accuracy: 0.9157\n",
            "Epoch 53/100\n",
            "422/422 [==============================] - 83s 198ms/step - loss: 0.0536 - accuracy: 0.9850 - val_loss: 0.3946 - val_accuracy: 0.9217\n",
            "Epoch 54/100\n",
            "422/422 [==============================] - 83s 198ms/step - loss: 0.1410 - accuracy: 0.9679 - val_loss: 0.3047 - val_accuracy: 0.9173\n",
            "Epoch 55/100\n",
            "422/422 [==============================] - 85s 203ms/step - loss: 0.0547 - accuracy: 0.9821 - val_loss: 0.4492 - val_accuracy: 0.9040\n",
            "Epoch 56/100\n",
            "422/422 [==============================] - 83s 197ms/step - loss: 0.0699 - accuracy: 0.9801 - val_loss: 0.4030 - val_accuracy: 0.9160\n",
            "Epoch 57/100\n",
            "422/422 [==============================] - 83s 197ms/step - loss: 0.0439 - accuracy: 0.9866 - val_loss: 0.3234 - val_accuracy: 0.9353\n",
            "Epoch 58/100\n",
            "422/422 [==============================] - 83s 196ms/step - loss: 0.1292 - accuracy: 0.9709 - val_loss: 0.3490 - val_accuracy: 0.9180\n",
            "Epoch 59/100\n",
            "422/422 [==============================] - 82s 195ms/step - loss: 0.0360 - accuracy: 0.9883 - val_loss: 0.3711 - val_accuracy: 0.9243\n",
            "Epoch 60/100\n",
            "422/422 [==============================] - 82s 195ms/step - loss: 0.0499 - accuracy: 0.9895 - val_loss: 0.3429 - val_accuracy: 0.9290\n",
            "Epoch 61/100\n",
            "422/422 [==============================] - 82s 196ms/step - loss: 0.2060 - accuracy: 0.9632 - val_loss: 0.9334 - val_accuracy: 0.7540\n",
            "Epoch 62/100\n",
            "422/422 [==============================] - 82s 194ms/step - loss: 0.4190 - accuracy: 0.8941 - val_loss: 0.5058 - val_accuracy: 0.8870\n",
            "Epoch 63/100\n",
            "422/422 [==============================] - 85s 201ms/step - loss: 0.1349 - accuracy: 0.9594 - val_loss: 0.3104 - val_accuracy: 0.9170\n",
            "Epoch 64/100\n",
            "422/422 [==============================] - 82s 194ms/step - loss: 0.0608 - accuracy: 0.9840 - val_loss: 0.3058 - val_accuracy: 0.9290\n",
            "Epoch 65/100\n",
            "422/422 [==============================] - 82s 195ms/step - loss: 0.0475 - accuracy: 0.9871 - val_loss: 0.3442 - val_accuracy: 0.9287\n",
            "Epoch 66/100\n",
            "422/422 [==============================] - 82s 195ms/step - loss: 0.0232 - accuracy: 0.9924 - val_loss: 0.4021 - val_accuracy: 0.9277\n",
            "Epoch 67/100\n",
            "422/422 [==============================] - 82s 195ms/step - loss: 0.0205 - accuracy: 0.9936 - val_loss: 0.4768 - val_accuracy: 0.9157\n",
            "Epoch 68/100\n",
            "422/422 [==============================] - 83s 198ms/step - loss: 0.0758 - accuracy: 0.9830 - val_loss: 0.3585 - val_accuracy: 0.9183\n",
            "Epoch 69/100\n",
            "422/422 [==============================] - 83s 198ms/step - loss: 0.0384 - accuracy: 0.9882 - val_loss: 0.3297 - val_accuracy: 0.9370\n",
            "Epoch 70/100\n",
            "422/422 [==============================] - 84s 199ms/step - loss: 0.0196 - accuracy: 0.9940 - val_loss: 0.4146 - val_accuracy: 0.9237\n",
            "Epoch 71/100\n",
            "422/422 [==============================] - 86s 204ms/step - loss: 0.0207 - accuracy: 0.9937 - val_loss: 0.4359 - val_accuracy: 0.9307\n",
            "Epoch 72/100\n",
            "422/422 [==============================] - 82s 195ms/step - loss: 0.0531 - accuracy: 0.9884 - val_loss: 0.3883 - val_accuracy: 0.9257\n",
            "Epoch 73/100\n",
            "422/422 [==============================] - 82s 194ms/step - loss: 0.0290 - accuracy: 0.9940 - val_loss: 0.3820 - val_accuracy: 0.9327\n",
            "Epoch 74/100\n",
            "422/422 [==============================] - 82s 196ms/step - loss: 0.0493 - accuracy: 0.9898 - val_loss: 0.3698 - val_accuracy: 0.9273\n",
            "Epoch 75/100\n",
            "422/422 [==============================] - 82s 195ms/step - loss: 0.0634 - accuracy: 0.9823 - val_loss: 0.7492 - val_accuracy: 0.8577\n",
            "Epoch 76/100\n",
            "422/422 [==============================] - 82s 194ms/step - loss: 0.0869 - accuracy: 0.9792 - val_loss: 0.3280 - val_accuracy: 0.9290\n",
            "Epoch 77/100\n",
            "422/422 [==============================] - 82s 195ms/step - loss: 0.0586 - accuracy: 0.9869 - val_loss: 3.1080 - val_accuracy: 0.5110\n",
            "Epoch 78/100\n",
            "422/422 [==============================] - 82s 195ms/step - loss: 0.1174 - accuracy: 0.9687 - val_loss: 0.4725 - val_accuracy: 0.8983\n",
            "Epoch 79/100\n",
            "422/422 [==============================] - 82s 195ms/step - loss: 0.0752 - accuracy: 0.9807 - val_loss: 0.3423 - val_accuracy: 0.9253\n",
            "Epoch 80/100\n",
            "422/422 [==============================] - 82s 194ms/step - loss: 0.0211 - accuracy: 0.9940 - val_loss: 0.4095 - val_accuracy: 0.9217\n",
            "Epoch 81/100\n",
            "422/422 [==============================] - 82s 195ms/step - loss: 0.0201 - accuracy: 0.9951 - val_loss: 0.3793 - val_accuracy: 0.9297\n",
            "Epoch 82/100\n",
            "422/422 [==============================] - 82s 194ms/step - loss: 0.0290 - accuracy: 0.9948 - val_loss: 0.4275 - val_accuracy: 0.9207\n",
            "Epoch 83/100\n",
            "422/422 [==============================] - 82s 194ms/step - loss: 0.1727 - accuracy: 0.9624 - val_loss: 0.3676 - val_accuracy: 0.9167\n",
            "Epoch 84/100\n",
            "422/422 [==============================] - 86s 203ms/step - loss: 0.0643 - accuracy: 0.9861 - val_loss: 0.3682 - val_accuracy: 0.9310\n",
            "Epoch 85/100\n",
            "422/422 [==============================] - 83s 197ms/step - loss: 0.0242 - accuracy: 0.9943 - val_loss: 0.4535 - val_accuracy: 0.9147\n",
            "Epoch 86/100\n",
            "422/422 [==============================] - 85s 201ms/step - loss: 0.0469 - accuracy: 0.9931 - val_loss: 0.4002 - val_accuracy: 0.9340\n",
            "Epoch 87/100\n",
            "422/422 [==============================] - 83s 196ms/step - loss: 0.0181 - accuracy: 0.9953 - val_loss: 0.4698 - val_accuracy: 0.9230\n",
            "Epoch 88/100\n",
            "422/422 [==============================] - 83s 197ms/step - loss: 0.0171 - accuracy: 0.9947 - val_loss: 0.4176 - val_accuracy: 0.9247\n",
            "Epoch 89/100\n",
            "422/422 [==============================] - 82s 195ms/step - loss: 0.0164 - accuracy: 0.9950 - val_loss: 0.3991 - val_accuracy: 0.9317\n",
            "Epoch 90/100\n",
            "422/422 [==============================] - 84s 199ms/step - loss: 0.0186 - accuracy: 0.9939 - val_loss: 0.4947 - val_accuracy: 0.9257\n",
            "Epoch 91/100\n",
            "422/422 [==============================] - 83s 197ms/step - loss: 0.0203 - accuracy: 0.9941 - val_loss: 0.5225 - val_accuracy: 0.9210\n",
            "Epoch 92/100\n",
            "422/422 [==============================] - 83s 198ms/step - loss: 0.0275 - accuracy: 0.9946 - val_loss: 0.8608 - val_accuracy: 0.8740\n",
            "Epoch 93/100\n",
            "422/422 [==============================] - 83s 198ms/step - loss: 0.0228 - accuracy: 0.9934 - val_loss: 0.3730 - val_accuracy: 0.9287\n",
            "Epoch 94/100\n",
            "422/422 [==============================] - 84s 198ms/step - loss: 0.0256 - accuracy: 0.9938 - val_loss: 0.4747 - val_accuracy: 0.9233\n",
            "Epoch 95/100\n",
            "422/422 [==============================] - 83s 197ms/step - loss: 0.0352 - accuracy: 0.9926 - val_loss: 0.4260 - val_accuracy: 0.9260\n",
            "Epoch 96/100\n",
            "422/422 [==============================] - 83s 197ms/step - loss: 0.1225 - accuracy: 0.9766 - val_loss: 2225.0154 - val_accuracy: 0.2300\n",
            "Epoch 97/100\n",
            "422/422 [==============================] - 83s 196ms/step - loss: 0.0669 - accuracy: 0.9798 - val_loss: 0.3709 - val_accuracy: 0.9273\n",
            "Epoch 98/100\n",
            "422/422 [==============================] - 86s 203ms/step - loss: 0.0801 - accuracy: 0.9870 - val_loss: 0.4352 - val_accuracy: 0.9110\n",
            "Epoch 99/100\n",
            "422/422 [==============================] - 83s 197ms/step - loss: 0.0463 - accuracy: 0.9925 - val_loss: 0.3408 - val_accuracy: 0.9367\n",
            "Epoch 100/100\n",
            "422/422 [==============================] - 86s 203ms/step - loss: 0.0742 - accuracy: 0.9917 - val_loss: 0.5575 - val_accuracy: 0.8987\n"
          ]
        },
        {
          "output_type": "execute_result",
          "data": {
            "text/plain": [
              "<keras.callbacks.History at 0x7f94a4e2f590>"
            ]
          },
          "metadata": {},
          "execution_count": 8
        }
      ]
    },
    {
      "cell_type": "code",
      "metadata": {
        "colab": {
          "base_uri": "https://localhost:8080/"
        },
        "id": "knj5dmDENIbO",
        "outputId": "7006606d-900a-472e-aae5-9464b349be16"
      },
      "source": [
        "model.save('./saved_model/number_model')"
      ],
      "execution_count": null,
      "outputs": [
        {
          "output_type": "stream",
          "name": "stdout",
          "text": [
            "INFO:tensorflow:Assets written to: ./saved_model/number_model/assets\n"
          ]
        },
        {
          "output_type": "stream",
          "name": "stderr",
          "text": [
            "/usr/local/lib/python3.7/dist-packages/keras/engine/functional.py:1410: CustomMaskWarning: Custom mask layers require a config and must override get_config. When loading, the custom mask layer must be passed to the custom_objects argument.\n",
            "  layer_config = serialize_layer_fn(layer)\n",
            "/usr/local/lib/python3.7/dist-packages/keras/saving/saved_model/layer_serialization.py:112: CustomMaskWarning: Custom mask layers require a config and must override get_config. When loading, the custom mask layer must be passed to the custom_objects argument.\n",
            "  return generic_utils.serialize_keras_object(obj)\n"
          ]
        }
      ]
    },
    {
      "cell_type": "code",
      "metadata": {
        "id": "3SaWPFxnN304"
      },
      "source": [
        "images_test = images_test/255\n",
        "rgb_batch_test = np.repeat(images_test[..., np.newaxis], 3, -1)\n",
        "rgb_batch_test = np.array([cv2.resize(img, dsize=(64,64), interpolation=cv2.INTER_CUBIC) for img in rgb_batch_test])"
      ],
      "execution_count": null,
      "outputs": []
    },
    {
      "cell_type": "code",
      "metadata": {
        "id": "iTYE1AVmNP_I"
      },
      "source": [
        "predictions = model.predict(rgb_batch_test)"
      ],
      "execution_count": null,
      "outputs": []
    },
    {
      "cell_type": "code",
      "metadata": {
        "colab": {
          "base_uri": "https://localhost:8080/"
        },
        "id": "KORixwVEQkZG",
        "outputId": "c5a75803-dbea-43a7-9ea6-f2faf1f6083f"
      },
      "source": [
        "print(predictions.shape)\n",
        "print(predictions[0])"
      ],
      "execution_count": null,
      "outputs": [
        {
          "output_type": "stream",
          "name": "stdout",
          "text": [
            "(15000, 10)\n",
            "[7.2755404e-02 9.9856954e-04 5.1110696e-06 1.1946436e-04 2.0235123e-02\n",
            " 1.9489165e-04 2.0223705e-04 9.0393937e-01 1.6552264e-04 1.3842536e-03]\n"
          ]
        }
      ]
    },
    {
      "cell_type": "code",
      "metadata": {
        "id": "QmRSJ4O7Ojtf"
      },
      "source": [
        "\n",
        "letters_val = letters[28000:]\n",
        "letters_train = letters[0:28000]\n"
      ],
      "execution_count": null,
      "outputs": []
    },
    {
      "cell_type": "code",
      "metadata": {
        "id": "dhENzx5EOn2U"
      },
      "source": [
        "base_model_l = tf.keras.applications.resnet50.ResNet50(weights = None, include_top=False, input_shape=(64,64,3))\n",
        "x_l = base_model_l.output\n",
        "x_l = GlobalAveragePooling2D()(x_l)\n",
        "x_l = Dropout(0.7)(x_l)\n",
        "predictions_l = Dense(26, activation= 'softmax')(x_l)\n",
        "model_l = Model(inputs = base_model_l.input, outputs = predictions_l)\n",
        "\n",
        "model_l.compile(optimizer= 'adam', loss='categorical_crossentropy', metrics=['accuracy'])\n",
        "\n"
      ],
      "execution_count": null,
      "outputs": []
    },
    {
      "cell_type": "code",
      "metadata": {
        "colab": {
          "base_uri": "https://localhost:8080/"
        },
        "id": "n2FkbNzbPxOL",
        "outputId": "5d057431-5b5a-47d8-c161-aabd88936508"
      },
      "source": [
        "model_l.fit(rgb_batch_train, letters_train, epochs = 100, batch_size = 64, validation_data=(rgb_batch_val, letters_val))"
      ],
      "execution_count": null,
      "outputs": [
        {
          "output_type": "stream",
          "name": "stdout",
          "text": [
            "Epoch 1/100\n",
            "438/438 [==============================] - 106s 202ms/step - loss: 4.3057 - accuracy: 0.0425 - val_loss: 9.3801 - val_accuracy: 0.0400\n",
            "Epoch 2/100\n",
            "438/438 [==============================] - 85s 194ms/step - loss: 3.6421 - accuracy: 0.0481 - val_loss: 4.1615 - val_accuracy: 0.0525\n",
            "Epoch 3/100\n",
            "438/438 [==============================] - 85s 195ms/step - loss: 3.5866 - accuracy: 0.0530 - val_loss: 65.2685 - val_accuracy: 0.0425\n",
            "Epoch 4/100\n",
            "438/438 [==============================] - 85s 194ms/step - loss: 3.4917 - accuracy: 0.0662 - val_loss: 6.6950 - val_accuracy: 0.0540\n",
            "Epoch 5/100\n",
            "438/438 [==============================] - 85s 194ms/step - loss: 3.4760 - accuracy: 0.0718 - val_loss: 1498.0984 - val_accuracy: 0.0420\n",
            "Epoch 6/100\n",
            "438/438 [==============================] - 85s 194ms/step - loss: 3.3578 - accuracy: 0.0886 - val_loss: 3.9149 - val_accuracy: 0.0680\n",
            "Epoch 7/100\n",
            "438/438 [==============================] - 85s 194ms/step - loss: 3.2693 - accuracy: 0.1113 - val_loss: 3.3059 - val_accuracy: 0.0780\n",
            "Epoch 8/100\n",
            "438/438 [==============================] - 85s 194ms/step - loss: 3.1743 - accuracy: 0.1219 - val_loss: 62.6275 - val_accuracy: 0.0900\n",
            "Epoch 9/100\n",
            "438/438 [==============================] - 86s 195ms/step - loss: 3.0195 - accuracy: 0.1480 - val_loss: 3.1356 - val_accuracy: 0.1075\n",
            "Epoch 10/100\n",
            "438/438 [==============================] - 85s 194ms/step - loss: 2.9150 - accuracy: 0.1684 - val_loss: 11.8282 - val_accuracy: 0.1150\n",
            "Epoch 11/100\n",
            "438/438 [==============================] - 85s 193ms/step - loss: 2.7692 - accuracy: 0.1978 - val_loss: 80.8974 - val_accuracy: 0.0835\n",
            "Epoch 12/100\n",
            "438/438 [==============================] - 84s 193ms/step - loss: 2.5694 - accuracy: 0.2398 - val_loss: 12.5233 - val_accuracy: 0.2530\n",
            "Epoch 13/100\n",
            "438/438 [==============================] - 85s 193ms/step - loss: 2.4734 - accuracy: 0.2699 - val_loss: 126.7177 - val_accuracy: 0.1850\n",
            "Epoch 14/100\n",
            "438/438 [==============================] - 85s 193ms/step - loss: 2.2688 - accuracy: 0.3259 - val_loss: 1.9001 - val_accuracy: 0.3885\n",
            "Epoch 15/100\n",
            "438/438 [==============================] - 85s 194ms/step - loss: 1.9226 - accuracy: 0.4119 - val_loss: 1.8677 - val_accuracy: 0.4185\n",
            "Epoch 16/100\n",
            "438/438 [==============================] - 85s 194ms/step - loss: 1.6838 - accuracy: 0.4861 - val_loss: 1.6154 - val_accuracy: 0.5025\n",
            "Epoch 17/100\n",
            "438/438 [==============================] - 86s 196ms/step - loss: 1.3371 - accuracy: 0.5877 - val_loss: 1.2945 - val_accuracy: 0.5820\n",
            "Epoch 18/100\n",
            "438/438 [==============================] - 86s 196ms/step - loss: 1.1576 - accuracy: 0.6462 - val_loss: 0.9298 - val_accuracy: 0.7250\n",
            "Epoch 19/100\n",
            "438/438 [==============================] - 85s 194ms/step - loss: 0.9631 - accuracy: 0.7042 - val_loss: 1.0803 - val_accuracy: 0.6780\n",
            "Epoch 20/100\n",
            "438/438 [==============================] - 85s 193ms/step - loss: 0.9312 - accuracy: 0.7184 - val_loss: 1.6328 - val_accuracy: 0.6895\n",
            "Epoch 21/100\n",
            "438/438 [==============================] - 85s 193ms/step - loss: 0.8153 - accuracy: 0.7557 - val_loss: 1.9660 - val_accuracy: 0.4775\n",
            "Epoch 22/100\n",
            "438/438 [==============================] - 84s 193ms/step - loss: 0.6954 - accuracy: 0.7912 - val_loss: 0.5628 - val_accuracy: 0.8205\n",
            "Epoch 23/100\n",
            "438/438 [==============================] - 84s 193ms/step - loss: 0.6245 - accuracy: 0.8088 - val_loss: 1.0305 - val_accuracy: 0.7270\n",
            "Epoch 24/100\n",
            "438/438 [==============================] - 84s 193ms/step - loss: 0.5628 - accuracy: 0.8314 - val_loss: 1.6173 - val_accuracy: 0.7505\n",
            "Epoch 25/100\n",
            "438/438 [==============================] - 84s 193ms/step - loss: 0.5365 - accuracy: 0.8340 - val_loss: 2.9691 - val_accuracy: 0.7785\n",
            "Epoch 26/100\n",
            "438/438 [==============================] - 84s 192ms/step - loss: 0.3991 - accuracy: 0.8725 - val_loss: 0.5024 - val_accuracy: 0.8555\n",
            "Epoch 27/100\n",
            "438/438 [==============================] - 84s 192ms/step - loss: 0.4163 - accuracy: 0.8699 - val_loss: 0.5737 - val_accuracy: 0.8350\n",
            "Epoch 28/100\n",
            "438/438 [==============================] - 84s 193ms/step - loss: 0.3052 - accuracy: 0.9019 - val_loss: 1.1912 - val_accuracy: 0.8600\n",
            "Epoch 29/100\n",
            "438/438 [==============================] - 84s 192ms/step - loss: 0.4026 - accuracy: 0.8815 - val_loss: 0.7338 - val_accuracy: 0.8760\n",
            "Epoch 30/100\n",
            "438/438 [==============================] - 84s 193ms/step - loss: 0.3210 - accuracy: 0.9012 - val_loss: 0.7944 - val_accuracy: 0.8010\n",
            "Epoch 31/100\n",
            "438/438 [==============================] - 84s 193ms/step - loss: 0.3061 - accuracy: 0.9047 - val_loss: 0.7337 - val_accuracy: 0.8880\n",
            "Epoch 32/100\n",
            "438/438 [==============================] - 85s 195ms/step - loss: 0.2363 - accuracy: 0.9246 - val_loss: 5.1071 - val_accuracy: 0.8450\n",
            "Epoch 33/100\n",
            "438/438 [==============================] - 85s 193ms/step - loss: 0.2385 - accuracy: 0.9251 - val_loss: 4.5954 - val_accuracy: 0.8325\n",
            "Epoch 34/100\n",
            "438/438 [==============================] - 85s 193ms/step - loss: 0.1806 - accuracy: 0.9420 - val_loss: 0.4854 - val_accuracy: 0.8745\n",
            "Epoch 35/100\n",
            "438/438 [==============================] - 85s 193ms/step - loss: 0.1769 - accuracy: 0.9438 - val_loss: 0.4087 - val_accuracy: 0.8960\n",
            "Epoch 36/100\n",
            "438/438 [==============================] - 85s 193ms/step - loss: 0.1989 - accuracy: 0.9383 - val_loss: 0.4473 - val_accuracy: 0.8740\n",
            "Epoch 37/100\n",
            "438/438 [==============================] - 85s 193ms/step - loss: 0.1747 - accuracy: 0.9453 - val_loss: 0.5443 - val_accuracy: 0.9005\n",
            "Epoch 38/100\n",
            "438/438 [==============================] - 85s 195ms/step - loss: 0.1888 - accuracy: 0.9404 - val_loss: 0.4451 - val_accuracy: 0.8745\n",
            "Epoch 39/100\n",
            "438/438 [==============================] - 84s 193ms/step - loss: 0.1566 - accuracy: 0.9503 - val_loss: 2.4877 - val_accuracy: 0.8795\n",
            "Epoch 40/100\n",
            "438/438 [==============================] - 84s 193ms/step - loss: 0.1680 - accuracy: 0.9457 - val_loss: 1.7712 - val_accuracy: 0.7795\n",
            "Epoch 41/100\n",
            "438/438 [==============================] - 84s 193ms/step - loss: 0.1755 - accuracy: 0.9459 - val_loss: 0.4071 - val_accuracy: 0.8920\n",
            "Epoch 42/100\n",
            "438/438 [==============================] - 84s 193ms/step - loss: 0.1485 - accuracy: 0.9521 - val_loss: 1.5875 - val_accuracy: 0.8690\n",
            "Epoch 43/100\n",
            "438/438 [==============================] - 84s 192ms/step - loss: 0.1363 - accuracy: 0.9574 - val_loss: 0.4604 - val_accuracy: 0.8995\n",
            "Epoch 44/100\n",
            "438/438 [==============================] - 84s 192ms/step - loss: 0.1248 - accuracy: 0.9615 - val_loss: 1.0749 - val_accuracy: 0.8940\n",
            "Epoch 45/100\n",
            "438/438 [==============================] - 85s 194ms/step - loss: 0.1027 - accuracy: 0.9670 - val_loss: 1.3932 - val_accuracy: 0.8960\n",
            "Epoch 46/100\n",
            "438/438 [==============================] - 85s 194ms/step - loss: 0.2401 - accuracy: 0.9309 - val_loss: 10.8032 - val_accuracy: 0.8295\n",
            "Epoch 47/100\n",
            "438/438 [==============================] - 85s 194ms/step - loss: 0.1756 - accuracy: 0.9519 - val_loss: 0.8054 - val_accuracy: 0.8190\n",
            "Epoch 48/100\n",
            "438/438 [==============================] - 85s 195ms/step - loss: 0.1721 - accuracy: 0.9494 - val_loss: 0.9375 - val_accuracy: 0.8740\n",
            "Epoch 49/100\n",
            "438/438 [==============================] - 85s 195ms/step - loss: 0.1045 - accuracy: 0.9686 - val_loss: 0.4954 - val_accuracy: 0.9105\n",
            "Epoch 50/100\n",
            "438/438 [==============================] - 85s 194ms/step - loss: 0.0885 - accuracy: 0.9721 - val_loss: 0.5553 - val_accuracy: 0.9025\n",
            "Epoch 51/100\n",
            "438/438 [==============================] - 86s 196ms/step - loss: 0.1267 - accuracy: 0.9605 - val_loss: 0.9919 - val_accuracy: 0.8925\n",
            "Epoch 52/100\n",
            "438/438 [==============================] - 85s 194ms/step - loss: 0.1022 - accuracy: 0.9689 - val_loss: 0.6998 - val_accuracy: 0.8600\n",
            "Epoch 53/100\n",
            "438/438 [==============================] - 85s 194ms/step - loss: 0.0877 - accuracy: 0.9747 - val_loss: 0.4916 - val_accuracy: 0.8985\n",
            "Epoch 54/100\n",
            "438/438 [==============================] - 85s 193ms/step - loss: 0.1212 - accuracy: 0.9619 - val_loss: 0.3492 - val_accuracy: 0.9135\n",
            "Epoch 55/100\n",
            "438/438 [==============================] - 85s 194ms/step - loss: 0.0817 - accuracy: 0.9753 - val_loss: 0.6474 - val_accuracy: 0.8885\n",
            "Epoch 56/100\n",
            "438/438 [==============================] - 85s 194ms/step - loss: 0.0839 - accuracy: 0.9728 - val_loss: 0.9410 - val_accuracy: 0.8940\n",
            "Epoch 57/100\n",
            "438/438 [==============================] - 85s 193ms/step - loss: 0.0897 - accuracy: 0.9742 - val_loss: 1.1291 - val_accuracy: 0.8875\n",
            "Epoch 58/100\n",
            "438/438 [==============================] - 85s 194ms/step - loss: 0.0690 - accuracy: 0.9779 - val_loss: 0.3827 - val_accuracy: 0.9150\n",
            "Epoch 59/100\n",
            "438/438 [==============================] - 85s 194ms/step - loss: 0.1037 - accuracy: 0.9690 - val_loss: 11.2908 - val_accuracy: 0.8615\n",
            "Epoch 60/100\n",
            "438/438 [==============================] - 85s 194ms/step - loss: 0.0701 - accuracy: 0.9784 - val_loss: 0.4229 - val_accuracy: 0.9140\n",
            "Epoch 61/100\n",
            "438/438 [==============================] - 85s 194ms/step - loss: 0.0619 - accuracy: 0.9806 - val_loss: 0.4368 - val_accuracy: 0.9085\n",
            "Epoch 62/100\n",
            "438/438 [==============================] - 85s 194ms/step - loss: 0.0699 - accuracy: 0.9782 - val_loss: 0.5363 - val_accuracy: 0.9055\n",
            "Epoch 63/100\n",
            "438/438 [==============================] - 85s 193ms/step - loss: 0.0585 - accuracy: 0.9812 - val_loss: 0.5816 - val_accuracy: 0.8775\n",
            "Epoch 64/100\n",
            "438/438 [==============================] - 85s 195ms/step - loss: 0.1024 - accuracy: 0.9684 - val_loss: 0.3350 - val_accuracy: 0.9300\n",
            "Epoch 65/100\n",
            "438/438 [==============================] - 87s 198ms/step - loss: 0.0645 - accuracy: 0.9792 - val_loss: 0.3934 - val_accuracy: 0.9215\n",
            "Epoch 66/100\n",
            "438/438 [==============================] - 88s 200ms/step - loss: 0.0563 - accuracy: 0.9823 - val_loss: 0.4601 - val_accuracy: 0.9035\n",
            "Epoch 67/100\n",
            "438/438 [==============================] - 87s 198ms/step - loss: 0.0551 - accuracy: 0.9831 - val_loss: 0.4734 - val_accuracy: 0.9135\n",
            "Epoch 68/100\n",
            "438/438 [==============================] - 87s 198ms/step - loss: 0.0561 - accuracy: 0.9829 - val_loss: 0.4190 - val_accuracy: 0.9110\n",
            "Epoch 69/100\n",
            "438/438 [==============================] - 87s 198ms/step - loss: 0.0586 - accuracy: 0.9821 - val_loss: 0.4821 - val_accuracy: 0.9050\n",
            "Epoch 70/100\n",
            "438/438 [==============================] - 87s 199ms/step - loss: 0.0529 - accuracy: 0.9839 - val_loss: 0.4387 - val_accuracy: 0.9150\n",
            "Epoch 71/100\n",
            "438/438 [==============================] - 86s 197ms/step - loss: 0.0604 - accuracy: 0.9819 - val_loss: 0.4170 - val_accuracy: 0.9135\n",
            "Epoch 72/100\n",
            "438/438 [==============================] - 87s 198ms/step - loss: 0.0504 - accuracy: 0.9846 - val_loss: 0.4656 - val_accuracy: 0.9025\n",
            "Epoch 73/100\n",
            "438/438 [==============================] - 87s 198ms/step - loss: 0.0573 - accuracy: 0.9835 - val_loss: 0.4545 - val_accuracy: 0.9110\n",
            "Epoch 74/100\n",
            "438/438 [==============================] - 87s 198ms/step - loss: 0.0564 - accuracy: 0.9835 - val_loss: 0.4709 - val_accuracy: 0.9040\n",
            "Epoch 75/100\n",
            "438/438 [==============================] - 86s 197ms/step - loss: 0.0540 - accuracy: 0.9835 - val_loss: 0.3781 - val_accuracy: 0.9195\n",
            "Epoch 76/100\n",
            "438/438 [==============================] - 86s 197ms/step - loss: 0.0482 - accuracy: 0.9846 - val_loss: 0.5111 - val_accuracy: 0.8895\n",
            "Epoch 77/100\n",
            "438/438 [==============================] - 87s 199ms/step - loss: 0.0553 - accuracy: 0.9830 - val_loss: 0.5003 - val_accuracy: 0.9095\n",
            "Epoch 78/100\n",
            "438/438 [==============================] - 87s 198ms/step - loss: 0.0463 - accuracy: 0.9865 - val_loss: 0.4557 - val_accuracy: 0.9150\n",
            "Epoch 79/100\n",
            "438/438 [==============================] - 87s 199ms/step - loss: 0.0502 - accuracy: 0.9858 - val_loss: 0.3745 - val_accuracy: 0.9240\n",
            "Epoch 80/100\n",
            "438/438 [==============================] - 87s 198ms/step - loss: 0.0436 - accuracy: 0.9869 - val_loss: 0.3592 - val_accuracy: 0.9230\n",
            "Epoch 81/100\n",
            "438/438 [==============================] - 87s 198ms/step - loss: 0.0488 - accuracy: 0.9858 - val_loss: 0.4287 - val_accuracy: 0.9230\n",
            "Epoch 82/100\n",
            "438/438 [==============================] - 87s 198ms/step - loss: 0.0391 - accuracy: 0.9886 - val_loss: 0.4291 - val_accuracy: 0.9185\n",
            "Epoch 83/100\n",
            "438/438 [==============================] - 87s 198ms/step - loss: 0.0439 - accuracy: 0.9874 - val_loss: 0.5698 - val_accuracy: 0.8985\n",
            "Epoch 84/100\n",
            "438/438 [==============================] - 87s 198ms/step - loss: 0.0432 - accuracy: 0.9871 - val_loss: 0.5105 - val_accuracy: 0.9050\n",
            "Epoch 85/100\n",
            "283/438 [==================>...........] - ETA: 29s - loss: 0.0343 - accuracy: 0.9884"
          ]
        }
      ]
    },
    {
      "cell_type": "code",
      "metadata": {
        "id": "oSLwSHugWP6P"
      },
      "source": [
        "model_l.save('./saved_model/letter_model')"
      ],
      "execution_count": null,
      "outputs": []
    },
    {
      "cell_type": "code",
      "metadata": {
        "id": "PR8McOJzWTXQ"
      },
      "source": [
        "predictions_l = model_l.predict(rgb_batch_test)"
      ],
      "execution_count": null,
      "outputs": []
    },
    {
      "cell_type": "code",
      "metadata": {
        "id": "rKXtRnUIWiro"
      },
      "source": [
        "arr = np.zeros_like(predictions)\n",
        "arr[np.arange(len(predictions)), predictions.argmax(1)] = 1 \n",
        "\n",
        "arr_l = np.zeros_like(predictions_l)\n",
        "arr_l[np.arange(len(predictions_l)), predictions_l.argmax(1)] = 1 "
      ],
      "execution_count": null,
      "outputs": []
    },
    {
      "cell_type": "code",
      "metadata": {
        "id": "naLDjHiPW1uw"
      },
      "source": [
        "solution = np.hstack((arr, arr_l))"
      ],
      "execution_count": null,
      "outputs": []
    },
    {
      "cell_type": "code",
      "metadata": {
        "id": "mvHlaowXW12S"
      },
      "source": [
        "#just for kaggle submission\n",
        "import pandas\n",
        "\n",
        "final_list = []\n",
        "for i, id in enumerate(solution.astype('int')):\n",
        "  final_list.append([i, ''.join(str(i) for i in id)])\n",
        "  \n",
        "\n",
        "\n",
        "df = pandas.DataFrame(final_list)\n",
        "df.columns = ['# Id','Category']\n",
        "\n",
        "df.to_csv('./submission.csv', index=False)"
      ],
      "execution_count": null,
      "outputs": []
    }
  ]
}