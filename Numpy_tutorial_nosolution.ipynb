{
 "cells": [
  {
   "cell_type": "markdown",
   "metadata": {
    "colab_type": "text",
    "id": "Dxh_j2XBC5VO"
   },
   "source": [
    "<h1 align=center>An Intro to NumPy for Applied Machine Learning</a></h1>\n",
    "<h2 align=center>Wesley Chung (<font size=\"-1\"> built on material by </font> Amy Zhang,Yutong Yan)</h2>"
   ]
  },
  {
   "cell_type": "markdown",
   "metadata": {
    "colab_type": "text",
    "id": "w57U-EMdC5VP"
   },
   "source": [
    "## Outline for Today\n",
    "\n",
    "    \n",
    "- Numpy\n",
    "    - Array creation\n",
    "    - Basic indexing\n",
    "    - Math operations\n",
    "    - Array manipulation\n",
    "    - Random numbers\n",
    "    - Broadcasting\n",
    "    - Advanced indexing\n",
    "    - Saving and loading\n",
    "    - Miscellaneous\n",
    "    - More practice problems\n",
    "   \n",
    "- Matplotlib intro\n",
    "    - Practice problems\n",
    "    "
   ]
  },
  {
   "cell_type": "markdown",
   "metadata": {
    "colab_type": "text",
    "id": "AwU_igFrEn0o"
   },
   "source": [
    "## To create a new notebook:\n",
    " - Click File\n",
    " - Click New Python 3 Notebook"
   ]
  },
  {
   "cell_type": "markdown",
   "metadata": {
    "colab_type": "text",
    "id": "zZFX_lB-C5VP"
   },
   "source": [
    "## Python Versions, Packages, and Notebooks\n",
    "\n",
    "There are two major versions of python, Python2 and Python3. Here we will use **Python 3**.\n",
    "\n",
    "You can check your Python version at the command line by running ```python --version.```\n",
    "\n",
    "For scientific computing, we recommend using the [Anaconda](https://docs.continuum.io/anaconda/) distribution. It comes with most of the basic tools you need (numpy, scipy, matplotlib), and even some ML libraries (tensorflow, theano, scikit-learn). You can download Anaconda distribution [here](https://www.continuum.io/downloads)\n",
    "\n",
    "Anaconda also comes with the Jupyter notebook (used here). You can start a notebook from the command line using ```jupyter notebook```"
   ]
  },
  {
   "cell_type": "markdown",
   "metadata": {
    "colab_type": "text",
    "id": "6Xk9521DC5XX"
   },
   "source": [
    "# Numpy\n",
    "\n",
    "Numpy is a Python library which provides matrix manipulation capabilities and other standard numerical algorithms. Numpy and smart vectorization is the key to fast scientific computing in Python.\n",
    "\n",
    "Let's import numpy first:"
   ]
  },
  {
   "cell_type": "code",
   "execution_count": null,
   "metadata": {
    "colab": {},
    "colab_type": "code",
    "id": "ieK5f5sZC5XY"
   },
   "outputs": [],
   "source": [
    "import numpy as np"
   ]
  },
  {
   "cell_type": "markdown",
   "metadata": {},
   "source": [
    "As an example to see how Numpy can be much more efficient, let's run a quick experiment:"
   ]
  },
  {
   "cell_type": "code",
   "execution_count": null,
   "metadata": {},
   "outputs": [],
   "source": [
    "# Compare the time it takes to compute the sum of a million integers\n",
    "x = list(range(1000000))\n",
    "import time\n",
    "\n",
    "# with vanilla python\n",
    "def sum(lst):\n",
    "    sum = 0\n",
    "    for x in lst:\n",
    "        sum += x\n",
    "    return sum\n",
    "\n",
    "start_time = time.perf_counter()\n",
    "sum(x)\n",
    "print(time.perf_counter() - start_time, 'seconds')\n",
    "\n",
    "# with numpy\n",
    "x_numpy = np.array(x)\n",
    "start_time = time.perf_counter()\n",
    "np.sum(x_numpy)\n",
    "print(time.perf_counter() - start_time, 'seconds')\n"
   ]
  },
  {
   "cell_type": "markdown",
   "metadata": {
    "colab_type": "text",
    "id": "-ImTh5xaC5Xa"
   },
   "source": [
    "## Array creation"
   ]
  },
  {
   "cell_type": "markdown",
   "metadata": {
    "colab_type": "text",
    "id": "20uVHI9sC5Xb"
   },
   "source": [
    "Numpy arrays are usually use to represent multi-dimensional table of numbers. E.g. vectors or matrices.\n",
    "You can create arrays from lists (or tuples):"
   ]
  },
  {
   "cell_type": "code",
   "execution_count": null,
   "metadata": {
    "colab": {
     "base_uri": "https://localhost:8080/",
     "height": 119
    },
    "colab_type": "code",
    "executionInfo": {
     "elapsed": 648,
     "status": "ok",
     "timestamp": 1579556736574,
     "user": {
      "displayName": "Yutong Yan",
      "photoUrl": "https://lh3.googleusercontent.com/a-/AAuE7mCsL-LlMqYWLvFkaFRKbEKS-Sn18SBeWP9pEGFJ=s64",
      "userId": "12381088397448513568"
     },
     "user_tz": 300
    },
    "id": "cDzsaArrC5Xb",
    "outputId": "5bedf55f-7003-457b-c1ff-d66d4c83d092"
   },
   "outputs": [],
   "source": [
    "x = [1.1, 2.0, 3.3, 4.0]\n",
    "print(x)\n",
    "\n",
    "x = np.array(x)\n",
    "print(x)\n",
    "print('shape:', x.shape)\n",
    "print('ndim:', x.ndim)\n",
    "print('dtype:', x.dtype)"
   ]
  },
  {
   "cell_type": "markdown",
   "metadata": {
    "colab_type": "text",
    "id": "PY6MlJEiC5Xf"
   },
   "source": [
    "Similarly, you can define a numpy matrix as:"
   ]
  },
  {
   "cell_type": "code",
   "execution_count": null,
   "metadata": {
    "colab": {
     "base_uri": "https://localhost:8080/",
     "height": 68
    },
    "colab_type": "code",
    "executionInfo": {
     "elapsed": 695,
     "status": "ok",
     "timestamp": 1579556738792,
     "user": {
      "displayName": "Yutong Yan",
      "photoUrl": "https://lh3.googleusercontent.com/a-/AAuE7mCsL-LlMqYWLvFkaFRKbEKS-Sn18SBeWP9pEGFJ=s64",
      "userId": "12381088397448513568"
     },
     "user_tz": 300
    },
    "id": "k_6DDa3YC5Xg",
    "outputId": "9b19621f-f24d-4115-ed28-f4316a527b4a"
   },
   "outputs": [],
   "source": [
    "X = np.array([[1,2,3], \n",
    "              [4,5,6]])  # nested lists\n",
    "print(X)\n",
    "print('shape:', X.shape)\n",
    "print('ndim:', X.ndim)\n",
    "print('dtype:', X.dtype)"
   ]
  },
  {
   "cell_type": "markdown",
   "metadata": {},
   "source": [
    "There are also special functions to create arrays."
   ]
  },
  {
   "cell_type": "code",
   "execution_count": null,
   "metadata": {
    "colab": {
     "base_uri": "https://localhost:8080/",
     "height": 68
    },
    "colab_type": "code",
    "executionInfo": {
     "elapsed": 987,
     "status": "ok",
     "timestamp": 1579556744691,
     "user": {
      "displayName": "Yutong Yan",
      "photoUrl": "https://lh3.googleusercontent.com/a-/AAuE7mCsL-LlMqYWLvFkaFRKbEKS-Sn18SBeWP9pEGFJ=s64",
      "userId": "12381088397448513568"
     },
     "user_tz": 300
    },
    "id": "WD6cT1OaC5Xk",
    "outputId": "9c9f1fae-f469-4922-a001-1d52b6584002",
    "scrolled": false
   },
   "outputs": [],
   "source": [
    "print(np.zeros((3,3)))  # Create an array of all zeros with shape (3,3)"
   ]
  },
  {
   "cell_type": "code",
   "execution_count": null,
   "metadata": {},
   "outputs": [],
   "source": [
    "print(np.arange(5))  # Creates an array with the same entries as range(5)"
   ]
  },
  {
   "cell_type": "code",
   "execution_count": null,
   "metadata": {},
   "outputs": [],
   "source": [
    "### Practice: Create a 2-dimensional array with shape = (3, 2) from nested lists\n"
   ]
  },
  {
   "cell_type": "code",
   "execution_count": null,
   "metadata": {},
   "outputs": [],
   "source": [
    "### Practice: Create a 3-dimensional array with shape = (2,2,2) from nested lists\n"
   ]
  },
  {
   "cell_type": "markdown",
   "metadata": {
    "colab_type": "text",
    "id": "N3SKXmQ4C5Xq"
   },
   "source": [
    "## Basic indexing \n",
    "\n",
    "We can use a similar syntax as lists to index elements or slices."
   ]
  },
  {
   "cell_type": "code",
   "execution_count": null,
   "metadata": {
    "colab": {
     "base_uri": "https://localhost:8080/",
     "height": 34
    },
    "colab_type": "code",
    "executionInfo": {
     "elapsed": 807,
     "status": "ok",
     "timestamp": 1579556851711,
     "user": {
      "displayName": "Yutong Yan",
      "photoUrl": "https://lh3.googleusercontent.com/a-/AAuE7mCsL-LlMqYWLvFkaFRKbEKS-Sn18SBeWP9pEGFJ=s64",
      "userId": "12381088397448513568"
     },
     "user_tz": 300
    },
    "id": "QJ1s1SP7C5Xr",
    "outputId": "c208244f-05bf-41a4-e409-feccdfd0b34b"
   },
   "outputs": [],
   "source": [
    "X = np.array([[1,2,3], \n",
    "              [4,5,6],\n",
    "              [7,8,9]])\n",
    "print(X)\n",
    "\n",
    "# accessing an element; Matrix[row,column]\n",
    "X[0,0]"
   ]
  },
  {
   "cell_type": "code",
   "execution_count": null,
   "metadata": {
    "colab": {
     "base_uri": "https://localhost:8080/",
     "height": 34
    },
    "colab_type": "code",
    "executionInfo": {
     "elapsed": 766,
     "status": "ok",
     "timestamp": 1579556854127,
     "user": {
      "displayName": "Yutong Yan",
      "photoUrl": "https://lh3.googleusercontent.com/a-/AAuE7mCsL-LlMqYWLvFkaFRKbEKS-Sn18SBeWP9pEGFJ=s64",
      "userId": "12381088397448513568"
     },
     "user_tz": 300
    },
    "id": "0cLZlVPRC5Xu",
    "outputId": "73b069e1-6295-4c76-bc4f-5dd4d0a9e53f"
   },
   "outputs": [],
   "source": [
    "# selecting the last row\n",
    "print(X[-1])"
   ]
  },
  {
   "cell_type": "code",
   "execution_count": null,
   "metadata": {
    "colab": {
     "base_uri": "https://localhost:8080/",
     "height": 68
    },
    "colab_type": "code",
    "executionInfo": {
     "elapsed": 517,
     "status": "ok",
     "timestamp": 1579556855893,
     "user": {
      "displayName": "Yutong Yan",
      "photoUrl": "https://lh3.googleusercontent.com/a-/AAuE7mCsL-LlMqYWLvFkaFRKbEKS-Sn18SBeWP9pEGFJ=s64",
      "userId": "12381088397448513568"
     },
     "user_tz": 300
    },
    "id": "vCk-zRuIC5Xx",
    "outputId": "c0bd8da2-5fd4-4bc0-88cd-b5143a4eef32"
   },
   "outputs": [],
   "source": [
    "# Selecting all rows except the first and select all columns:\n",
    "print(X[1:, :])"
   ]
  },
  {
   "cell_type": "code",
   "execution_count": null,
   "metadata": {},
   "outputs": [],
   "source": [
    "# Note: it's preferable to use X[0,0] instead of X[0][0]\n",
    "# because the latter creates an intermediate object for X[0] first\n",
    "# even though they produce the same output"
   ]
  },
  {
   "cell_type": "code",
   "execution_count": null,
   "metadata": {},
   "outputs": [],
   "source": [
    "### Practice: Select the elements in the first two columns and second row.\n"
   ]
  },
  {
   "cell_type": "markdown",
   "metadata": {
    "colab_type": "text",
    "id": "Gl9tevcDC5X9"
   },
   "source": [
    "## Math operations"
   ]
  },
  {
   "cell_type": "code",
   "execution_count": null,
   "metadata": {
    "colab": {
     "base_uri": "https://localhost:8080/",
     "height": 119
    },
    "colab_type": "code",
    "executionInfo": {
     "elapsed": 535,
     "status": "ok",
     "timestamp": 1579556887619,
     "user": {
      "displayName": "Yutong Yan",
      "photoUrl": "https://lh3.googleusercontent.com/a-/AAuE7mCsL-LlMqYWLvFkaFRKbEKS-Sn18SBeWP9pEGFJ=s64",
      "userId": "12381088397448513568"
     },
     "user_tz": 300
    },
    "id": "9BVK3OY5C5X-",
    "outputId": "ad29a56f-361d-4799-8e8d-63e8bda9c0e2"
   },
   "outputs": [],
   "source": [
    "# By default, operations are done elementwise \n",
    "x = np.array([[1,2],[3,4]], dtype=np.float64)\n",
    "y = np.array([[5,6],[7,8]], dtype=np.float64)\n",
    "\n",
    "# Elementwise sum; both produce the array\n",
    "print (\"x + y = \\n\", x + y)\n",
    "print (\"np.add(x, y) = \\n\", np.add(x, y))"
   ]
  },
  {
   "cell_type": "code",
   "execution_count": null,
   "metadata": {},
   "outputs": [],
   "source": [
    "# Numpy has many standard mathematical operations\n",
    "print(\"x * y\\n\", x * y)\n",
    "print(\"x / y\\n\", x / y)\n",
    "print(\"x % y\\n\", x % y)\n",
    "print(\"sqrt(x)\\n\", np.sqrt(x))\n",
    "print(\"exp(x)\\n\", np.exp(x))"
   ]
  },
  {
   "cell_type": "markdown",
   "metadata": {
    "colab_type": "text",
    "id": "wX2h6RqTC5YC"
   },
   "source": [
    "Use the ```dot``` function to compute inner products of vectors, to multiply a vector by a matrix, and to multiply matrices. The behaviour depends on the arguments."
   ]
  },
  {
   "cell_type": "code",
   "execution_count": null,
   "metadata": {},
   "outputs": [],
   "source": [
    "# For vectors, dot() computes the dot product\n",
    "a = np.array([1,2,3])\n",
    "b = np.array([4,5,6])\n",
    "print(np.dot(a,b))  \n"
   ]
  },
  {
   "cell_type": "code",
   "execution_count": null,
   "metadata": {
    "colab": {
     "base_uri": "https://localhost:8080/",
     "height": 119
    },
    "colab_type": "code",
    "executionInfo": {
     "elapsed": 783,
     "status": "ok",
     "timestamp": 1579556901566,
     "user": {
      "displayName": "Yutong Yan",
      "photoUrl": "https://lh3.googleusercontent.com/a-/AAuE7mCsL-LlMqYWLvFkaFRKbEKS-Sn18SBeWP9pEGFJ=s64",
      "userId": "12381088397448513568"
     },
     "user_tz": 300
    },
    "id": "JW_6VkUzC5YC",
    "outputId": "a4cff93e-3bdb-47a7-8043-93e00e816387"
   },
   "outputs": [],
   "source": [
    "# For 2-d matrices, dot() is matrix multiplication\n",
    "x = np.array([[1,2],[3,4]])\n",
    "y = np.array([[5,6],[7,8]])\n",
    "\n",
    "print (\"x.dot(y)= \\n\", x.dot(y))\n",
    "print (\"np.dot(x,y)= \\n\", np.dot(x, y))\n",
    "\n",
    "# you can also use matmul() to multiply 2-d matrices.\n",
    "print(\"np.matmul(x,y)= \\n\", np.matmul(x,y))"
   ]
  },
  {
   "cell_type": "markdown",
   "metadata": {
    "colab_type": "text",
    "id": "EJSw9EncC5YE"
   },
   "source": [
    "Of course, dimensions must match"
   ]
  },
  {
   "cell_type": "code",
   "execution_count": null,
   "metadata": {
    "colab": {
     "base_uri": "https://localhost:8080/",
     "height": 266
    },
    "colab_type": "code",
    "executionInfo": {
     "elapsed": 633,
     "status": "error",
     "timestamp": 1579556906554,
     "user": {
      "displayName": "Yutong Yan",
      "photoUrl": "https://lh3.googleusercontent.com/a-/AAuE7mCsL-LlMqYWLvFkaFRKbEKS-Sn18SBeWP9pEGFJ=s64",
      "userId": "12381088397448513568"
     },
     "user_tz": 300
    },
    "id": "iyzGsS6kC5YE",
    "outputId": "2d392c71-83fe-4f6f-8c85-38c94affdfd4",
    "scrolled": true
   },
   "outputs": [],
   "source": [
    "x2 = np.array([[1,2], [1,2]])\n",
    "print (\"np.shape(x2) = \", np.shape(x2))\n",
    "y2 = np.array([[1,2,3],[1,2,3],[1,2,3]])\n",
    "print (\"np.shape(y2) = \", np.shape(y2))\n",
    "np.dot(x2,y2)"
   ]
  },
  {
   "cell_type": "markdown",
   "metadata": {},
   "source": [
    "Numpy also has other (very useful!) mathematical functions."
   ]
  },
  {
   "cell_type": "code",
   "execution_count": null,
   "metadata": {},
   "outputs": [],
   "source": [
    "x = np.array([[1, 2, 3, 4]])\n",
    "\n",
    "# We take the sum of the elements\n",
    "print(np.sum(x))\n",
    "print(x.sum())"
   ]
  },
  {
   "cell_type": "code",
   "execution_count": null,
   "metadata": {},
   "outputs": [],
   "source": [
    "# We can specify which axis (dimension) to apply the functions to\n",
    "y = np.array([[1, 2, 3],\n",
    "              [4, 5, 6],\n",
    "              [7, 8, 9]])\n",
    "\n",
    "print(np.sum(y, axis=0))  # sum each column\n",
    "print(np.sum(y, axis=1))  # sum each row\n"
   ]
  },
  {
   "cell_type": "code",
   "execution_count": null,
   "metadata": {},
   "outputs": [],
   "source": [
    "# Other examples\n",
    "print(np.max(y, axis=0))\n",
    "print(np.argmax(y, axis=0)) # the index corresponding to the max\n",
    "print(np.mean(y, axis=0)) \n",
    "print(np.std(y, axis=0))  # standard deviation\n"
   ]
  },
  {
   "cell_type": "code",
   "execution_count": null,
   "metadata": {},
   "outputs": [],
   "source": [
    "### Practice: Compute the difference between the maximum and minimum values for each row of x.\n",
    "x = np.array([[1, 0, 0],\n",
    "              [1, 3, 5],\n",
    "              [7, 4, 7]])\n"
   ]
  },
  {
   "cell_type": "markdown",
   "metadata": {},
   "source": [
    "Practice: Compute the quadratic form $x^\\top A x$ where $x$ is a (column) vector and $A$ is a matrix. The result should be a scalar."
   ]
  },
  {
   "cell_type": "code",
   "execution_count": null,
   "metadata": {},
   "outputs": [],
   "source": [
    "x = np.array([1,2,3])\n",
    "A = np.array([[1, 2, 3],\n",
    "              [4, 5, 6],\n",
    "              [7, 8, 9]])\n",
    "# Compute the result for this x and A\n"
   ]
  },
  {
   "cell_type": "markdown",
   "metadata": {},
   "source": [
    "## Array manipulation \n",
    "There are several functions that allow us to modify the shape of arrays or combine multiple arrays."
   ]
  },
  {
   "cell_type": "markdown",
   "metadata": {},
   "source": [
    "```reshape()``` is a common function to use. \n",
    "It creates a new array with the specified shape (as long as it's compatible). It fills entries in starting from the last axis. i.e. if we were assigning elements with for loops, the innermost for loop corresponds to the last axis.\n"
   ]
  },
  {
   "cell_type": "code",
   "execution_count": null,
   "metadata": {
    "colab": {
     "base_uri": "https://localhost:8080/",
     "height": 170
    },
    "colab_type": "code",
    "executionInfo": {
     "elapsed": 730,
     "status": "ok",
     "timestamp": 1579557086147,
     "user": {
      "displayName": "Yutong Yan",
      "photoUrl": "https://lh3.googleusercontent.com/a-/AAuE7mCsL-LlMqYWLvFkaFRKbEKS-Sn18SBeWP9pEGFJ=s64",
      "userId": "12381088397448513568"
     },
     "user_tz": 300
    },
    "id": "AaucrAVF7eX8",
    "outputId": "21bc83aa-49c1-4b24-cdd0-c427adef9cae"
   },
   "outputs": [],
   "source": [
    "x = np.arange(10)\n",
    "print(x)\n",
    "print(\"shape:\", x.shape)\n",
    "x = x.reshape(5,2)\n",
    "print(x)\n",
    "print(\"shape:\", x.shape)\n",
    "\n",
    "x = x.reshape(2,5)\n",
    "print(x)\n",
    "print(\"shape:\", x.shape)"
   ]
  },
  {
   "cell_type": "code",
   "execution_count": null,
   "metadata": {},
   "outputs": [],
   "source": [
    "# you can include a -1 in one dimension when using reshape() \n",
    "# and it will automatically infer the size\n",
    "x = x.reshape(5, -1)\n",
    "print(x)\n",
    "print(\"shape:\", x.shape)\n",
    "\n",
    "x = x.reshape(-1, 1)\n",
    "print(x)\n",
    "print(\"shape:\", x.shape)"
   ]
  },
  {
   "cell_type": "code",
   "execution_count": null,
   "metadata": {},
   "outputs": [],
   "source": [
    "# A couple of other useful array manipulations \n",
    "x = np.array([[1,2],[3,4]], dtype=np.float64)\n",
    "x = x.reshape((1, 2, 2, 1))\n",
    "print (\"shape:\", x.shape)\n",
    "print (x)\n",
    "y = np.array([[5,6],[7,8]], dtype=np.float64)\n",
    "\n",
    "# Squeeze() removes single-dimensional entries from the shape of an array\n",
    "x = np.squeeze(x)\n",
    "print (\"shape:\", x.shape)\n",
    "print (np.dot(x, y))"
   ]
  },
  {
   "cell_type": "code",
   "execution_count": null,
   "metadata": {
    "colab": {
     "base_uri": "https://localhost:8080/",
     "height": 170
    },
    "colab_type": "code",
    "executionInfo": {
     "elapsed": 653,
     "status": "ok",
     "timestamp": 1579557130177,
     "user": {
      "displayName": "Yutong Yan",
      "photoUrl": "https://lh3.googleusercontent.com/a-/AAuE7mCsL-LlMqYWLvFkaFRKbEKS-Sn18SBeWP9pEGFJ=s64",
      "userId": "12381088397448513568"
     },
     "user_tz": 300
    },
    "id": "mXmlllYnC5YG",
    "outputId": "71bbbb10-9b8d-4799-81d0-c771015984a1",
    "scrolled": true
   },
   "outputs": [],
   "source": [
    "# transpose\n",
    "x_transp = x.T\n",
    "print (\"x = \\n\", x)\n",
    "print (\"x_transp = \\n\",x_transp)\n"
   ]
  },
  {
   "cell_type": "markdown",
   "metadata": {},
   "source": [
    "We often want to combine two arrays together. For this, ```concatenate``` or ```stack``` can usually be used to do the job."
   ]
  },
  {
   "cell_type": "code",
   "execution_count": null,
   "metadata": {
    "colab": {
     "base_uri": "https://localhost:8080/",
     "height": 85
    },
    "colab_type": "code",
    "executionInfo": {
     "elapsed": 640,
     "status": "ok",
     "timestamp": 1579557483218,
     "user": {
      "displayName": "Yutong Yan",
      "photoUrl": "https://lh3.googleusercontent.com/a-/AAuE7mCsL-LlMqYWLvFkaFRKbEKS-Sn18SBeWP9pEGFJ=s64",
      "userId": "12381088397448513568"
     },
     "user_tz": 300
    },
    "id": "BLwJRnelWWcf",
    "outputId": "f445fe27-3681-4959-b068-df91a5b4c69f"
   },
   "outputs": [],
   "source": [
    "# concatenate() merges a list of arrays along an existing axis\n",
    "x = np.array([[1, 2], [3, 4]])\n",
    "y = np.array([[5, 6], [7, 8]])\n",
    "\n",
    "a = np.concatenate((x, y), axis = 0)\n",
    "print (a, a.shape)\n"
   ]
  },
  {
   "cell_type": "code",
   "execution_count": null,
   "metadata": {
    "scrolled": true
   },
   "outputs": [],
   "source": [
    "# stack() merges a list of arrays along a new axis\n",
    "\n",
    "b = np.stack((x, y), axis=0)\n",
    "print (b, b.shape)"
   ]
  },
  {
   "cell_type": "markdown",
   "metadata": {},
   "source": [
    "There are also other more specialized functions like ```vstack``` (which stacks vertically), ```hstack```, ```column_stack```, etc. See the documentation for more details."
   ]
  },
  {
   "cell_type": "code",
   "execution_count": null,
   "metadata": {},
   "outputs": [],
   "source": [
    "### Practice: Given two matrices, merge them along their rows. \n",
    "A = np.arange(10).reshape(2, 5)\n",
    "B = np.arange(4).reshape(2, 2)\n",
    "\n"
   ]
  },
  {
   "cell_type": "code",
   "execution_count": null,
   "metadata": {},
   "outputs": [],
   "source": [
    "### Practice: Given a matrix A, append a row x to it.\n",
    "A = np.arange(10).reshape(2,5)\n",
    "x = np.ones(5)\n",
    "\n"
   ]
  },
  {
   "cell_type": "code",
   "execution_count": null,
   "metadata": {},
   "outputs": [],
   "source": [
    "### Practice: Given three vectors, combine them into a matrix which has the vectors as rows.\n",
    "# Repeat the same thing with vectors as columns\n",
    "x = np.array([1,2,3])\n",
    "y = np.array([4,5,6])\n",
    "z = np.array([7,8,9])\n",
    "\n"
   ]
  },
  {
   "cell_type": "markdown",
   "metadata": {},
   "source": [
    "## Random numbers\n",
    "Numpy can be used to generate random numbers and contains other helpful functions"
   ]
  },
  {
   "cell_type": "code",
   "execution_count": null,
   "metadata": {
    "colab": {
     "base_uri": "https://localhost:8080/",
     "height": 85
    },
    "colab_type": "code",
    "executionInfo": {
     "elapsed": 704,
     "status": "ok",
     "timestamp": 1579556818849,
     "user": {
      "displayName": "Yutong Yan",
      "photoUrl": "https://lh3.googleusercontent.com/a-/AAuE7mCsL-LlMqYWLvFkaFRKbEKS-Sn18SBeWP9pEGFJ=s64",
      "userId": "12381088397448513568"
     },
     "user_tz": 300
    },
    "id": "Sv4Q2bbG62RP",
    "outputId": "aef9a561-251f-44d3-c001-fc44dc0963fc",
    "scrolled": true
   },
   "outputs": [],
   "source": [
    "# random integers from 0 to 9\n",
    "X = np.random.randint(10, size = (4, 4))  \n",
    "print (X)"
   ]
  },
  {
   "cell_type": "code",
   "execution_count": null,
   "metadata": {
    "colab": {
     "base_uri": "https://localhost:8080/",
     "height": 85
    },
    "colab_type": "code",
    "executionInfo": {
     "elapsed": 439,
     "status": "ok",
     "timestamp": 1579556849710,
     "user": {
      "displayName": "Yutong Yan",
      "photoUrl": "https://lh3.googleusercontent.com/a-/AAuE7mCsL-LlMqYWLvFkaFRKbEKS-Sn18SBeWP9pEGFJ=s64",
      "userId": "12381088397448513568"
     },
     "user_tz": 300
    },
    "id": "kxnzrdsLC5Xo",
    "outputId": "d71b1807-b636-4d47-b3c0-c2f28cc17473",
    "scrolled": true
   },
   "outputs": [],
   "source": [
    "# independent Gaussian-distributed random numbers with mean 0 and standard deviation 1\n",
    "X = np.random.normal(0, 1, size=(3,3))\n",
    "print (X)"
   ]
  },
  {
   "cell_type": "code",
   "execution_count": null,
   "metadata": {},
   "outputs": [],
   "source": [
    "# independent uniformly-distributed random numbers from 0 to 1\n",
    "X = np.random.uniform(0, 1, size=(3,3))\n",
    "print(X)"
   ]
  },
  {
   "cell_type": "markdown",
   "metadata": {},
   "source": [
    "We often want reproducible results to make debugging easier and for consistency. \n",
    "To make random numbers reproducible, we can set a random seed beforehand.\n",
    "\n",
    "A random seed can be thought of as an initialization for the random number generator.\n",
    "In Numpy, there is a global random seed, which can be set using np.random.seed()."
   ]
  },
  {
   "cell_type": "code",
   "execution_count": null,
   "metadata": {
    "colab": {
     "base_uri": "https://localhost:8080/",
     "height": 102
    },
    "colab_type": "code",
    "executionInfo": {
     "elapsed": 304,
     "status": "ok",
     "timestamp": 1579557538964,
     "user": {
      "displayName": "Yutong Yan",
      "photoUrl": "https://lh3.googleusercontent.com/a-/AAuE7mCsL-LlMqYWLvFkaFRKbEKS-Sn18SBeWP9pEGFJ=s64",
      "userId": "12381088397448513568"
     },
     "user_tz": 300
    },
    "id": "UTueQ3aD9nth",
    "outputId": "47bace75-570b-48ab-c60d-b742d7093afe"
   },
   "outputs": [],
   "source": [
    "# Set the random seed first\n",
    "np.random.seed(0)\n",
    "print(np.random.randint(1, 100, size=5)) # generate 5 random integers from 1 to 100\n",
    "\n",
    "np.random.seed(0) # we reset the seed to be the same as before\n",
    "print(np.random.randint(1, 100, size=5)) "
   ]
  },
  {
   "cell_type": "code",
   "execution_count": null,
   "metadata": {
    "colab": {
     "base_uri": "https://localhost:8080/",
     "height": 102
    },
    "colab_type": "code",
    "executionInfo": {
     "elapsed": 454,
     "status": "ok",
     "timestamp": 1579557605006,
     "user": {
      "displayName": "Yutong Yan",
      "photoUrl": "https://lh3.googleusercontent.com/a-/AAuE7mCsL-LlMqYWLvFkaFRKbEKS-Sn18SBeWP9pEGFJ=s64",
      "userId": "12381088397448513568"
     },
     "user_tz": 300
    },
    "id": "TkrIol1c-Dgx",
    "outputId": "278cf560-eaa2-4b02-e81e-f63d0a767f4d"
   },
   "outputs": [],
   "source": [
    "# without a resetting the random seed\n",
    "np.random.seed(0)\n",
    "print(np.random.randint(1, 100, size=5))\n",
    "\n",
    "# Didn't reset random seed \n",
    "print(np.random.randint(1, 100, size=5))"
   ]
  },
  {
   "cell_type": "code",
   "execution_count": null,
   "metadata": {},
   "outputs": [],
   "source": [
    "# You can also shuffle an array \n",
    "x = np.arange(10)\n",
    "np.random.shuffle(x)\n",
    "print(x)  \n",
    "# Note that shuffle() works in-place, no new array is created"
   ]
  },
  {
   "cell_type": "code",
   "execution_count": null,
   "metadata": {},
   "outputs": [],
   "source": [
    "### Practice: Given two arrays, shuffle each of them so that they match.\n",
    "x = np.arange(10)\n",
    "y = np.arange(10)\n",
    "\n",
    "print(x)\n",
    "print(y)"
   ]
  },
  {
   "cell_type": "code",
   "execution_count": null,
   "metadata": {},
   "outputs": [],
   "source": [
    "### Practice:\n",
    "# Suppose we want to generate a random number as follows. \n",
    "# First, we toss a fair coin.\n",
    "# If it lands heads, we output a number from a Gaussian distribution with mean 0 and standard dev 2\n",
    "# If it lands tails, we output a number from a Gaussian distribution with mean 3 and standard dev 1\n",
    "# Write a function (with no argument) that generates a random number from the described distribution.\n",
    "\n",
    "# Note: this kind of distribution is called a _mixture_ distribution \n",
    "\n",
    "def rand():\n",
    "    \n",
    "    return\n",
    "\n",
    "print(rand())\n"
   ]
  },
  {
   "cell_type": "code",
   "execution_count": null,
   "metadata": {},
   "outputs": [],
   "source": [
    "### Practice (harder) (read Advanced indexing before doing this one)\n",
    "# Write a function that accepts an argument N and \n",
    "# generates a vector of length N of independent random numbers according to the previous mixture distribution \n",
    "# (without using loops) \n",
    "def rand(N):\n",
    "    \n",
    "    return\n",
    "\n",
    "print(rand(10))"
   ]
  },
  {
   "cell_type": "markdown",
   "metadata": {},
   "source": [
    "## Broadcasting\n",
    "\n",
    "Broadcasting is a powerful feature of Numpy but it can also be a source of many headaches. \n",
    "It allows operations between arrays of different shapes without having to explicitly reshape them."
   ]
  },
  {
   "cell_type": "code",
   "execution_count": null,
   "metadata": {},
   "outputs": [],
   "source": [
    "# First, an example\n",
    "x = np.array([1,2,3])\n",
    "c = np.array(2)\n",
    "\n",
    "# broadcasting allows us to multiply an array by a scalar (even though the shapes don't match!)\n",
    "print(x * c)"
   ]
  },
  {
   "cell_type": "code",
   "execution_count": null,
   "metadata": {},
   "outputs": [],
   "source": [
    "# Broadcasting is automatically attempted when doing operations with two arrays with different shapes\n",
    "# Two rules of broadcasting:\n",
    "# 1. If the number of dimensions is not the same, then a 1 is appended to the beginning of \n",
    "#    the shape of the smaller array\n",
    "# 2. Once the number of dimensions match, all dimensions with a size of 1 act as if they \n",
    "#    had the size of the larger array. Along that dimension, the smaller array is repeated.\n"
   ]
  },
  {
   "cell_type": "code",
   "execution_count": null,
   "metadata": {},
   "outputs": [],
   "source": [
    "A = np.arange(9).reshape(3,3)\n",
    "x = np.array([1,10,100])\n",
    "print(A)\n",
    "print(x)\n",
    "print(A.shape)\n",
    "print(x.shape)"
   ]
  },
  {
   "cell_type": "code",
   "execution_count": null,
   "metadata": {},
   "outputs": [],
   "source": [
    "## Say we want to compute A * x \n",
    "# The shapes of A and x don't match, so broadcasting is tried\n",
    "# Lining up the dimensions from the right-side we have\n",
    "# A.shape =   3, 3\n",
    "# x.shape =      3\n",
    "\n",
    "# Since the dimensions don't match, broadcasting rule 1 first prepends a dimension to x.shape of size 1\n",
    "# A.shape                =   3, 3\n",
    "# broadcast_x_temp.shape =   1, 3\n",
    "\n",
    "# broadcasting rule 2 then copies the array along the first axis so that the dimensions match\n",
    "# A.shape           =   3, 3\n",
    "# broadcast_x.shape =   3, 3\n",
    "# Note: internally, Numpy is smart enough not to make actual copies and consume memory\n",
    "\n",
    "# Finally, we multiply A and broadcast_x elementwise"
   ]
  },
  {
   "cell_type": "code",
   "execution_count": null,
   "metadata": {},
   "outputs": [],
   "source": [
    "print(A * x)"
   ]
  },
  {
   "cell_type": "code",
   "execution_count": null,
   "metadata": {},
   "outputs": [],
   "source": [
    "# More examples (think about the output before running)\n",
    "print(A - x)  "
   ]
  },
  {
   "cell_type": "code",
   "execution_count": null,
   "metadata": {},
   "outputs": [],
   "source": [
    "print(x - A)"
   ]
  },
  {
   "cell_type": "code",
   "execution_count": null,
   "metadata": {},
   "outputs": [],
   "source": [
    "# broadcasting can also happen on multiple dimensions at once\n",
    "x = np.array([1,2,3])\n",
    "y = np.array([1,10,100]).reshape(3,1) \n",
    "print(x)\n",
    "print(y)\n",
    "print(\"x.shape:\", x.shape)\n",
    "print(\"y.shape:\", y.shape)"
   ]
  },
  {
   "cell_type": "code",
   "execution_count": null,
   "metadata": {},
   "outputs": [],
   "source": [
    "# What is x * y? \n",
    "print(x * y)"
   ]
  },
  {
   "cell_type": "code",
   "execution_count": null,
   "metadata": {},
   "outputs": [],
   "source": [
    "# First, broadcast rule 1 applies to x and adds a dimension so that it has shape (1,3)\n",
    "# Then broadcast rule 2 applies and makes copies along the dimensions with size 1.\n",
    "\n",
    "# So we have that \n",
    "x_broadcast = np.array([[1,2,3],\n",
    "                        [1,2,3],\n",
    "                        [1,2,3]])\n",
    "y_broadcast = np.array([[1,   1,   1],\n",
    "                        [10,  10,  10],\n",
    "                        [100, 100, 100]])\n",
    "print(x_broadcast * y_broadcast)\n",
    "\n",
    "# Note that this is the outer product of x and y"
   ]
  },
  {
   "cell_type": "markdown",
   "metadata": {},
   "source": [
    "**Dangers of broadcasting**\n",
    "\n",
    "Sometimes bugs can arise due to unintentional broadcasting.\n",
    "Say we have a ($n \\times n$) matrix $A$ and $n$-dimensional vectors $x$ and $b$. \n",
    "\n",
    "We want to compute $Ax + b$. \n",
    "We expect a vector of dimension $n$ as the output."
   ]
  },
  {
   "cell_type": "code",
   "execution_count": null,
   "metadata": {},
   "outputs": [],
   "source": [
    "## attempt 1\n",
    "A = np.arange(9).reshape(3,3)\n",
    "x = np.array([1, 2, 3])\n",
    "b = np.array([10, 20, 30])\n",
    "\n",
    "print(np.dot(A, x) + b)\n"
   ]
  },
  {
   "cell_type": "markdown",
   "metadata": {},
   "source": [
    "This is indeed the correct result. But what if $x$ was a column-vector instead?"
   ]
  },
  {
   "cell_type": "code",
   "execution_count": null,
   "metadata": {
    "scrolled": false
   },
   "outputs": [],
   "source": [
    "## attempt 2\n",
    "A = np.arange(9).reshape(3,3)\n",
    "x = np.array([1, 2, 3]).reshape(3,1) # column vector\n",
    "b = np.array([10, 20, 30])\n",
    "\n",
    "print(np.dot(A, x) + b)"
   ]
  },
  {
   "cell_type": "code",
   "execution_count": null,
   "metadata": {
    "scrolled": false
   },
   "outputs": [],
   "source": [
    "# That's not right... we get a 3x3 matrix instead of a vector of size 3!\n",
    "# Let's check the shapes\n",
    "print(np.dot(A, x).shape)\n",
    "print(np.dot(A,x))"
   ]
  },
  {
   "cell_type": "markdown",
   "metadata": {},
   "source": [
    "Since b has shape ```(3,)```, it is being broadcast to a shape ```(1,3)``` to match the number of dimensions of ```np.dot(A,x)```. \n",
    "So, ```np.dot(A, x) + b``` is an outer sum instead of an elementwise sum.\n",
    "\n",
    "Unfortunately, this bug doesn't throw an error, so it may be difficult to spot in your code. \n",
    "To avoid this, carefully check the shapes of the arrays you use!\n",
    "\n",
    "In general, whenever you use broadcasting, check the output carefully to ensure it matches your expectations."
   ]
  },
  {
   "cell_type": "code",
   "execution_count": null,
   "metadata": {},
   "outputs": [],
   "source": [
    "### Practice: Use broadcasting to multiply the i-th column of matrix A by the i-th entry of vector x.\n",
    "### Do the same thing for the i-th row instead.\n",
    "A = np.arange(9).reshape(3,3)\n",
    "x = np.array([1, 10, 100])\n"
   ]
  },
  {
   "cell_type": "markdown",
   "metadata": {
    "colab_type": "text",
    "id": "42v6Zla8C5X2"
   },
   "source": [
    "## Advanced indexing\n",
    "There are two more advanced forms of indexing that can be useful to manipulate matrices.\n",
    "\n",
    "**Indexing using boolean formulas**\n",
    "\n",
    "This comes in handy for picking out elements from an array satisfying some condition.\n",
    "To do this, we need to pass a boolean array with the same shape as the matrix you want to index."
   ]
  },
  {
   "cell_type": "code",
   "execution_count": null,
   "metadata": {},
   "outputs": [],
   "source": [
    "X = np.arange(9).reshape(3,3)\n",
    "choice = np.array([[True, True, False],\n",
    "                   [True, False, True],\n",
    "                   [False, False, False]])\n",
    "print(X)"
   ]
  },
  {
   "cell_type": "code",
   "execution_count": null,
   "metadata": {},
   "outputs": [],
   "source": [
    "print(X[choice])"
   ]
  },
  {
   "cell_type": "code",
   "execution_count": null,
   "metadata": {
    "colab": {
     "base_uri": "https://localhost:8080/",
     "height": 85
    },
    "colab_type": "code",
    "executionInfo": {
     "elapsed": 591,
     "status": "ok",
     "timestamp": 1579556872951,
     "user": {
      "displayName": "Yutong Yan",
      "photoUrl": "https://lh3.googleusercontent.com/a-/AAuE7mCsL-LlMqYWLvFkaFRKbEKS-Sn18SBeWP9pEGFJ=s64",
      "userId": "12381088397448513568"
     },
     "user_tz": 300
    },
    "id": "YdGLA2nrC5X2",
    "outputId": "94c3551e-e662-4fa9-e870-1baf15a5aafb"
   },
   "outputs": [],
   "source": [
    "# A more practical way is to create Boolean arrays through a condition \n",
    "X < 5 # creates a boolean array (using broadcasting)"
   ]
  },
  {
   "cell_type": "code",
   "execution_count": null,
   "metadata": {
    "colab": {
     "base_uri": "https://localhost:8080/",
     "height": 51
    },
    "colab_type": "code",
    "executionInfo": {
     "elapsed": 621,
     "status": "ok",
     "timestamp": 1579556879297,
     "user": {
      "displayName": "Yutong Yan",
      "photoUrl": "https://lh3.googleusercontent.com/a-/AAuE7mCsL-LlMqYWLvFkaFRKbEKS-Sn18SBeWP9pEGFJ=s64",
      "userId": "12381088397448513568"
     },
     "user_tz": 300
    },
    "id": "ZWPNK14NC5X5",
    "outputId": "02a74326-26ed-463b-cbe5-81dc6a29a7a8"
   },
   "outputs": [],
   "source": [
    "X[X < 5] # select all elements that are less than 5"
   ]
  },
  {
   "cell_type": "code",
   "execution_count": null,
   "metadata": {
    "scrolled": true
   },
   "outputs": [],
   "source": [
    "## This is useful to change certain elements of an array \n",
    "# For example, setting all elements less than 5 to 0\n",
    "X[X < 5] = 0\n",
    "print(X)"
   ]
  },
  {
   "cell_type": "code",
   "execution_count": null,
   "metadata": {},
   "outputs": [],
   "source": [
    "# You can also use the OR operator (&) and the AND operator (|) for more flexibility\n",
    "# For example, selecting elements less than 5 or equal to 8\n",
    "X = np.arange(9).reshape(3,3)\n",
    "print(X[(X< 5) | (X == 8)])\n",
    "\n",
    "# Note: Use parentheses since the OR operator has precedence over comparisons"
   ]
  },
  {
   "cell_type": "code",
   "execution_count": null,
   "metadata": {},
   "outputs": [],
   "source": [
    "### Practice: Set the entries in X that are even and greater than 3 to 0\n",
    "X = np.arange(9).reshape(3,3)\n",
    "\n",
    "\n",
    "\n",
    "print(X)"
   ]
  },
  {
   "cell_type": "code",
   "execution_count": null,
   "metadata": {},
   "outputs": [],
   "source": [
    "### Practice: \n",
    "X = np.random.uniform(-1, 1, size=(3,3))\n",
    "print(X)\n",
    "### Set all entries in X whose squared value is less than 0.5 to 0.\n",
    "\n",
    "print(X)"
   ]
  },
  {
   "cell_type": "markdown",
   "metadata": {},
   "source": [
    "**Indexing with arrays of indices**\n",
    "\n",
    "As an extension to basic indexing, you pass an array of indices to get multiple elements from an array.\n"
   ]
  },
  {
   "cell_type": "code",
   "execution_count": null,
   "metadata": {},
   "outputs": [],
   "source": [
    "x = np.arange(10) * 2 \n",
    "print(x)\n",
    "\n",
    "idx = np.array([3, 2, 7, 3])\n",
    "print(x[idx]) \n",
    "# note that there can be repeated indices"
   ]
  },
  {
   "cell_type": "code",
   "execution_count": null,
   "metadata": {},
   "outputs": [],
   "source": [
    "# We can also have an array of indices with multiple dimensions\n",
    "idx = np.array([[3, 2], \n",
    "                [7, 3]])\n",
    "print(x[idx])"
   ]
  },
  {
   "cell_type": "code",
   "execution_count": null,
   "metadata": {
    "scrolled": true
   },
   "outputs": [],
   "source": [
    "### Practice: Output a vector where we select the first element twice then the last element twice\n",
    "x = np.array([1,3,5,7,2,4,6,8])\n",
    "\n",
    "idx = None\n",
    "print(x[idx])\n"
   ]
  },
  {
   "cell_type": "code",
   "execution_count": null,
   "metadata": {},
   "outputs": [],
   "source": [
    "### Practice: Output a 2x2 marix where the first row contains the second element twice\n",
    "# and the second row contains the fourth element twice\n",
    "x = np.array([1,3,5,7,2,4,6,8])\n",
    "\n",
    "idx = None\n",
    "\n",
    "print(x[idx])"
   ]
  },
  {
   "cell_type": "code",
   "execution_count": null,
   "metadata": {
    "scrolled": true
   },
   "outputs": [],
   "source": [
    "# This type of indexing can be used with multi-dimensional arrays too \n",
    "\n",
    "# for example\n",
    "x = np.arange(9).reshape(3,3)\n",
    "idx = np.array([0,2,0])\n",
    "\n",
    "# we can select row 0, row 1, then row 0 again.\n",
    "print(x[idx])"
   ]
  },
  {
   "cell_type": "code",
   "execution_count": null,
   "metadata": {},
   "outputs": [],
   "source": [
    "# You can also index individually entries. \n",
    "# To do so, for each dimension, you need to have an indexing array of the same size\n",
    "\n",
    "x = np.arange(9).reshape(3,3)\n",
    "idx1 = np.array([0, 1, 2, 2])\n",
    "idx2 = np.array([0, 0, 1, 2])\n",
    "\n",
    "print(x)\n",
    "print(x[idx1, idx2])  \n",
    "# the elements correspond to x[0,0], x[1,0], x[2,1], x[2,2]"
   ]
  },
  {
   "cell_type": "code",
   "execution_count": null,
   "metadata": {},
   "outputs": [],
   "source": [
    "### Practice: \n",
    "x = np.arange(9).reshape(3,3)\n",
    "# Use multidimensional indexing to select entries from x and obtain the output [5, 3, 8, 1]\n"
   ]
  },
  {
   "cell_type": "code",
   "execution_count": null,
   "metadata": {},
   "outputs": [],
   "source": [
    "### Practice: (harder)\n",
    "# Given a 2-d matrix A and a 2-d matrix B with the same shapes, \n",
    "# find the maximum entry in each row of A and select the entry in the same position from B\n",
    "# The output should be a vector of length=(number of rows of A), filled with proper entries from B\n",
    "A = np.array([[0,1,2],\n",
    "              [9,8,7],\n",
    "              [4,6,5]])\n",
    "\n",
    "B = np.array([[1,2,3],\n",
    "              [4,5,6],\n",
    "              [7,8,9]])\n",
    "# For this A and B, the output should be [3, 4, 8]\n"
   ]
  },
  {
   "cell_type": "markdown",
   "metadata": {},
   "source": [
    "See [indexing](https://numpy.org/doc/stable/user/basics.indexing.html) for more details and more complex forms of indexing.\n"
   ]
  },
  {
   "cell_type": "markdown",
   "metadata": {
    "heading_collapsed": true
   },
   "source": [
    "## Saving and Loading\n",
    "\n",
    "Saving and loading numpy arrays is easily done with built-in functions."
   ]
  },
  {
   "cell_type": "code",
   "execution_count": null,
   "metadata": {
    "hidden": true
   },
   "outputs": [],
   "source": [
    "X = np.arange(16).reshape(4,4)\n",
    "np.save(\"my_array.npy\", X)"
   ]
  },
  {
   "cell_type": "code",
   "execution_count": null,
   "metadata": {
    "hidden": true,
    "scrolled": false
   },
   "outputs": [],
   "source": [
    "X = None\n",
    "Y = np.load(\"my_array.npy\")\n",
    "print(Y)"
   ]
  },
  {
   "cell_type": "markdown",
   "metadata": {
    "hidden": true
   },
   "source": [
    "Loading from text files is also possible. Check the documentation for [loadtxt()](https://numpy.org/doc/stable/reference/generated/numpy.loadtxt.html)."
   ]
  },
  {
   "cell_type": "markdown",
   "metadata": {},
   "source": [
    "## Other useful things\n"
   ]
  },
  {
   "cell_type": "markdown",
   "metadata": {},
   "source": [
    "Boolean arrays and ```sum()``` can be used together to obtain the number of *True* entries.\n",
    "This is because True and False are treated as 1 and 0 respectively when used with arithmetic operations."
   ]
  },
  {
   "cell_type": "code",
   "execution_count": null,
   "metadata": {},
   "outputs": [],
   "source": [
    "b = np.array([True, True, False, True])\n",
    "print(np.sum(b))"
   ]
  },
  {
   "cell_type": "code",
   "execution_count": null,
   "metadata": {},
   "outputs": [],
   "source": [
    "### Practice: Compute the proportion of indexes with matching entries between two vectors x and y.\n",
    "x = np.array([1,2,3, 1,2,3, 1,2,3])\n",
    "y = np.array([1,2,3, 4,5,4, 3,2,1])\n"
   ]
  },
  {
   "cell_type": "markdown",
   "metadata": {},
   "source": [
    "Numpy can solve systems of linear equations.\n",
    "For an $(n \\times n)$ matrix $A$ and a $n$-dimensional vector $b$,\n",
    "we want to solve for $x$ that satisfies $Ax = b$.\n"
   ]
  },
  {
   "cell_type": "code",
   "execution_count": null,
   "metadata": {
    "colab": {
     "base_uri": "https://localhost:8080/",
     "height": 85
    },
    "colab_type": "code",
    "executionInfo": {
     "elapsed": 629,
     "status": "ok",
     "timestamp": 1579557318195,
     "user": {
      "displayName": "Yutong Yan",
      "photoUrl": "https://lh3.googleusercontent.com/a-/AAuE7mCsL-LlMqYWLvFkaFRKbEKS-Sn18SBeWP9pEGFJ=s64",
      "userId": "12381088397448513568"
     },
     "user_tz": 300
    },
    "id": "ZzZ2MEKk8dbr",
    "outputId": "05e69e0a-4996-438c-e86c-374f4387b8e1",
    "scrolled": true
   },
   "outputs": [],
   "source": [
    "np.random.seed(0)\n",
    "\n",
    "A = np.random.randint(5, size=(2, 2))\n",
    "b = np.random.random((2, 1))\n",
    "\n",
    "x = np.linalg.solve(A, b)  \n",
    "\n",
    "print (x)\n",
    "print (np.linalg.inv(A).dot(b)) #A_inv b\n",
    "\n",
    "# In this case, you should avoid inverting A since linalg.solve() is more numerically-stable (and faster)"
   ]
  },
  {
   "cell_type": "markdown",
   "metadata": {},
   "source": [
    "Numpy has other functionality that is helpful including finding eigenvalues and matrix decompositions. It's worth doing a search if you have some common task to do, Numpy may already have it!"
   ]
  },
  {
   "cell_type": "markdown",
   "metadata": {},
   "source": [
    "## More problems"
   ]
  },
  {
   "cell_type": "markdown",
   "metadata": {},
   "source": [
    "We often represent data as a matrix. Each column corresponds to a feature and each row is one example. \n",
    "For example, we could have data about furniture.  \n",
    "Suppose our features are \"weight (kg)\", \"height (cm)\", \"price ($)\" and each row represents one piece of furniture."
   ]
  },
  {
   "cell_type": "code",
   "execution_count": null,
   "metadata": {},
   "outputs": [],
   "source": [
    "# We let X_furniture represent our matrix of data\n",
    "X_furniture = np.array([[12.2, 50,  57.0],\n",
    "                        [46.1, 163, 150.0],\n",
    "                        [5.5, 12,  20.0],\n",
    "                        [26.7, 145, 77.0],\n",
    "                        [33.8, 27, 46.0]])\n",
    "print(X_furniture)\n",
    "print(X_furniture.dtype)"
   ]
  },
  {
   "cell_type": "code",
   "execution_count": null,
   "metadata": {},
   "outputs": [],
   "source": [
    "# We often want to extract some summary statistics form the data. \n",
    "### Practice: Compute the minimum, maximum, median of each column (feature)\n"
   ]
  },
  {
   "cell_type": "code",
   "execution_count": null,
   "metadata": {},
   "outputs": [],
   "source": [
    "# We may compute other quantities to explore the data\n",
    "### Practice: Compute the proportion of furniture objects that have a pricer higher than the average price.\n"
   ]
  },
  {
   "cell_type": "code",
   "execution_count": null,
   "metadata": {},
   "outputs": [],
   "source": [
    "# Sometimes, we would like to transform a feature before using a model. \n",
    "### Practicem: Apply the logarithm transformation to the first feature (weight in kg) \n",
    "# More precisely, for entry X[i,0], we want to transform it to log(X[i,0])  \n",
    "X = X_furniture.copy()  # make a copy so we don't change the original data\n",
    "\n",
    "print(X)\n"
   ]
  },
  {
   "cell_type": "code",
   "execution_count": null,
   "metadata": {},
   "outputs": [],
   "source": [
    "# We may need to modify the data to account for other factors.\n",
    "### Practice: Suppose there is a discount on the first three items of 50%, modify the prices accordingly\n",
    "X = X_furniture.copy() \n",
    "\n",
    "print(X)"
   ]
  },
  {
   "cell_type": "code",
   "execution_count": null,
   "metadata": {},
   "outputs": [],
   "source": [
    "### Practice: \n",
    "# Suppose the discount of 50% is different and now applies to items weighing at least 20kg, modify the prices.\n",
    "X = X_furniture.copy() \n",
    "\n",
    "print(X)"
   ]
  },
  {
   "cell_type": "code",
   "execution_count": null,
   "metadata": {},
   "outputs": [],
   "source": [
    "# A common preprocessing step is normalizing the data. \n",
    "# To do this, we compute the mean and standard deviation of each feature.\n",
    "# After, for each entry in the matrix, we subtract the mean and then divide by the standard deviation \n",
    "# corresponding to that feature. \n",
    "\n",
    "# x_normalized = x - mean_x_feature / std_x_feature  \n",
    "# where x is the original value, mean_x_feature is the average of that feature's value across examples, \n",
    "# and std_x_feature is the standard deviation of that feature's value across examples\n",
    "\n",
    "### Practice question: Normalize the data.\n",
    "# Hint: Use broadcasting for a simple solution (one line)\n",
    "X = X_furniture.copy()\n",
    "\n"
   ]
  },
  {
   "cell_type": "code",
   "execution_count": null,
   "metadata": {},
   "outputs": [],
   "source": [
    "# For simple machine learning models (e.g. linear regression), to improve their performance, \n",
    "# we can create new features from existing ones \n",
    "\n",
    "### Practice problem: Add a new feature (column) to the data matrix which corresponds to price per kg \n",
    "# i.e. price divided by weight.\n",
    "X = X_furniture.copy()\n"
   ]
  },
  {
   "cell_type": "markdown",
   "metadata": {
    "colab_type": "text",
    "id": "_uZrIwp7C5YK"
   },
   "source": [
    "# MatplotLib\n",
    "\n",
    "Matplotlib is a plotting library. As usual, we import it first  "
   ]
  },
  {
   "cell_type": "code",
   "execution_count": null,
   "metadata": {
    "colab": {},
    "colab_type": "code",
    "id": "F4M69U2eC5YK"
   },
   "outputs": [],
   "source": [
    "import matplotlib.pyplot as plt"
   ]
  },
  {
   "cell_type": "code",
   "execution_count": null,
   "metadata": {
    "colab": {},
    "colab_type": "code",
    "id": "7aW-qKl0C5YL"
   },
   "outputs": [],
   "source": [
    "%matplotlib inline"
   ]
  },
  {
   "cell_type": "markdown",
   "metadata": {
    "colab_type": "text",
    "id": "6iQx7JwSC5YN"
   },
   "source": [
    "Use the ```plot``` function to plot the 2D data."
   ]
  },
  {
   "cell_type": "code",
   "execution_count": null,
   "metadata": {
    "colab": {
     "base_uri": "https://localhost:8080/",
     "height": 295
    },
    "colab_type": "code",
    "executionInfo": {
     "elapsed": 763,
     "status": "ok",
     "timestamp": 1579557672863,
     "user": {
      "displayName": "Yutong Yan",
      "photoUrl": "https://lh3.googleusercontent.com/a-/AAuE7mCsL-LlMqYWLvFkaFRKbEKS-Sn18SBeWP9pEGFJ=s64",
      "userId": "12381088397448513568"
     },
     "user_tz": 300
    },
    "id": "785Ygz4VC5YO",
    "outputId": "773f350f-9859-4bf7-d11b-0f5f6bcbe194"
   },
   "outputs": [],
   "source": [
    "plt.title(\"My Plot\")\n",
    "#x is 0, 1, 2, 3\n",
    "plt.plot([1,2,3,4])\n",
    "plt.ylabel('some numbers')\n",
    "plt.xlabel('some numbers')\n",
    "plt.savefig('a.pdf')\n",
    "plt.show()"
   ]
  },
  {
   "cell_type": "markdown",
   "metadata": {
    "colab_type": "text",
    "id": "LP3vb2pcC5YP"
   },
   "source": [
    "The format of plot function is (x-axis values, y-axis values, style)"
   ]
  },
  {
   "cell_type": "code",
   "execution_count": null,
   "metadata": {
    "colab": {
     "base_uri": "https://localhost:8080/",
     "height": 286
    },
    "colab_type": "code",
    "executionInfo": {
     "elapsed": 487,
     "status": "ok",
     "timestamp": 1579557676665,
     "user": {
      "displayName": "Yutong Yan",
      "photoUrl": "https://lh3.googleusercontent.com/a-/AAuE7mCsL-LlMqYWLvFkaFRKbEKS-Sn18SBeWP9pEGFJ=s64",
      "userId": "12381088397448513568"
     },
     "user_tz": 300
    },
    "id": "BQ2LV4x7C5YR",
    "outputId": "fb1f25c4-7ffd-4e94-81e0-8ea826fc61db"
   },
   "outputs": [],
   "source": [
    "plt.plot([1,2,3,4], [1,4,9,16], 'b--') # Here b means red, -- means the type of line\n",
    "plt.xlim(0,6) # changes the default axis length\n",
    "plt.ylim(0,20)"
   ]
  },
  {
   "cell_type": "markdown",
   "metadata": {
    "colab_type": "text",
    "id": "RrFv2UD3C5YT"
   },
   "source": [
    "You can also plot multiple curves "
   ]
  },
  {
   "cell_type": "code",
   "execution_count": null,
   "metadata": {
    "colab": {
     "base_uri": "https://localhost:8080/",
     "height": 295
    },
    "colab_type": "code",
    "executionInfo": {
     "elapsed": 798,
     "status": "ok",
     "timestamp": 1579557686560,
     "user": {
      "displayName": "Yutong Yan",
      "photoUrl": "https://lh3.googleusercontent.com/a-/AAuE7mCsL-LlMqYWLvFkaFRKbEKS-Sn18SBeWP9pEGFJ=s64",
      "userId": "12381088397448513568"
     },
     "user_tz": 300
    },
    "id": "0fH1LvT7C5YT",
    "outputId": "dfe5e7f9-cbf2-46fa-8e04-537919e778cd"
   },
   "outputs": [],
   "source": [
    "t = np.arange(0., 5., 0.2)\n",
    "\n",
    "plt.plot(t, t, 'r--')\n",
    "plt.plot(t, t**2, 'bs')\n",
    "plt.plot(t, t**3, 'g^')\n",
    "\n",
    "plt.xlabel('x axis label')\n",
    "plt.ylabel('y axis label')\n",
    "plt.title('Curves')\n",
    "plt.legend(['t', 't**2', 't**3'])\n",
    "plt.show()"
   ]
  },
  {
   "cell_type": "markdown",
   "metadata": {
    "colab_type": "text",
    "id": "61Iv18yPC5YV"
   },
   "source": [
    "You can plot different curves in the same figure using the ```subplot``` function. "
   ]
  },
  {
   "cell_type": "code",
   "execution_count": null,
   "metadata": {
    "colab": {
     "base_uri": "https://localhost:8080/",
     "height": 265
    },
    "colab_type": "code",
    "executionInfo": {
     "elapsed": 749,
     "status": "ok",
     "timestamp": 1579557689824,
     "user": {
      "displayName": "Yutong Yan",
      "photoUrl": "https://lh3.googleusercontent.com/a-/AAuE7mCsL-LlMqYWLvFkaFRKbEKS-Sn18SBeWP9pEGFJ=s64",
      "userId": "12381088397448513568"
     },
     "user_tz": 300
    },
    "id": "0IVySDy0C5YV",
    "outputId": "4fa38516-f714-46dd-d134-9c19f2203b19"
   },
   "outputs": [],
   "source": [
    "def f(t):\n",
    "    return np.exp(-t) * np.cos(2*np.pi*t)\n",
    "\n",
    "t1 = np.arange(0.0, 5.0, 0.1)\n",
    "t2 = np.arange(0.0, 5.0, 0.02)\n",
    "\n",
    "plt.figure(figsize = (5, 4))\n",
    "plt.subplot(211)\n",
    "plt.plot(t1, f(t1), 'bo', t2, f(t2), 'k')\n",
    "\n",
    "plt.subplot(212)\n",
    "plt.plot(t2, np.cos(2*np.pi*t2), 'r--')\n",
    "\n",
    "plt.show()"
   ]
  },
  {
   "cell_type": "code",
   "execution_count": null,
   "metadata": {
    "colab": {
     "base_uri": "https://localhost:8080/",
     "height": 311
    },
    "colab_type": "code",
    "executionInfo": {
     "elapsed": 711,
     "status": "ok",
     "timestamp": 1579557973108,
     "user": {
      "displayName": "Yutong Yan",
      "photoUrl": "https://lh3.googleusercontent.com/a-/AAuE7mCsL-LlMqYWLvFkaFRKbEKS-Sn18SBeWP9pEGFJ=s64",
      "userId": "12381088397448513568"
     },
     "user_tz": 300
    },
    "id": "EZpj0syH_UFC",
    "outputId": "18c79fad-5c0a-429a-8534-8fcda7718750"
   },
   "outputs": [],
   "source": [
    "# Group the plots nicely\n",
    "# Taken from https://matplotlib.org/devdocs/gallery/subplots_axes_and_figures/subplots_demo.html\n",
    "x = np.linspace(0, 2 * np.pi, 400)\n",
    "y = np.sin(x ** 2)\n",
    "\n",
    "fig, axs = plt.subplots(2)\n",
    "fig.suptitle('Vertically stacked subplots')\n",
    "axs[0].plot(x, y)\n",
    "axs[1].plot(x, -y)"
   ]
  },
  {
   "cell_type": "code",
   "execution_count": null,
   "metadata": {
    "colab": {
     "base_uri": "https://localhost:8080/",
     "height": 311
    },
    "colab_type": "code",
    "executionInfo": {
     "elapsed": 965,
     "status": "ok",
     "timestamp": 1579558011203,
     "user": {
      "displayName": "Yutong Yan",
      "photoUrl": "https://lh3.googleusercontent.com/a-/AAuE7mCsL-LlMqYWLvFkaFRKbEKS-Sn18SBeWP9pEGFJ=s64",
      "userId": "12381088397448513568"
     },
     "user_tz": 300
    },
    "id": "-CDZgs_T_nA1",
    "outputId": "f1f55280-5633-4250-f64b-cc770014e8e9"
   },
   "outputs": [],
   "source": [
    "fig, (ax1, ax2) = plt.subplots(2, sharex=True)\n",
    "fig.suptitle('Aligning x-axis using sharex')\n",
    "ax1.plot(x, y)\n",
    "ax2.plot(x + 1, -y)"
   ]
  },
  {
   "cell_type": "code",
   "execution_count": null,
   "metadata": {
    "colab": {
     "base_uri": "https://localhost:8080/",
     "height": 294
    },
    "colab_type": "code",
    "executionInfo": {
     "elapsed": 1375,
     "status": "ok",
     "timestamp": 1579557978572,
     "user": {
      "displayName": "Yutong Yan",
      "photoUrl": "https://lh3.googleusercontent.com/a-/AAuE7mCsL-LlMqYWLvFkaFRKbEKS-Sn18SBeWP9pEGFJ=s64",
      "userId": "12381088397448513568"
     },
     "user_tz": 300
    },
    "id": "samBVjTE_d4i",
    "outputId": "041a5ccf-3b35-4a3e-9916-0b5e2afe74c8"
   },
   "outputs": [],
   "source": [
    "fig, ((ax1, ax2), (ax3, ax4)) = plt.subplots(2, 2)\n",
    "fig.suptitle('Sharing x per column, y per row')\n",
    "ax1.plot(x, y)\n",
    "ax2.plot(x, y**2, 'tab:orange')\n",
    "ax3.plot(x, -y, 'tab:green')\n",
    "ax4.plot(x, -y**2, 'tab:red')\n",
    "\n",
    "for ax in fig.get_axes():\n",
    "    ax.label_outer()"
   ]
  },
  {
   "cell_type": "markdown",
   "metadata": {
    "colab_type": "text",
    "id": "uZDYOYm1C5YY"
   },
   "source": [
    "### More reading\n",
    "\n",
    "\n",
    "http://matplotlib.org/users/pyplot_tutorial.html"
   ]
  },
  {
   "cell_type": "markdown",
   "metadata": {
    "colab_type": "text",
    "id": "lP0-W_OIZWam"
   },
   "source": [
    "## Practice"
   ]
  },
  {
   "cell_type": "markdown",
   "metadata": {
    "colab_type": "text",
    "id": "bvzJHdSyc2nF"
   },
   "source": [
    "### 1."
   ]
  },
  {
   "cell_type": "markdown",
   "metadata": {
    "colab_type": "text",
    "id": "H93Y94RegNro"
   },
   "source": [
    "Plot a sin function as well as noise corrupted data from this sin function (add a small random perturbation). "
   ]
  },
  {
   "cell_type": "code",
   "execution_count": null,
   "metadata": {
    "colab": {
     "base_uri": "https://localhost:8080/",
     "height": 281
    },
    "colab_type": "code",
    "executionInfo": {
     "elapsed": 795,
     "status": "ok",
     "timestamp": 1579558101666,
     "user": {
      "displayName": "Yutong Yan",
      "photoUrl": "https://lh3.googleusercontent.com/a-/AAuE7mCsL-LlMqYWLvFkaFRKbEKS-Sn18SBeWP9pEGFJ=s64",
      "userId": "12381088397448513568"
     },
     "user_tz": 300
    },
    "id": "PldtdbE7gU_p",
    "outputId": "4d646c50-f38d-4935-d80b-2133afc6b2ee"
   },
   "outputs": [],
   "source": []
  },
  {
   "cell_type": "markdown",
   "metadata": {
    "colab_type": "text",
    "id": "Qf6KUtPWpoOR"
   },
   "source": [
    "### 2."
   ]
  },
  {
   "cell_type": "markdown",
   "metadata": {
    "colab_type": "text",
    "id": "vYeCgjhLpqWy"
   },
   "source": [
    "Hard(er) problem for plotting using matplotlib"
   ]
  },
  {
   "cell_type": "markdown",
   "metadata": {
    "colab_type": "text",
    "id": "ahLe-TqQpwJ4"
   },
   "source": [
    "Plot the decision boundary for a circle of radius 2"
   ]
  },
  {
   "cell_type": "code",
   "execution_count": null,
   "metadata": {
    "colab": {
     "base_uri": "https://localhost:8080/",
     "height": 295
    },
    "colab_type": "code",
    "executionInfo": {
     "elapsed": 1129,
     "status": "ok",
     "timestamp": 1579558275315,
     "user": {
      "displayName": "Yutong Yan",
      "photoUrl": "https://lh3.googleusercontent.com/a-/AAuE7mCsL-LlMqYWLvFkaFRKbEKS-Sn18SBeWP9pEGFJ=s64",
      "userId": "12381088397448513568"
     },
     "user_tz": 300
    },
    "id": "9XD8ZeYkppmR",
    "outputId": "9bd3820f-f7ba-4e68-cb25-914455a46250"
   },
   "outputs": [],
   "source": []
  }
 ],
 "metadata": {
  "colab": {
   "collapsed_sections": [
    "D1NensvkC5VT",
    "t1EC4vAjC5V3",
    "E3Ng-kX0C5V4",
    "eHRyEpuHC5WX",
    "0HiEcQkgC5Wd",
    "jy33OnpgC5Wi",
    "iUzecZb9C5Wj",
    "zAd_wOcHC5Wp",
    "mPGl_pBzC5XB",
    "gJfks7prC5XH",
    "6Xk9521DC5XX",
    "-ImTh5xaC5Xa",
    "_uZrIwp7C5YK",
    "uZDYOYm1C5YY",
    "lP0-W_OIZWam"
   ],
   "name": "Python_Tutorial.ipynb",
   "provenance": []
  },
  "kernelspec": {
   "display_name": "Python 3",
   "language": "python",
   "name": "python3"
  },
  "language_info": {
   "codemirror_mode": {
    "name": "ipython",
    "version": 3
   },
   "file_extension": ".py",
   "mimetype": "text/x-python",
   "name": "python",
   "nbconvert_exporter": "python",
   "pygments_lexer": "ipython3",
   "version": "3.7.6"
  },
  "varInspector": {
   "cols": {
    "lenName": 16,
    "lenType": 16,
    "lenVar": 40
   },
   "kernels_config": {
    "python": {
     "delete_cmd_postfix": "",
     "delete_cmd_prefix": "del ",
     "library": "var_list.py",
     "varRefreshCmd": "print(var_dic_list())"
    },
    "r": {
     "delete_cmd_postfix": ") ",
     "delete_cmd_prefix": "rm(",
     "library": "var_list.r",
     "varRefreshCmd": "cat(var_dic_list()) "
    }
   },
   "types_to_exclude": [
    "module",
    "function",
    "builtin_function_or_method",
    "instance",
    "_Feature"
   ],
   "window_display": false
  }
 },
 "nbformat": 4,
 "nbformat_minor": 1
}
